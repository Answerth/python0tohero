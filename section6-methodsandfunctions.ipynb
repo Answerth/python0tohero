{
 "cells": [
  {
   "cell_type": "code",
   "execution_count": 1,
   "metadata": {},
   "outputs": [],
   "source": [
    "# section 6"
   ]
  },
  {
   "cell_type": "code",
   "execution_count": 8,
   "metadata": {},
   "outputs": [
    {
     "data": {
      "text/plain": [
       "[1, 2, 3, 4]"
      ]
     },
     "execution_count": 8,
     "metadata": {},
     "output_type": "execute_result"
    }
   ],
   "source": [
    "mylist = [1,2,3]\n",
    "mylist.append(4)\n",
    "mylist"
   ]
  },
  {
   "cell_type": "code",
   "execution_count": 9,
   "metadata": {},
   "outputs": [
    {
     "data": {
      "text/plain": [
       "[1, 2, 3]"
      ]
     },
     "execution_count": 9,
     "metadata": {},
     "output_type": "execute_result"
    }
   ],
   "source": [
    "mylist.pop()\n",
    "mylist"
   ]
  },
  {
   "cell_type": "code",
   "execution_count": 10,
   "metadata": {},
   "outputs": [
    {
     "name": "stdout",
     "output_type": "stream",
     "text": [
      "Help on built-in function insert:\n",
      "\n",
      "insert(index, object, /) method of builtins.list instance\n",
      "    Insert object before index.\n",
      "\n"
     ]
    }
   ],
   "source": [
    "help(mylist.insert)\n"
   ]
  },
  {
   "cell_type": "code",
   "execution_count": 11,
   "metadata": {},
   "outputs": [
    {
     "ename": "SyntaxError",
     "evalue": "EOF while scanning triple-quoted string literal (2897294993.py, line 2)",
     "output_type": "error",
     "traceback": [
      "\u001b[1;36m  Input \u001b[1;32mIn [11]\u001b[1;36m\u001b[0m\n\u001b[1;33m    '''\u001b[0m\n\u001b[1;37m       ^\u001b[0m\n\u001b[1;31mSyntaxError\u001b[0m\u001b[1;31m:\u001b[0m EOF while scanning triple-quoted string literal\n"
     ]
    }
   ],
   "source": [
    "def name_of_function(name):\n",
    "    '''\n",
    "    docstring\n",
    "    multiline comment to explain function\n",
    "    '''\n",
    "    return('hello ' + name)"
   ]
  },
  {
   "cell_type": "code",
   "execution_count": 13,
   "metadata": {},
   "outputs": [
    {
     "name": "stdout",
     "output_type": "stream",
     "text": [
      "3\n"
     ]
    }
   ],
   "source": [
    "def add_function(num1, num2):\n",
    "    return num1+num2\n",
    "\n",
    "result = add_function(1,2)\n",
    "print(result)"
   ]
  },
  {
   "cell_type": "code",
   "execution_count": 14,
   "metadata": {},
   "outputs": [
    {
     "name": "stdout",
     "output_type": "stream",
     "text": [
      "hello\n"
     ]
    }
   ],
   "source": [
    "def say_hello():\n",
    "    print('hello')\n",
    "say_hello()"
   ]
  },
  {
   "cell_type": "code",
   "execution_count": 16,
   "metadata": {},
   "outputs": [
    {
     "name": "stdout",
     "output_type": "stream",
     "text": [
      "Hello Default\n"
     ]
    }
   ],
   "source": [
    "def say_hello(name='Default'):\n",
    "    print(f'Hello {name}')\n",
    "say_hello()"
   ]
  },
  {
   "cell_type": "code",
   "execution_count": 17,
   "metadata": {},
   "outputs": [
    {
     "data": {
      "text/plain": [
       "30"
      ]
     },
     "execution_count": 17,
     "metadata": {},
     "output_type": "execute_result"
    }
   ],
   "source": [
    "def add_num(num1, num2):\n",
    "    return num1 + num2\n",
    "result = add_num(10,20)\n",
    "result"
   ]
  },
  {
   "cell_type": "code",
   "execution_count": 18,
   "metadata": {},
   "outputs": [],
   "source": [
    "def print_result(a,b):\n",
    "    print(a+b)"
   ]
  },
  {
   "cell_type": "code",
   "execution_count": 19,
   "metadata": {},
   "outputs": [],
   "source": [
    "def return_result(a,b):\n",
    "    return a+b"
   ]
  },
  {
   "cell_type": "code",
   "execution_count": 24,
   "metadata": {},
   "outputs": [
    {
     "name": "stdout",
     "output_type": "stream",
     "text": [
      "30\n"
     ]
    },
    {
     "data": {
      "text/plain": [
       "NoneType"
      ]
     },
     "execution_count": 24,
     "metadata": {},
     "output_type": "execute_result"
    }
   ],
   "source": [
    "#does not assign function output to variable\n",
    "result = print_result(10,20)\n",
    "type(result)"
   ]
  },
  {
   "cell_type": "code",
   "execution_count": 27,
   "metadata": {},
   "outputs": [
    {
     "data": {
      "text/plain": [
       "int"
      ]
     },
     "execution_count": 27,
     "metadata": {},
     "output_type": "execute_result"
    }
   ],
   "source": [
    "result = return_result(10,20)\n",
    "type(result)"
   ]
  },
  {
   "cell_type": "code",
   "execution_count": 30,
   "metadata": {},
   "outputs": [
    {
     "data": {
      "text/plain": [
       "False"
      ]
     },
     "execution_count": 30,
     "metadata": {},
     "output_type": "execute_result"
    }
   ],
   "source": [
    "def even_check(number):\n",
    "    return number % 2 == 0\n",
    "    \n",
    "even_check(3)"
   ]
  },
  {
   "cell_type": "code",
   "execution_count": 37,
   "metadata": {},
   "outputs": [
    {
     "data": {
      "text/plain": [
       "True"
      ]
     },
     "execution_count": 37,
     "metadata": {},
     "output_type": "execute_result"
    }
   ],
   "source": [
    "#return true if any number is even inside of a list\n",
    "def check_even_list(num_list):\n",
    "    for number in num_list:\n",
    "        if number % 2 == 0:\n",
    "            return True\n",
    "        else: \n",
    "            pass\n",
    "    return False\n",
    "check_even_list([1,3,2])"
   ]
  },
  {
   "cell_type": "code",
   "execution_count": 42,
   "metadata": {},
   "outputs": [
    {
     "data": {
      "text/plain": [
       "[2, 4]"
      ]
     },
     "execution_count": 42,
     "metadata": {},
     "output_type": "execute_result"
    }
   ],
   "source": [
    "#return all the even numbers in a list\n",
    "\n",
    "def check_even_list(num_list):\n",
    "    #placeholder variables\n",
    "    even_numbers = []\n",
    "    for number in num_list:\n",
    "        if number % 2 == 0:\n",
    "            even_numbers.append(number)\n",
    "            #return True\n",
    "        else: \n",
    "            pass\n",
    "    return even_numbers\n",
    "check_even_list([1,3,2,4])"
   ]
  },
  {
   "cell_type": "code",
   "execution_count": 43,
   "metadata": {},
   "outputs": [
    {
     "name": "stdout",
     "output_type": "stream",
     "text": [
      "220.0\n",
      "440.0\n",
      "110.0\n"
     ]
    }
   ],
   "source": [
    "stock_prices = [('APPL', 200),('GOOG', 400), ('MSFT', 100)]\n",
    "for ticker, price in stock_prices:\n",
    "    print(price+(0.1*price))"
   ]
  },
  {
   "cell_type": "code",
   "execution_count": 49,
   "metadata": {},
   "outputs": [
    {
     "name": "stdout",
     "output_type": "stream",
     "text": [
      "Cassie\n",
      "800\n"
     ]
    }
   ],
   "source": [
    "#tuple unpacking in a for loop\n",
    "\n",
    "work_hours = [('Abby', 100), ('Billy', 400), ('Cassie', 800)]\n",
    "def employee_check(work_hours):\n",
    "    current_max = 0\n",
    "    employee_of_month = ''\n",
    "    \n",
    "    for employee,hours in work_hours:\n",
    "        if hours > current_max:\n",
    "            current_max = hours\n",
    "            employee_of_month = employee\n",
    "        else:\n",
    "            pass\n",
    "    \n",
    "    #Return\n",
    "    return (employee_of_month, current_max)\n",
    "\n",
    "name, hours = employee_check(work_hours)\n",
    "print(name)\n",
    "print(hours)"
   ]
  },
  {
   "cell_type": "code",
   "execution_count": 51,
   "metadata": {},
   "outputs": [
    {
     "data": {
      "text/plain": [
       "[5, 4, 3, 6, 2, 1, 7]"
      ]
     },
     "execution_count": 51,
     "metadata": {},
     "output_type": "execute_result"
    }
   ],
   "source": [
    "example = [1,2,3,4,5,6,7]\n",
    "from random import shuffle \n",
    "shuffle(example)\n",
    "example"
   ]
  },
  {
   "cell_type": "code",
   "execution_count": 53,
   "metadata": {},
   "outputs": [
    {
     "data": {
      "text/plain": [
       "[7, 4, 2, 1, 6, 5, 3]"
      ]
     },
     "execution_count": 53,
     "metadata": {},
     "output_type": "execute_result"
    }
   ],
   "source": [
    "# shuffle doesn't return anything, must create a function to return -> assign it to a varible.\n",
    "# result = shuffle(dataset) will not work\n",
    "def shuffle_list(mylist):\n",
    "    shuffle(mylist)\n",
    "    return(mylist)\n",
    "result = shuffle_list(example)\n",
    "result"
   ]
  },
  {
   "cell_type": "code",
   "execution_count": 55,
   "metadata": {},
   "outputs": [
    {
     "data": {
      "text/plain": [
       "[' ', ' ', 'O']"
      ]
     },
     "execution_count": 55,
     "metadata": {},
     "output_type": "execute_result"
    }
   ],
   "source": [
    "mylist = [' ', 'O', ' ']\n",
    "shuffle_list(mylist)"
   ]
  },
  {
   "cell_type": "code",
   "execution_count": 58,
   "metadata": {},
   "outputs": [
    {
     "data": {
      "text/plain": [
       "2"
      ]
     },
     "execution_count": 58,
     "metadata": {},
     "output_type": "execute_result"
    }
   ],
   "source": [
    "def player_guess():\n",
    "    guess = ''\n",
    "    while guess not in ['0', '1', '2']:\n",
    "        guess = input('pick a number: 0, 1, or 2')\n",
    "    return int(guess)\n",
    "myindex = player_guess()\n",
    "myindex"
   ]
  },
  {
   "cell_type": "code",
   "execution_count": 59,
   "metadata": {},
   "outputs": [],
   "source": [
    "def check_guess(mylist, guess):\n",
    "    if mylist[guess] == 'O':\n",
    "        print('Corrent!')\n",
    "    else:\n",
    "        print('wroooong')\n",
    "        print(mylist)"
   ]
  },
  {
   "cell_type": "code",
   "execution_count": 60,
   "metadata": {},
   "outputs": [
    {
     "name": "stdout",
     "output_type": "stream",
     "text": [
      "wroooong\n",
      "[' ', ' ', 'O']\n"
     ]
    }
   ],
   "source": [
    "# initial list\n",
    "mylist\n",
    "\n",
    "# shuffle list\n",
    "mixedup_list = shuffle_list(mylist)\n",
    "\n",
    "# user guss\n",
    "guess = player_guess()\n",
    "\n",
    "# check guess\n",
    "check_guess(mixedup_list, guess)"
   ]
  },
  {
   "cell_type": "code",
   "execution_count": 156,
   "metadata": {},
   "outputs": [],
   "source": [
    "# practice - rewrite the last script without referring to it\n",
    "from random import shuffle \n",
    "\n",
    "\n",
    "# cup shuffler\n",
    "thecups = [' ', 'O', ' ']\n",
    "\n",
    "def cupshuffler(cups):\n",
    "    shuffle(cups)\n",
    "    return cups\n",
    "#cupshuffler(thecups) # added in review\n",
    "\n",
    "# thecups = cupshuffler(thecups)\n",
    "\n",
    "\n",
    "# persons guess\n",
    "\n",
    "def playerguess():\n",
    "    guess = '' # added in review\n",
    "    while guess not in ['0', '1', '2']:    \n",
    "        guess = input('What is your guess? 1, 2, or 3')\n",
    "    return int(guess)\n",
    "\n",
    "# guess2 = guess()\n",
    "\n",
    "# guess checker\n",
    "\n",
    "def guesschecker(lecups, anyguess): # added inputs\n",
    "    if lecups[anyguess] == 'O':\n",
    "        return \"correct\"\n",
    "    else:\n",
    "        print(\"wrong \\n\")\n",
    "        print(lecups)\n",
    "        \n",
    "\n",
    "# guesschecker()\n",
    "\n",
    "# thecups\n",
    "\n",
    "# mixedcups = cupshuffler(thecups)\n",
    "\n",
    "# guess = playerguess()\n",
    "\n",
    "# guesschecker(mixedup_list, guess)\n"
   ]
  },
  {
   "cell_type": "code",
   "execution_count": 158,
   "metadata": {},
   "outputs": [
    {
     "name": "stdout",
     "output_type": "stream",
     "text": [
      "wrong \n",
      "\n",
      "['O', ' ', ' ']\n"
     ]
    }
   ],
   "source": [
    "# final script\n",
    "thecups\n",
    "\n",
    "mixedcups = cupshuffler(thecups)\n",
    "\n",
    "guess = playerguess()\n",
    "\n",
    "guesschecker(mixedcups, guess)\n"
   ]
  },
  {
   "cell_type": "code",
   "execution_count": 160,
   "metadata": {},
   "outputs": [
    {
     "data": {
      "text/plain": [
       "798.6500000000001"
      ]
     },
     "execution_count": 160,
     "metadata": {},
     "output_type": "execute_result"
    }
   ],
   "source": [
    "# *args and *kwargs\n",
    "\n",
    "def myfunc(*args):\n",
    "    return sum(args) * 0.05\n",
    "myfunc(2,4,5,6,5,4,3,3,4,5,5,6,4,4,4,543,5435,43,543,543,534,534,5,435,43,57,658,5768,768)"
   ]
  },
  {
   "cell_type": "code",
   "execution_count": 162,
   "metadata": {},
   "outputs": [
    {
     "name": "stdout",
     "output_type": "stream",
     "text": [
      "My fruit of choice is apple\n"
     ]
    }
   ],
   "source": [
    "def myfunc(**kwargs):\n",
    "    if 'fruit' in kwargs:\n",
    "        print('My fruit of choice is {}'.format(kwargs['fruit']))\n",
    "    else:\n",
    "        print('no fruit')\n",
    "myfunc(fruit='apple', veggie = 'lettuce')"
   ]
  },
  {
   "cell_type": "code",
   "execution_count": 164,
   "metadata": {},
   "outputs": [
    {
     "name": "stdout",
     "output_type": "stream",
     "text": [
      "(10, 20, 30)\n",
      "{'fruit': 'orange', 'food': 'eggs', 'animal': 'dog'}\n",
      "I would like 10 eggs\n"
     ]
    }
   ],
   "source": [
    "def myfunc(*args, **kwargs):\n",
    "    print(args)\n",
    "    print(kwargs)\n",
    "    print('I would like {} {}'.format(args[0],kwargs['food']))\n",
    "myfunc(10,20,30, fruit = \"orange\", food = \"eggs\", animal = \"dog\")"
   ]
  },
  {
   "cell_type": "code",
   "execution_count": 167,
   "metadata": {},
   "outputs": [
    {
     "data": {
      "text/plain": [
       "[2, 4, 6]"
      ]
     },
     "execution_count": 167,
     "metadata": {},
     "output_type": "execute_result"
    }
   ],
   "source": [
    "def myfunc(*args):\n",
    "    mylist = []\n",
    "    for arg in args:\n",
    "        if arg % 2 == 0:\n",
    "            mylist.append(arg)\n",
    "    return(mylist)\n",
    "    \n",
    "myfunc(2,3,4,5,6)"
   ]
  },
  {
   "cell_type": "code",
   "execution_count": 280,
   "metadata": {},
   "outputs": [
    {
     "data": {
      "text/plain": [
       "'aNtHrOpOmOrPhIsM'"
      ]
     },
     "execution_count": 280,
     "metadata": {},
     "output_type": "execute_result"
    }
   ],
   "source": [
    "def myfunc(statement):\n",
    "    newword = ''\n",
    "    for index, letter in enumerate(statement):   \n",
    "        \n",
    "        if index % 2 == 1:\n",
    "            letter = letter.upper()\n",
    "            newword += letter\n",
    "            \n",
    "        else:\n",
    "            letter = letter.lower()\n",
    "            newword += letter\n",
    "    return(newword)\n",
    "myfunc('anthropomorphism')"
   ]
  },
  {
   "cell_type": "code",
   "execution_count": 292,
   "metadata": {},
   "outputs": [
    {
     "data": {
      "text/plain": [
       "<generator object myfunc2.<locals>.<genexpr> at 0x0000021328C8C5F0>"
      ]
     },
     "execution_count": 292,
     "metadata": {},
     "output_type": "execute_result"
    }
   ],
   "source": [
    "# def myfunc(statement):\n",
    "#     newword = ''\n",
    "#     return(letter for index, letter in enumerate(statement) if index % 2 == 0)\n",
    "\n",
    "# myfunc('Anthropomorphism')"
   ]
  },
  {
   "cell_type": "code",
   "execution_count": 345,
   "metadata": {},
   "outputs": [
    {
     "name": "stdout",
     "output_type": "stream",
     "text": [
      "3 is less than 100\n",
      "appended 3 to primes:\n",
      "[2, 3]\n",
      "added to x, x = 5\n",
      "5 is less than 100\n",
      "3 in range 3-5-2\n",
      "5%3\n",
      "5%3 not == 0\n",
      "appended 5 to primes:\n",
      "[2, 3, 5]\n",
      "added to x, x = 7\n",
      "7 is less than 100\n",
      "3 in range 3-7-2\n",
      "7%3\n",
      "7%3 not == 0\n",
      "5 in range 3-7-2\n",
      "7%5\n",
      "7%5 not == 0\n",
      "appended 7 to primes:\n",
      "[2, 3, 5, 7]\n",
      "added to x, x = 9\n",
      "9 is less than 100\n",
      "3 in range 3-9-2\n",
      "9%3\n",
      "condition true: 9%3 == 0\n",
      "x updated to: 11 because 9%3 == 0\n",
      "11 is less than 100\n",
      "3 in range 3-11-2\n",
      "11%3\n",
      "11%3 not == 0\n",
      "5 in range 3-11-2\n",
      "11%5\n",
      "11%5 not == 0\n",
      "7 in range 3-11-2\n",
      "11%7\n",
      "11%7 not == 0\n",
      "9 in range 3-11-2\n",
      "11%9\n",
      "11%9 not == 0\n",
      "appended 11 to primes:\n",
      "[2, 3, 5, 7, 11]\n",
      "added to x, x = 13\n",
      "13 is less than 100\n",
      "3 in range 3-13-2\n",
      "13%3\n",
      "13%3 not == 0\n",
      "5 in range 3-13-2\n",
      "13%5\n",
      "13%5 not == 0\n",
      "7 in range 3-13-2\n",
      "13%7\n",
      "13%7 not == 0\n",
      "9 in range 3-13-2\n",
      "13%9\n",
      "13%9 not == 0\n",
      "11 in range 3-13-2\n",
      "13%11\n",
      "13%11 not == 0\n",
      "appended 13 to primes:\n",
      "[2, 3, 5, 7, 11, 13]\n",
      "added to x, x = 15\n",
      "15 is less than 100\n",
      "3 in range 3-15-2\n",
      "15%3\n",
      "condition true: 15%3 == 0\n",
      "x updated to: 17 because 15%3 == 0\n",
      "17 is less than 100\n",
      "3 in range 3-17-2\n",
      "17%3\n",
      "17%3 not == 0\n",
      "5 in range 3-17-2\n",
      "17%5\n",
      "17%5 not == 0\n",
      "7 in range 3-17-2\n",
      "17%7\n",
      "17%7 not == 0\n",
      "9 in range 3-17-2\n",
      "17%9\n",
      "17%9 not == 0\n",
      "11 in range 3-17-2\n",
      "17%11\n",
      "17%11 not == 0\n",
      "13 in range 3-17-2\n",
      "17%13\n",
      "17%13 not == 0\n",
      "15 in range 3-17-2\n",
      "17%15\n",
      "17%15 not == 0\n",
      "appended 17 to primes:\n",
      "[2, 3, 5, 7, 11, 13, 17]\n",
      "added to x, x = 19\n",
      "19 is less than 100\n",
      "3 in range 3-19-2\n",
      "19%3\n",
      "19%3 not == 0\n",
      "5 in range 3-19-2\n",
      "19%5\n",
      "19%5 not == 0\n",
      "7 in range 3-19-2\n",
      "19%7\n",
      "19%7 not == 0\n",
      "9 in range 3-19-2\n",
      "19%9\n",
      "19%9 not == 0\n",
      "11 in range 3-19-2\n",
      "19%11\n",
      "19%11 not == 0\n",
      "13 in range 3-19-2\n",
      "19%13\n",
      "19%13 not == 0\n",
      "15 in range 3-19-2\n",
      "19%15\n",
      "19%15 not == 0\n",
      "17 in range 3-19-2\n",
      "19%17\n",
      "19%17 not == 0\n",
      "appended 19 to primes:\n",
      "[2, 3, 5, 7, 11, 13, 17, 19]\n",
      "added to x, x = 21\n",
      "21 is less than 100\n",
      "3 in range 3-21-2\n",
      "21%3\n",
      "condition true: 21%3 == 0\n",
      "x updated to: 23 because 21%3 == 0\n",
      "23 is less than 100\n",
      "3 in range 3-23-2\n",
      "23%3\n",
      "23%3 not == 0\n",
      "5 in range 3-23-2\n",
      "23%5\n",
      "23%5 not == 0\n",
      "7 in range 3-23-2\n",
      "23%7\n",
      "23%7 not == 0\n",
      "9 in range 3-23-2\n",
      "23%9\n",
      "23%9 not == 0\n",
      "11 in range 3-23-2\n",
      "23%11\n",
      "23%11 not == 0\n",
      "13 in range 3-23-2\n",
      "23%13\n",
      "23%13 not == 0\n",
      "15 in range 3-23-2\n",
      "23%15\n",
      "23%15 not == 0\n",
      "17 in range 3-23-2\n",
      "23%17\n",
      "23%17 not == 0\n",
      "19 in range 3-23-2\n",
      "23%19\n",
      "23%19 not == 0\n",
      "21 in range 3-23-2\n",
      "23%21\n",
      "23%21 not == 0\n",
      "appended 23 to primes:\n",
      "[2, 3, 5, 7, 11, 13, 17, 19, 23]\n",
      "added to x, x = 25\n",
      "25 is less than 100\n",
      "3 in range 3-25-2\n",
      "25%3\n",
      "25%3 not == 0\n",
      "5 in range 3-25-2\n",
      "25%5\n",
      "condition true: 25%5 == 0\n",
      "x updated to: 27 because 25%5 == 0\n",
      "27 is less than 100\n",
      "3 in range 3-27-2\n",
      "27%3\n",
      "condition true: 27%3 == 0\n",
      "x updated to: 29 because 27%3 == 0\n",
      "29 is less than 100\n",
      "3 in range 3-29-2\n",
      "29%3\n",
      "29%3 not == 0\n",
      "5 in range 3-29-2\n",
      "29%5\n",
      "29%5 not == 0\n",
      "7 in range 3-29-2\n",
      "29%7\n",
      "29%7 not == 0\n",
      "9 in range 3-29-2\n",
      "29%9\n",
      "29%9 not == 0\n",
      "11 in range 3-29-2\n",
      "29%11\n",
      "29%11 not == 0\n",
      "13 in range 3-29-2\n",
      "29%13\n",
      "29%13 not == 0\n",
      "15 in range 3-29-2\n",
      "29%15\n",
      "29%15 not == 0\n",
      "17 in range 3-29-2\n",
      "29%17\n",
      "29%17 not == 0\n",
      "19 in range 3-29-2\n",
      "29%19\n",
      "29%19 not == 0\n",
      "21 in range 3-29-2\n",
      "29%21\n",
      "29%21 not == 0\n",
      "23 in range 3-29-2\n",
      "29%23\n",
      "29%23 not == 0\n",
      "25 in range 3-29-2\n",
      "29%25\n",
      "29%25 not == 0\n",
      "27 in range 3-29-2\n",
      "29%27\n",
      "29%27 not == 0\n",
      "appended 29 to primes:\n",
      "[2, 3, 5, 7, 11, 13, 17, 19, 23, 29]\n",
      "added to x, x = 31\n",
      "31 is less than 100\n",
      "3 in range 3-31-2\n",
      "31%3\n",
      "31%3 not == 0\n",
      "5 in range 3-31-2\n",
      "31%5\n",
      "31%5 not == 0\n",
      "7 in range 3-31-2\n",
      "31%7\n",
      "31%7 not == 0\n",
      "9 in range 3-31-2\n",
      "31%9\n",
      "31%9 not == 0\n",
      "11 in range 3-31-2\n",
      "31%11\n",
      "31%11 not == 0\n",
      "13 in range 3-31-2\n",
      "31%13\n",
      "31%13 not == 0\n",
      "15 in range 3-31-2\n",
      "31%15\n",
      "31%15 not == 0\n",
      "17 in range 3-31-2\n",
      "31%17\n",
      "31%17 not == 0\n",
      "19 in range 3-31-2\n",
      "31%19\n",
      "31%19 not == 0\n",
      "21 in range 3-31-2\n",
      "31%21\n",
      "31%21 not == 0\n",
      "23 in range 3-31-2\n",
      "31%23\n",
      "31%23 not == 0\n",
      "25 in range 3-31-2\n",
      "31%25\n",
      "31%25 not == 0\n",
      "27 in range 3-31-2\n",
      "31%27\n",
      "31%27 not == 0\n",
      "29 in range 3-31-2\n",
      "31%29\n",
      "31%29 not == 0\n",
      "appended 31 to primes:\n",
      "[2, 3, 5, 7, 11, 13, 17, 19, 23, 29, 31]\n",
      "added to x, x = 33\n",
      "33 is less than 100\n",
      "3 in range 3-33-2\n",
      "33%3\n",
      "condition true: 33%3 == 0\n",
      "x updated to: 35 because 33%3 == 0\n",
      "35 is less than 100\n",
      "3 in range 3-35-2\n",
      "35%3\n",
      "35%3 not == 0\n",
      "5 in range 3-35-2\n",
      "35%5\n",
      "condition true: 35%5 == 0\n",
      "x updated to: 37 because 35%5 == 0\n",
      "37 is less than 100\n",
      "3 in range 3-37-2\n",
      "37%3\n",
      "37%3 not == 0\n",
      "5 in range 3-37-2\n",
      "37%5\n",
      "37%5 not == 0\n",
      "7 in range 3-37-2\n",
      "37%7\n",
      "37%7 not == 0\n",
      "9 in range 3-37-2\n",
      "37%9\n",
      "37%9 not == 0\n",
      "11 in range 3-37-2\n",
      "37%11\n",
      "37%11 not == 0\n",
      "13 in range 3-37-2\n",
      "37%13\n",
      "37%13 not == 0\n",
      "15 in range 3-37-2\n",
      "37%15\n",
      "37%15 not == 0\n",
      "17 in range 3-37-2\n",
      "37%17\n",
      "37%17 not == 0\n",
      "19 in range 3-37-2\n",
      "37%19\n",
      "37%19 not == 0\n",
      "21 in range 3-37-2\n",
      "37%21\n",
      "37%21 not == 0\n",
      "23 in range 3-37-2\n",
      "37%23\n",
      "37%23 not == 0\n",
      "25 in range 3-37-2\n",
      "37%25\n",
      "37%25 not == 0\n",
      "27 in range 3-37-2\n",
      "37%27\n",
      "37%27 not == 0\n",
      "29 in range 3-37-2\n",
      "37%29\n",
      "37%29 not == 0\n",
      "31 in range 3-37-2\n",
      "37%31\n",
      "37%31 not == 0\n",
      "33 in range 3-37-2\n",
      "37%33\n",
      "37%33 not == 0\n",
      "35 in range 3-37-2\n",
      "37%35\n",
      "37%35 not == 0\n",
      "appended 37 to primes:\n",
      "[2, 3, 5, 7, 11, 13, 17, 19, 23, 29, 31, 37]\n",
      "added to x, x = 39\n",
      "39 is less than 100\n",
      "3 in range 3-39-2\n",
      "39%3\n",
      "condition true: 39%3 == 0\n",
      "x updated to: 41 because 39%3 == 0\n",
      "41 is less than 100\n",
      "3 in range 3-41-2\n",
      "41%3\n",
      "41%3 not == 0\n",
      "5 in range 3-41-2\n",
      "41%5\n",
      "41%5 not == 0\n",
      "7 in range 3-41-2\n",
      "41%7\n",
      "41%7 not == 0\n",
      "9 in range 3-41-2\n",
      "41%9\n",
      "41%9 not == 0\n",
      "11 in range 3-41-2\n",
      "41%11\n",
      "41%11 not == 0\n",
      "13 in range 3-41-2\n",
      "41%13\n",
      "41%13 not == 0\n",
      "15 in range 3-41-2\n",
      "41%15\n",
      "41%15 not == 0\n",
      "17 in range 3-41-2\n",
      "41%17\n",
      "41%17 not == 0\n",
      "19 in range 3-41-2\n",
      "41%19\n",
      "41%19 not == 0\n",
      "21 in range 3-41-2\n",
      "41%21\n",
      "41%21 not == 0\n",
      "23 in range 3-41-2\n",
      "41%23\n",
      "41%23 not == 0\n",
      "25 in range 3-41-2\n",
      "41%25\n",
      "41%25 not == 0\n",
      "27 in range 3-41-2\n",
      "41%27\n",
      "41%27 not == 0\n",
      "29 in range 3-41-2\n",
      "41%29\n",
      "41%29 not == 0\n",
      "31 in range 3-41-2\n",
      "41%31\n",
      "41%31 not == 0\n",
      "33 in range 3-41-2\n",
      "41%33\n",
      "41%33 not == 0\n",
      "35 in range 3-41-2\n",
      "41%35\n",
      "41%35 not == 0\n",
      "37 in range 3-41-2\n",
      "41%37\n",
      "41%37 not == 0\n",
      "39 in range 3-41-2\n",
      "41%39\n",
      "41%39 not == 0\n",
      "appended 41 to primes:\n",
      "[2, 3, 5, 7, 11, 13, 17, 19, 23, 29, 31, 37, 41]\n",
      "added to x, x = 43\n",
      "43 is less than 100\n",
      "3 in range 3-43-2\n",
      "43%3\n",
      "43%3 not == 0\n",
      "5 in range 3-43-2\n",
      "43%5\n",
      "43%5 not == 0\n",
      "7 in range 3-43-2\n",
      "43%7\n",
      "43%7 not == 0\n",
      "9 in range 3-43-2\n",
      "43%9\n",
      "43%9 not == 0\n",
      "11 in range 3-43-2\n",
      "43%11\n",
      "43%11 not == 0\n",
      "13 in range 3-43-2\n",
      "43%13\n",
      "43%13 not == 0\n",
      "15 in range 3-43-2\n",
      "43%15\n",
      "43%15 not == 0\n",
      "17 in range 3-43-2\n",
      "43%17\n",
      "43%17 not == 0\n",
      "19 in range 3-43-2\n",
      "43%19\n",
      "43%19 not == 0\n",
      "21 in range 3-43-2\n",
      "43%21\n",
      "43%21 not == 0\n",
      "23 in range 3-43-2\n",
      "43%23\n",
      "43%23 not == 0\n",
      "25 in range 3-43-2\n",
      "43%25\n",
      "43%25 not == 0\n",
      "27 in range 3-43-2\n",
      "43%27\n",
      "43%27 not == 0\n",
      "29 in range 3-43-2\n",
      "43%29\n",
      "43%29 not == 0\n",
      "31 in range 3-43-2\n",
      "43%31\n",
      "43%31 not == 0\n",
      "33 in range 3-43-2\n",
      "43%33\n",
      "43%33 not == 0\n",
      "35 in range 3-43-2\n",
      "43%35\n",
      "43%35 not == 0\n",
      "37 in range 3-43-2\n",
      "43%37\n",
      "43%37 not == 0\n",
      "39 in range 3-43-2\n",
      "43%39\n",
      "43%39 not == 0\n",
      "41 in range 3-43-2\n",
      "43%41\n",
      "43%41 not == 0\n",
      "appended 43 to primes:\n",
      "[2, 3, 5, 7, 11, 13, 17, 19, 23, 29, 31, 37, 41, 43]\n",
      "added to x, x = 45\n",
      "45 is less than 100\n",
      "3 in range 3-45-2\n",
      "45%3\n",
      "condition true: 45%3 == 0\n",
      "x updated to: 47 because 45%3 == 0\n",
      "47 is less than 100\n",
      "3 in range 3-47-2\n",
      "47%3\n",
      "47%3 not == 0\n",
      "5 in range 3-47-2\n",
      "47%5\n",
      "47%5 not == 0\n",
      "7 in range 3-47-2\n",
      "47%7\n",
      "47%7 not == 0\n",
      "9 in range 3-47-2\n",
      "47%9\n",
      "47%9 not == 0\n",
      "11 in range 3-47-2\n",
      "47%11\n",
      "47%11 not == 0\n",
      "13 in range 3-47-2\n",
      "47%13\n",
      "47%13 not == 0\n",
      "15 in range 3-47-2\n",
      "47%15\n",
      "47%15 not == 0\n",
      "17 in range 3-47-2\n",
      "47%17\n",
      "47%17 not == 0\n",
      "19 in range 3-47-2\n",
      "47%19\n",
      "47%19 not == 0\n",
      "21 in range 3-47-2\n",
      "47%21\n",
      "47%21 not == 0\n",
      "23 in range 3-47-2\n",
      "47%23\n",
      "47%23 not == 0\n",
      "25 in range 3-47-2\n",
      "47%25\n",
      "47%25 not == 0\n",
      "27 in range 3-47-2\n",
      "47%27\n",
      "47%27 not == 0\n",
      "29 in range 3-47-2\n",
      "47%29\n",
      "47%29 not == 0\n",
      "31 in range 3-47-2\n",
      "47%31\n",
      "47%31 not == 0\n",
      "33 in range 3-47-2\n",
      "47%33\n",
      "47%33 not == 0\n",
      "35 in range 3-47-2\n",
      "47%35\n",
      "47%35 not == 0\n",
      "37 in range 3-47-2\n",
      "47%37\n",
      "47%37 not == 0\n",
      "39 in range 3-47-2\n",
      "47%39\n",
      "47%39 not == 0\n",
      "41 in range 3-47-2\n",
      "47%41\n",
      "47%41 not == 0\n",
      "43 in range 3-47-2\n",
      "47%43\n",
      "47%43 not == 0\n",
      "45 in range 3-47-2\n",
      "47%45\n",
      "47%45 not == 0\n",
      "appended 47 to primes:\n",
      "[2, 3, 5, 7, 11, 13, 17, 19, 23, 29, 31, 37, 41, 43, 47]\n",
      "added to x, x = 49\n",
      "49 is less than 100\n",
      "3 in range 3-49-2\n",
      "49%3\n",
      "49%3 not == 0\n",
      "5 in range 3-49-2\n",
      "49%5\n",
      "49%5 not == 0\n",
      "7 in range 3-49-2\n",
      "49%7\n",
      "condition true: 49%7 == 0\n",
      "x updated to: 51 because 49%7 == 0\n",
      "51 is less than 100\n",
      "3 in range 3-51-2\n",
      "51%3\n",
      "condition true: 51%3 == 0\n",
      "x updated to: 53 because 51%3 == 0\n",
      "53 is less than 100\n",
      "3 in range 3-53-2\n",
      "53%3\n",
      "53%3 not == 0\n",
      "5 in range 3-53-2\n",
      "53%5\n",
      "53%5 not == 0\n",
      "7 in range 3-53-2\n",
      "53%7\n",
      "53%7 not == 0\n",
      "9 in range 3-53-2\n",
      "53%9\n",
      "53%9 not == 0\n",
      "11 in range 3-53-2\n",
      "53%11\n",
      "53%11 not == 0\n",
      "13 in range 3-53-2\n",
      "53%13\n",
      "53%13 not == 0\n",
      "15 in range 3-53-2\n",
      "53%15\n",
      "53%15 not == 0\n",
      "17 in range 3-53-2\n",
      "53%17\n",
      "53%17 not == 0\n",
      "19 in range 3-53-2\n",
      "53%19\n",
      "53%19 not == 0\n",
      "21 in range 3-53-2\n",
      "53%21\n",
      "53%21 not == 0\n",
      "23 in range 3-53-2\n",
      "53%23\n",
      "53%23 not == 0\n",
      "25 in range 3-53-2\n",
      "53%25\n",
      "53%25 not == 0\n",
      "27 in range 3-53-2\n",
      "53%27\n",
      "53%27 not == 0\n",
      "29 in range 3-53-2\n",
      "53%29\n",
      "53%29 not == 0\n",
      "31 in range 3-53-2\n",
      "53%31\n",
      "53%31 not == 0\n",
      "33 in range 3-53-2\n",
      "53%33\n",
      "53%33 not == 0\n",
      "35 in range 3-53-2\n",
      "53%35\n",
      "53%35 not == 0\n",
      "37 in range 3-53-2\n",
      "53%37\n",
      "53%37 not == 0\n",
      "39 in range 3-53-2\n",
      "53%39\n",
      "53%39 not == 0\n",
      "41 in range 3-53-2\n",
      "53%41\n",
      "53%41 not == 0\n",
      "43 in range 3-53-2\n",
      "53%43\n",
      "53%43 not == 0\n",
      "45 in range 3-53-2\n",
      "53%45\n",
      "53%45 not == 0\n",
      "47 in range 3-53-2\n",
      "53%47\n",
      "53%47 not == 0\n",
      "49 in range 3-53-2\n",
      "53%49\n",
      "53%49 not == 0\n",
      "51 in range 3-53-2\n",
      "53%51\n",
      "53%51 not == 0\n",
      "appended 53 to primes:\n",
      "[2, 3, 5, 7, 11, 13, 17, 19, 23, 29, 31, 37, 41, 43, 47, 53]\n",
      "added to x, x = 55\n",
      "55 is less than 100\n",
      "3 in range 3-55-2\n",
      "55%3\n",
      "55%3 not == 0\n",
      "5 in range 3-55-2\n",
      "55%5\n",
      "condition true: 55%5 == 0\n",
      "x updated to: 57 because 55%5 == 0\n",
      "57 is less than 100\n",
      "3 in range 3-57-2\n",
      "57%3\n",
      "condition true: 57%3 == 0\n",
      "x updated to: 59 because 57%3 == 0\n",
      "59 is less than 100\n",
      "3 in range 3-59-2\n",
      "59%3\n",
      "59%3 not == 0\n",
      "5 in range 3-59-2\n",
      "59%5\n",
      "59%5 not == 0\n",
      "7 in range 3-59-2\n",
      "59%7\n",
      "59%7 not == 0\n",
      "9 in range 3-59-2\n",
      "59%9\n",
      "59%9 not == 0\n",
      "11 in range 3-59-2\n",
      "59%11\n",
      "59%11 not == 0\n",
      "13 in range 3-59-2\n",
      "59%13\n",
      "59%13 not == 0\n",
      "15 in range 3-59-2\n",
      "59%15\n",
      "59%15 not == 0\n",
      "17 in range 3-59-2\n",
      "59%17\n",
      "59%17 not == 0\n",
      "19 in range 3-59-2\n",
      "59%19\n",
      "59%19 not == 0\n",
      "21 in range 3-59-2\n",
      "59%21\n",
      "59%21 not == 0\n",
      "23 in range 3-59-2\n",
      "59%23\n",
      "59%23 not == 0\n",
      "25 in range 3-59-2\n",
      "59%25\n",
      "59%25 not == 0\n",
      "27 in range 3-59-2\n",
      "59%27\n",
      "59%27 not == 0\n",
      "29 in range 3-59-2\n",
      "59%29\n",
      "59%29 not == 0\n",
      "31 in range 3-59-2\n",
      "59%31\n",
      "59%31 not == 0\n",
      "33 in range 3-59-2\n",
      "59%33\n",
      "59%33 not == 0\n",
      "35 in range 3-59-2\n",
      "59%35\n",
      "59%35 not == 0\n",
      "37 in range 3-59-2\n",
      "59%37\n",
      "59%37 not == 0\n",
      "39 in range 3-59-2\n",
      "59%39\n",
      "59%39 not == 0\n",
      "41 in range 3-59-2\n",
      "59%41\n",
      "59%41 not == 0\n",
      "43 in range 3-59-2\n",
      "59%43\n",
      "59%43 not == 0\n",
      "45 in range 3-59-2\n",
      "59%45\n",
      "59%45 not == 0\n",
      "47 in range 3-59-2\n",
      "59%47\n",
      "59%47 not == 0\n",
      "49 in range 3-59-2\n",
      "59%49\n",
      "59%49 not == 0\n",
      "51 in range 3-59-2\n",
      "59%51\n",
      "59%51 not == 0\n",
      "53 in range 3-59-2\n",
      "59%53\n",
      "59%53 not == 0\n",
      "55 in range 3-59-2\n",
      "59%55\n",
      "59%55 not == 0\n",
      "57 in range 3-59-2\n",
      "59%57\n",
      "59%57 not == 0\n",
      "appended 59 to primes:\n",
      "[2, 3, 5, 7, 11, 13, 17, 19, 23, 29, 31, 37, 41, 43, 47, 53, 59]\n",
      "added to x, x = 61\n",
      "61 is less than 100\n",
      "3 in range 3-61-2\n",
      "61%3\n",
      "61%3 not == 0\n",
      "5 in range 3-61-2\n",
      "61%5\n",
      "61%5 not == 0\n",
      "7 in range 3-61-2\n",
      "61%7\n",
      "61%7 not == 0\n",
      "9 in range 3-61-2\n",
      "61%9\n",
      "61%9 not == 0\n",
      "11 in range 3-61-2\n",
      "61%11\n",
      "61%11 not == 0\n",
      "13 in range 3-61-2\n",
      "61%13\n",
      "61%13 not == 0\n",
      "15 in range 3-61-2\n",
      "61%15\n",
      "61%15 not == 0\n",
      "17 in range 3-61-2\n",
      "61%17\n",
      "61%17 not == 0\n",
      "19 in range 3-61-2\n",
      "61%19\n",
      "61%19 not == 0\n",
      "21 in range 3-61-2\n",
      "61%21\n",
      "61%21 not == 0\n",
      "23 in range 3-61-2\n",
      "61%23\n",
      "61%23 not == 0\n",
      "25 in range 3-61-2\n",
      "61%25\n",
      "61%25 not == 0\n",
      "27 in range 3-61-2\n",
      "61%27\n",
      "61%27 not == 0\n",
      "29 in range 3-61-2\n",
      "61%29\n",
      "61%29 not == 0\n",
      "31 in range 3-61-2\n",
      "61%31\n",
      "61%31 not == 0\n",
      "33 in range 3-61-2\n",
      "61%33\n",
      "61%33 not == 0\n",
      "35 in range 3-61-2\n",
      "61%35\n",
      "61%35 not == 0\n",
      "37 in range 3-61-2\n",
      "61%37\n",
      "61%37 not == 0\n",
      "39 in range 3-61-2\n",
      "61%39\n",
      "61%39 not == 0\n",
      "41 in range 3-61-2\n",
      "61%41\n",
      "61%41 not == 0\n",
      "43 in range 3-61-2\n",
      "61%43\n",
      "61%43 not == 0\n",
      "45 in range 3-61-2\n",
      "61%45\n",
      "61%45 not == 0\n",
      "47 in range 3-61-2\n",
      "61%47\n",
      "61%47 not == 0\n",
      "49 in range 3-61-2\n",
      "61%49\n",
      "61%49 not == 0\n",
      "51 in range 3-61-2\n",
      "61%51\n",
      "61%51 not == 0\n",
      "53 in range 3-61-2\n",
      "61%53\n",
      "61%53 not == 0\n",
      "55 in range 3-61-2\n",
      "61%55\n",
      "61%55 not == 0\n",
      "57 in range 3-61-2\n",
      "61%57\n",
      "61%57 not == 0\n",
      "59 in range 3-61-2\n",
      "61%59\n",
      "61%59 not == 0\n",
      "appended 61 to primes:\n",
      "[2, 3, 5, 7, 11, 13, 17, 19, 23, 29, 31, 37, 41, 43, 47, 53, 59, 61]\n",
      "added to x, x = 63\n",
      "63 is less than 100\n",
      "3 in range 3-63-2\n",
      "63%3\n",
      "condition true: 63%3 == 0\n",
      "x updated to: 65 because 63%3 == 0\n",
      "65 is less than 100\n",
      "3 in range 3-65-2\n",
      "65%3\n",
      "65%3 not == 0\n",
      "5 in range 3-65-2\n",
      "65%5\n",
      "condition true: 65%5 == 0\n",
      "x updated to: 67 because 65%5 == 0\n",
      "67 is less than 100\n",
      "3 in range 3-67-2\n",
      "67%3\n",
      "67%3 not == 0\n",
      "5 in range 3-67-2\n",
      "67%5\n",
      "67%5 not == 0\n",
      "7 in range 3-67-2\n",
      "67%7\n",
      "67%7 not == 0\n",
      "9 in range 3-67-2\n",
      "67%9\n",
      "67%9 not == 0\n",
      "11 in range 3-67-2\n",
      "67%11\n",
      "67%11 not == 0\n",
      "13 in range 3-67-2\n",
      "67%13\n",
      "67%13 not == 0\n",
      "15 in range 3-67-2\n",
      "67%15\n",
      "67%15 not == 0\n",
      "17 in range 3-67-2\n",
      "67%17\n",
      "67%17 not == 0\n",
      "19 in range 3-67-2\n",
      "67%19\n",
      "67%19 not == 0\n",
      "21 in range 3-67-2\n",
      "67%21\n",
      "67%21 not == 0\n",
      "23 in range 3-67-2\n",
      "67%23\n",
      "67%23 not == 0\n",
      "25 in range 3-67-2\n",
      "67%25\n",
      "67%25 not == 0\n",
      "27 in range 3-67-2\n",
      "67%27\n",
      "67%27 not == 0\n",
      "29 in range 3-67-2\n",
      "67%29\n",
      "67%29 not == 0\n",
      "31 in range 3-67-2\n",
      "67%31\n",
      "67%31 not == 0\n",
      "33 in range 3-67-2\n",
      "67%33\n",
      "67%33 not == 0\n",
      "35 in range 3-67-2\n",
      "67%35\n",
      "67%35 not == 0\n",
      "37 in range 3-67-2\n",
      "67%37\n",
      "67%37 not == 0\n",
      "39 in range 3-67-2\n",
      "67%39\n",
      "67%39 not == 0\n",
      "41 in range 3-67-2\n",
      "67%41\n",
      "67%41 not == 0\n",
      "43 in range 3-67-2\n",
      "67%43\n",
      "67%43 not == 0\n",
      "45 in range 3-67-2\n",
      "67%45\n",
      "67%45 not == 0\n",
      "47 in range 3-67-2\n",
      "67%47\n",
      "67%47 not == 0\n",
      "49 in range 3-67-2\n",
      "67%49\n",
      "67%49 not == 0\n",
      "51 in range 3-67-2\n",
      "67%51\n",
      "67%51 not == 0\n",
      "53 in range 3-67-2\n",
      "67%53\n",
      "67%53 not == 0\n",
      "55 in range 3-67-2\n",
      "67%55\n",
      "67%55 not == 0\n",
      "57 in range 3-67-2\n",
      "67%57\n",
      "67%57 not == 0\n",
      "59 in range 3-67-2\n",
      "67%59\n",
      "67%59 not == 0\n",
      "61 in range 3-67-2\n",
      "67%61\n",
      "67%61 not == 0\n",
      "63 in range 3-67-2\n",
      "67%63\n",
      "67%63 not == 0\n",
      "65 in range 3-67-2\n",
      "67%65\n",
      "67%65 not == 0\n",
      "appended 67 to primes:\n",
      "[2, 3, 5, 7, 11, 13, 17, 19, 23, 29, 31, 37, 41, 43, 47, 53, 59, 61, 67]\n",
      "added to x, x = 69\n",
      "69 is less than 100\n",
      "3 in range 3-69-2\n",
      "69%3\n",
      "condition true: 69%3 == 0\n",
      "x updated to: 71 because 69%3 == 0\n",
      "71 is less than 100\n",
      "3 in range 3-71-2\n",
      "71%3\n",
      "71%3 not == 0\n",
      "5 in range 3-71-2\n",
      "71%5\n",
      "71%5 not == 0\n",
      "7 in range 3-71-2\n",
      "71%7\n",
      "71%7 not == 0\n",
      "9 in range 3-71-2\n",
      "71%9\n",
      "71%9 not == 0\n",
      "11 in range 3-71-2\n",
      "71%11\n",
      "71%11 not == 0\n",
      "13 in range 3-71-2\n",
      "71%13\n",
      "71%13 not == 0\n",
      "15 in range 3-71-2\n",
      "71%15\n",
      "71%15 not == 0\n",
      "17 in range 3-71-2\n",
      "71%17\n",
      "71%17 not == 0\n",
      "19 in range 3-71-2\n",
      "71%19\n",
      "71%19 not == 0\n",
      "21 in range 3-71-2\n",
      "71%21\n",
      "71%21 not == 0\n",
      "23 in range 3-71-2\n",
      "71%23\n",
      "71%23 not == 0\n",
      "25 in range 3-71-2\n",
      "71%25\n",
      "71%25 not == 0\n",
      "27 in range 3-71-2\n",
      "71%27\n",
      "71%27 not == 0\n",
      "29 in range 3-71-2\n",
      "71%29\n",
      "71%29 not == 0\n",
      "31 in range 3-71-2\n",
      "71%31\n",
      "71%31 not == 0\n",
      "33 in range 3-71-2\n",
      "71%33\n",
      "71%33 not == 0\n",
      "35 in range 3-71-2\n",
      "71%35\n",
      "71%35 not == 0\n",
      "37 in range 3-71-2\n",
      "71%37\n",
      "71%37 not == 0\n",
      "39 in range 3-71-2\n",
      "71%39\n",
      "71%39 not == 0\n",
      "41 in range 3-71-2\n",
      "71%41\n",
      "71%41 not == 0\n",
      "43 in range 3-71-2\n",
      "71%43\n",
      "71%43 not == 0\n",
      "45 in range 3-71-2\n",
      "71%45\n",
      "71%45 not == 0\n",
      "47 in range 3-71-2\n",
      "71%47\n",
      "71%47 not == 0\n",
      "49 in range 3-71-2\n",
      "71%49\n",
      "71%49 not == 0\n",
      "51 in range 3-71-2\n",
      "71%51\n",
      "71%51 not == 0\n",
      "53 in range 3-71-2\n",
      "71%53\n",
      "71%53 not == 0\n",
      "55 in range 3-71-2\n",
      "71%55\n",
      "71%55 not == 0\n",
      "57 in range 3-71-2\n",
      "71%57\n",
      "71%57 not == 0\n",
      "59 in range 3-71-2\n",
      "71%59\n",
      "71%59 not == 0\n",
      "61 in range 3-71-2\n",
      "71%61\n",
      "71%61 not == 0\n",
      "63 in range 3-71-2\n",
      "71%63\n",
      "71%63 not == 0\n",
      "65 in range 3-71-2\n",
      "71%65\n",
      "71%65 not == 0\n",
      "67 in range 3-71-2\n",
      "71%67\n",
      "71%67 not == 0\n",
      "69 in range 3-71-2\n",
      "71%69\n",
      "71%69 not == 0\n",
      "appended 71 to primes:\n",
      "[2, 3, 5, 7, 11, 13, 17, 19, 23, 29, 31, 37, 41, 43, 47, 53, 59, 61, 67, 71]\n",
      "added to x, x = 73\n",
      "73 is less than 100\n",
      "3 in range 3-73-2\n",
      "73%3\n",
      "73%3 not == 0\n",
      "5 in range 3-73-2\n",
      "73%5\n",
      "73%5 not == 0\n",
      "7 in range 3-73-2\n",
      "73%7\n",
      "73%7 not == 0\n",
      "9 in range 3-73-2\n",
      "73%9\n",
      "73%9 not == 0\n",
      "11 in range 3-73-2\n",
      "73%11\n",
      "73%11 not == 0\n",
      "13 in range 3-73-2\n",
      "73%13\n",
      "73%13 not == 0\n",
      "15 in range 3-73-2\n",
      "73%15\n",
      "73%15 not == 0\n",
      "17 in range 3-73-2\n",
      "73%17\n",
      "73%17 not == 0\n",
      "19 in range 3-73-2\n",
      "73%19\n",
      "73%19 not == 0\n",
      "21 in range 3-73-2\n",
      "73%21\n",
      "73%21 not == 0\n",
      "23 in range 3-73-2\n",
      "73%23\n",
      "73%23 not == 0\n",
      "25 in range 3-73-2\n",
      "73%25\n",
      "73%25 not == 0\n",
      "27 in range 3-73-2\n",
      "73%27\n",
      "73%27 not == 0\n",
      "29 in range 3-73-2\n",
      "73%29\n",
      "73%29 not == 0\n",
      "31 in range 3-73-2\n",
      "73%31\n",
      "73%31 not == 0\n",
      "33 in range 3-73-2\n",
      "73%33\n",
      "73%33 not == 0\n",
      "35 in range 3-73-2\n",
      "73%35\n",
      "73%35 not == 0\n",
      "37 in range 3-73-2\n",
      "73%37\n",
      "73%37 not == 0\n",
      "39 in range 3-73-2\n",
      "73%39\n",
      "73%39 not == 0\n",
      "41 in range 3-73-2\n",
      "73%41\n",
      "73%41 not == 0\n",
      "43 in range 3-73-2\n",
      "73%43\n",
      "73%43 not == 0\n",
      "45 in range 3-73-2\n",
      "73%45\n",
      "73%45 not == 0\n",
      "47 in range 3-73-2\n",
      "73%47\n",
      "73%47 not == 0\n",
      "49 in range 3-73-2\n",
      "73%49\n",
      "73%49 not == 0\n",
      "51 in range 3-73-2\n",
      "73%51\n",
      "73%51 not == 0\n",
      "53 in range 3-73-2\n",
      "73%53\n",
      "73%53 not == 0\n",
      "55 in range 3-73-2\n",
      "73%55\n",
      "73%55 not == 0\n",
      "57 in range 3-73-2\n",
      "73%57\n",
      "73%57 not == 0\n",
      "59 in range 3-73-2\n",
      "73%59\n",
      "73%59 not == 0\n",
      "61 in range 3-73-2\n",
      "73%61\n",
      "73%61 not == 0\n",
      "63 in range 3-73-2\n",
      "73%63\n",
      "73%63 not == 0\n",
      "65 in range 3-73-2\n",
      "73%65\n",
      "73%65 not == 0\n",
      "67 in range 3-73-2\n",
      "73%67\n",
      "73%67 not == 0\n",
      "69 in range 3-73-2\n",
      "73%69\n",
      "73%69 not == 0\n",
      "71 in range 3-73-2\n",
      "73%71\n",
      "73%71 not == 0\n",
      "appended 73 to primes:\n",
      "[2, 3, 5, 7, 11, 13, 17, 19, 23, 29, 31, 37, 41, 43, 47, 53, 59, 61, 67, 71, 73]\n",
      "added to x, x = 75\n",
      "75 is less than 100\n",
      "3 in range 3-75-2\n",
      "75%3\n",
      "condition true: 75%3 == 0\n",
      "x updated to: 77 because 75%3 == 0\n",
      "77 is less than 100\n",
      "3 in range 3-77-2\n",
      "77%3\n",
      "77%3 not == 0\n",
      "5 in range 3-77-2\n",
      "77%5\n",
      "77%5 not == 0\n",
      "7 in range 3-77-2\n",
      "77%7\n",
      "condition true: 77%7 == 0\n",
      "x updated to: 79 because 77%7 == 0\n",
      "79 is less than 100\n",
      "3 in range 3-79-2\n",
      "79%3\n",
      "79%3 not == 0\n",
      "5 in range 3-79-2\n",
      "79%5\n",
      "79%5 not == 0\n",
      "7 in range 3-79-2\n",
      "79%7\n",
      "79%7 not == 0\n",
      "9 in range 3-79-2\n",
      "79%9\n",
      "79%9 not == 0\n",
      "11 in range 3-79-2\n",
      "79%11\n",
      "79%11 not == 0\n",
      "13 in range 3-79-2\n",
      "79%13\n",
      "79%13 not == 0\n",
      "15 in range 3-79-2\n",
      "79%15\n",
      "79%15 not == 0\n",
      "17 in range 3-79-2\n",
      "79%17\n",
      "79%17 not == 0\n",
      "19 in range 3-79-2\n",
      "79%19\n",
      "79%19 not == 0\n",
      "21 in range 3-79-2\n",
      "79%21\n",
      "79%21 not == 0\n",
      "23 in range 3-79-2\n",
      "79%23\n",
      "79%23 not == 0\n",
      "25 in range 3-79-2\n",
      "79%25\n",
      "79%25 not == 0\n",
      "27 in range 3-79-2\n",
      "79%27\n",
      "79%27 not == 0\n",
      "29 in range 3-79-2\n",
      "79%29\n",
      "79%29 not == 0\n",
      "31 in range 3-79-2\n",
      "79%31\n",
      "79%31 not == 0\n",
      "33 in range 3-79-2\n",
      "79%33\n",
      "79%33 not == 0\n",
      "35 in range 3-79-2\n",
      "79%35\n",
      "79%35 not == 0\n",
      "37 in range 3-79-2\n",
      "79%37\n",
      "79%37 not == 0\n",
      "39 in range 3-79-2\n",
      "79%39\n",
      "79%39 not == 0\n",
      "41 in range 3-79-2\n",
      "79%41\n",
      "79%41 not == 0\n",
      "43 in range 3-79-2\n",
      "79%43\n",
      "79%43 not == 0\n",
      "45 in range 3-79-2\n",
      "79%45\n",
      "79%45 not == 0\n",
      "47 in range 3-79-2\n",
      "79%47\n",
      "79%47 not == 0\n",
      "49 in range 3-79-2\n",
      "79%49\n",
      "79%49 not == 0\n",
      "51 in range 3-79-2\n",
      "79%51\n",
      "79%51 not == 0\n",
      "53 in range 3-79-2\n",
      "79%53\n",
      "79%53 not == 0\n",
      "55 in range 3-79-2\n",
      "79%55\n",
      "79%55 not == 0\n",
      "57 in range 3-79-2\n",
      "79%57\n",
      "79%57 not == 0\n",
      "59 in range 3-79-2\n",
      "79%59\n",
      "79%59 not == 0\n",
      "61 in range 3-79-2\n",
      "79%61\n",
      "79%61 not == 0\n",
      "63 in range 3-79-2\n",
      "79%63\n",
      "79%63 not == 0\n",
      "65 in range 3-79-2\n",
      "79%65\n",
      "79%65 not == 0\n",
      "67 in range 3-79-2\n",
      "79%67\n",
      "79%67 not == 0\n",
      "69 in range 3-79-2\n",
      "79%69\n",
      "79%69 not == 0\n",
      "71 in range 3-79-2\n",
      "79%71\n",
      "79%71 not == 0\n",
      "73 in range 3-79-2\n",
      "79%73\n",
      "79%73 not == 0\n",
      "75 in range 3-79-2\n",
      "79%75\n",
      "79%75 not == 0\n",
      "77 in range 3-79-2\n",
      "79%77\n",
      "79%77 not == 0\n",
      "appended 79 to primes:\n",
      "[2, 3, 5, 7, 11, 13, 17, 19, 23, 29, 31, 37, 41, 43, 47, 53, 59, 61, 67, 71, 73, 79]\n",
      "added to x, x = 81\n",
      "81 is less than 100\n",
      "3 in range 3-81-2\n",
      "81%3\n",
      "condition true: 81%3 == 0\n",
      "x updated to: 83 because 81%3 == 0\n",
      "83 is less than 100\n",
      "3 in range 3-83-2\n",
      "83%3\n",
      "83%3 not == 0\n",
      "5 in range 3-83-2\n",
      "83%5\n",
      "83%5 not == 0\n",
      "7 in range 3-83-2\n",
      "83%7\n",
      "83%7 not == 0\n",
      "9 in range 3-83-2\n",
      "83%9\n",
      "83%9 not == 0\n",
      "11 in range 3-83-2\n",
      "83%11\n",
      "83%11 not == 0\n",
      "13 in range 3-83-2\n",
      "83%13\n",
      "83%13 not == 0\n",
      "15 in range 3-83-2\n",
      "83%15\n",
      "83%15 not == 0\n",
      "17 in range 3-83-2\n",
      "83%17\n",
      "83%17 not == 0\n",
      "19 in range 3-83-2\n",
      "83%19\n",
      "83%19 not == 0\n",
      "21 in range 3-83-2\n",
      "83%21\n",
      "83%21 not == 0\n",
      "23 in range 3-83-2\n",
      "83%23\n",
      "83%23 not == 0\n",
      "25 in range 3-83-2\n",
      "83%25\n",
      "83%25 not == 0\n",
      "27 in range 3-83-2\n",
      "83%27\n",
      "83%27 not == 0\n",
      "29 in range 3-83-2\n",
      "83%29\n",
      "83%29 not == 0\n",
      "31 in range 3-83-2\n",
      "83%31\n",
      "83%31 not == 0\n",
      "33 in range 3-83-2\n",
      "83%33\n",
      "83%33 not == 0\n",
      "35 in range 3-83-2\n",
      "83%35\n",
      "83%35 not == 0\n",
      "37 in range 3-83-2\n",
      "83%37\n",
      "83%37 not == 0\n",
      "39 in range 3-83-2\n",
      "83%39\n",
      "83%39 not == 0\n",
      "41 in range 3-83-2\n",
      "83%41\n",
      "83%41 not == 0\n",
      "43 in range 3-83-2\n",
      "83%43\n",
      "83%43 not == 0\n",
      "45 in range 3-83-2\n",
      "83%45\n",
      "83%45 not == 0\n",
      "47 in range 3-83-2\n",
      "83%47\n",
      "83%47 not == 0\n",
      "49 in range 3-83-2\n",
      "83%49\n",
      "83%49 not == 0\n",
      "51 in range 3-83-2\n",
      "83%51\n",
      "83%51 not == 0\n",
      "53 in range 3-83-2\n",
      "83%53\n",
      "83%53 not == 0\n",
      "55 in range 3-83-2\n",
      "83%55\n",
      "83%55 not == 0\n",
      "57 in range 3-83-2\n",
      "83%57\n",
      "83%57 not == 0\n",
      "59 in range 3-83-2\n",
      "83%59\n",
      "83%59 not == 0\n",
      "61 in range 3-83-2\n",
      "83%61\n",
      "83%61 not == 0\n",
      "63 in range 3-83-2\n",
      "83%63\n",
      "83%63 not == 0\n",
      "65 in range 3-83-2\n",
      "83%65\n",
      "83%65 not == 0\n",
      "67 in range 3-83-2\n",
      "83%67\n",
      "83%67 not == 0\n",
      "69 in range 3-83-2\n",
      "83%69\n",
      "83%69 not == 0\n",
      "71 in range 3-83-2\n",
      "83%71\n",
      "83%71 not == 0\n",
      "73 in range 3-83-2\n",
      "83%73\n",
      "83%73 not == 0\n",
      "75 in range 3-83-2\n",
      "83%75\n",
      "83%75 not == 0\n",
      "77 in range 3-83-2\n",
      "83%77\n",
      "83%77 not == 0\n",
      "79 in range 3-83-2\n",
      "83%79\n",
      "83%79 not == 0\n",
      "81 in range 3-83-2\n",
      "83%81\n",
      "83%81 not == 0\n",
      "appended 83 to primes:\n",
      "[2, 3, 5, 7, 11, 13, 17, 19, 23, 29, 31, 37, 41, 43, 47, 53, 59, 61, 67, 71, 73, 79, 83]\n",
      "added to x, x = 85\n",
      "85 is less than 100\n",
      "3 in range 3-85-2\n",
      "85%3\n",
      "85%3 not == 0\n",
      "5 in range 3-85-2\n",
      "85%5\n",
      "condition true: 85%5 == 0\n",
      "x updated to: 87 because 85%5 == 0\n",
      "87 is less than 100\n",
      "3 in range 3-87-2\n",
      "87%3\n",
      "condition true: 87%3 == 0\n",
      "x updated to: 89 because 87%3 == 0\n",
      "89 is less than 100\n",
      "3 in range 3-89-2\n",
      "89%3\n",
      "89%3 not == 0\n",
      "5 in range 3-89-2\n",
      "89%5\n",
      "89%5 not == 0\n",
      "7 in range 3-89-2\n",
      "89%7\n",
      "89%7 not == 0\n",
      "9 in range 3-89-2\n",
      "89%9\n",
      "89%9 not == 0\n",
      "11 in range 3-89-2\n",
      "89%11\n",
      "89%11 not == 0\n",
      "13 in range 3-89-2\n",
      "89%13\n",
      "89%13 not == 0\n",
      "15 in range 3-89-2\n",
      "89%15\n",
      "89%15 not == 0\n",
      "17 in range 3-89-2\n",
      "89%17\n",
      "89%17 not == 0\n",
      "19 in range 3-89-2\n",
      "89%19\n",
      "89%19 not == 0\n",
      "21 in range 3-89-2\n",
      "89%21\n",
      "89%21 not == 0\n",
      "23 in range 3-89-2\n",
      "89%23\n",
      "89%23 not == 0\n",
      "25 in range 3-89-2\n",
      "89%25\n",
      "89%25 not == 0\n",
      "27 in range 3-89-2\n",
      "89%27\n",
      "89%27 not == 0\n",
      "29 in range 3-89-2\n",
      "89%29\n",
      "89%29 not == 0\n",
      "31 in range 3-89-2\n",
      "89%31\n",
      "89%31 not == 0\n",
      "33 in range 3-89-2\n",
      "89%33\n",
      "89%33 not == 0\n",
      "35 in range 3-89-2\n",
      "89%35\n",
      "89%35 not == 0\n",
      "37 in range 3-89-2\n",
      "89%37\n",
      "89%37 not == 0\n",
      "39 in range 3-89-2\n",
      "89%39\n",
      "89%39 not == 0\n",
      "41 in range 3-89-2\n",
      "89%41\n",
      "89%41 not == 0\n",
      "43 in range 3-89-2\n",
      "89%43\n",
      "89%43 not == 0\n",
      "45 in range 3-89-2\n",
      "89%45\n",
      "89%45 not == 0\n",
      "47 in range 3-89-2\n",
      "89%47\n",
      "89%47 not == 0\n",
      "49 in range 3-89-2\n",
      "89%49\n",
      "89%49 not == 0\n",
      "51 in range 3-89-2\n",
      "89%51\n",
      "89%51 not == 0\n",
      "53 in range 3-89-2\n",
      "89%53\n",
      "89%53 not == 0\n",
      "55 in range 3-89-2\n",
      "89%55\n",
      "89%55 not == 0\n",
      "57 in range 3-89-2\n",
      "89%57\n",
      "89%57 not == 0\n",
      "59 in range 3-89-2\n",
      "89%59\n",
      "89%59 not == 0\n",
      "61 in range 3-89-2\n",
      "89%61\n",
      "89%61 not == 0\n",
      "63 in range 3-89-2\n",
      "89%63\n",
      "89%63 not == 0\n",
      "65 in range 3-89-2\n",
      "89%65\n",
      "89%65 not == 0\n",
      "67 in range 3-89-2\n",
      "89%67\n",
      "89%67 not == 0\n",
      "69 in range 3-89-2\n",
      "89%69\n",
      "89%69 not == 0\n",
      "71 in range 3-89-2\n",
      "89%71\n",
      "89%71 not == 0\n",
      "73 in range 3-89-2\n",
      "89%73\n",
      "89%73 not == 0\n",
      "75 in range 3-89-2\n",
      "89%75\n",
      "89%75 not == 0\n",
      "77 in range 3-89-2\n",
      "89%77\n",
      "89%77 not == 0\n",
      "79 in range 3-89-2\n",
      "89%79\n",
      "89%79 not == 0\n",
      "81 in range 3-89-2\n",
      "89%81\n",
      "89%81 not == 0\n",
      "83 in range 3-89-2\n",
      "89%83\n",
      "89%83 not == 0\n",
      "85 in range 3-89-2\n",
      "89%85\n",
      "89%85 not == 0\n",
      "87 in range 3-89-2\n",
      "89%87\n",
      "89%87 not == 0\n",
      "appended 89 to primes:\n",
      "[2, 3, 5, 7, 11, 13, 17, 19, 23, 29, 31, 37, 41, 43, 47, 53, 59, 61, 67, 71, 73, 79, 83, 89]\n",
      "added to x, x = 91\n",
      "91 is less than 100\n",
      "3 in range 3-91-2\n",
      "91%3\n",
      "91%3 not == 0\n",
      "5 in range 3-91-2\n",
      "91%5\n",
      "91%5 not == 0\n",
      "7 in range 3-91-2\n",
      "91%7\n",
      "condition true: 91%7 == 0\n",
      "x updated to: 93 because 91%7 == 0\n",
      "93 is less than 100\n",
      "3 in range 3-93-2\n",
      "93%3\n",
      "condition true: 93%3 == 0\n",
      "x updated to: 95 because 93%3 == 0\n",
      "95 is less than 100\n",
      "3 in range 3-95-2\n",
      "95%3\n",
      "95%3 not == 0\n",
      "5 in range 3-95-2\n",
      "95%5\n",
      "condition true: 95%5 == 0\n",
      "x updated to: 97 because 95%5 == 0\n",
      "97 is less than 100\n",
      "3 in range 3-97-2\n",
      "97%3\n",
      "97%3 not == 0\n",
      "5 in range 3-97-2\n",
      "97%5\n",
      "97%5 not == 0\n",
      "7 in range 3-97-2\n",
      "97%7\n",
      "97%7 not == 0\n",
      "9 in range 3-97-2\n",
      "97%9\n",
      "97%9 not == 0\n",
      "11 in range 3-97-2\n",
      "97%11\n",
      "97%11 not == 0\n",
      "13 in range 3-97-2\n",
      "97%13\n",
      "97%13 not == 0\n",
      "15 in range 3-97-2\n",
      "97%15\n",
      "97%15 not == 0\n",
      "17 in range 3-97-2\n",
      "97%17\n",
      "97%17 not == 0\n",
      "19 in range 3-97-2\n",
      "97%19\n",
      "97%19 not == 0\n",
      "21 in range 3-97-2\n",
      "97%21\n",
      "97%21 not == 0\n",
      "23 in range 3-97-2\n",
      "97%23\n",
      "97%23 not == 0\n",
      "25 in range 3-97-2\n",
      "97%25\n",
      "97%25 not == 0\n",
      "27 in range 3-97-2\n",
      "97%27\n",
      "97%27 not == 0\n",
      "29 in range 3-97-2\n",
      "97%29\n",
      "97%29 not == 0\n",
      "31 in range 3-97-2\n",
      "97%31\n",
      "97%31 not == 0\n",
      "33 in range 3-97-2\n",
      "97%33\n",
      "97%33 not == 0\n",
      "35 in range 3-97-2\n",
      "97%35\n",
      "97%35 not == 0\n",
      "37 in range 3-97-2\n",
      "97%37\n",
      "97%37 not == 0\n",
      "39 in range 3-97-2\n",
      "97%39\n",
      "97%39 not == 0\n",
      "41 in range 3-97-2\n",
      "97%41\n",
      "97%41 not == 0\n",
      "43 in range 3-97-2\n",
      "97%43\n",
      "97%43 not == 0\n",
      "45 in range 3-97-2\n",
      "97%45\n",
      "97%45 not == 0\n",
      "47 in range 3-97-2\n",
      "97%47\n",
      "97%47 not == 0\n",
      "49 in range 3-97-2\n",
      "97%49\n",
      "97%49 not == 0\n",
      "51 in range 3-97-2\n",
      "97%51\n",
      "97%51 not == 0\n",
      "53 in range 3-97-2\n",
      "97%53\n",
      "97%53 not == 0\n",
      "55 in range 3-97-2\n",
      "97%55\n",
      "97%55 not == 0\n",
      "57 in range 3-97-2\n",
      "97%57\n",
      "97%57 not == 0\n",
      "59 in range 3-97-2\n",
      "97%59\n",
      "97%59 not == 0\n",
      "61 in range 3-97-2\n",
      "97%61\n",
      "97%61 not == 0\n",
      "63 in range 3-97-2\n",
      "97%63\n",
      "97%63 not == 0\n",
      "65 in range 3-97-2\n",
      "97%65\n",
      "97%65 not == 0\n",
      "67 in range 3-97-2\n",
      "97%67\n",
      "97%67 not == 0\n",
      "69 in range 3-97-2\n",
      "97%69\n",
      "97%69 not == 0\n",
      "71 in range 3-97-2\n",
      "97%71\n",
      "97%71 not == 0\n",
      "73 in range 3-97-2\n",
      "97%73\n",
      "97%73 not == 0\n",
      "75 in range 3-97-2\n",
      "97%75\n",
      "97%75 not == 0\n",
      "77 in range 3-97-2\n",
      "97%77\n",
      "97%77 not == 0\n",
      "79 in range 3-97-2\n",
      "97%79\n",
      "97%79 not == 0\n",
      "81 in range 3-97-2\n",
      "97%81\n",
      "97%81 not == 0\n",
      "83 in range 3-97-2\n",
      "97%83\n",
      "97%83 not == 0\n",
      "85 in range 3-97-2\n",
      "97%85\n",
      "97%85 not == 0\n",
      "87 in range 3-97-2\n",
      "97%87\n",
      "97%87 not == 0\n",
      "89 in range 3-97-2\n",
      "97%89\n",
      "97%89 not == 0\n",
      "91 in range 3-97-2\n",
      "97%91\n",
      "97%91 not == 0\n",
      "93 in range 3-97-2\n",
      "97%93\n",
      "97%93 not == 0\n",
      "95 in range 3-97-2\n",
      "97%95\n",
      "97%95 not == 0\n",
      "appended 97 to primes:\n",
      "[2, 3, 5, 7, 11, 13, 17, 19, 23, 29, 31, 37, 41, 43, 47, 53, 59, 61, 67, 71, 73, 79, 83, 89, 97]\n",
      "added to x, x = 99\n",
      "99 is less than 100\n",
      "3 in range 3-99-2\n",
      "99%3\n",
      "condition true: 99%3 == 0\n",
      "x updated to: 101 because 99%3 == 0\n",
      "[2, 3, 5, 7, 11, 13, 17, 19, 23, 29, 31, 37, 41, 43, 47, 53, 59, 61, 67, 71, 73, 79, 83, 89, 97]\n"
     ]
    },
    {
     "data": {
      "text/plain": [
       "25"
      ]
     },
     "execution_count": 345,
     "metadata": {},
     "output_type": "execute_result"
    }
   ],
   "source": [
    "def count_primes(num):\n",
    "    primes = [2]\n",
    "    x = 3\n",
    "    if num < 2:  # for the case of num = 0 or 1\n",
    "        return 0\n",
    "    while x <= num:\n",
    "        print(str(x) + \" is less than \" + str(num))\n",
    "        for y in range(3,x,2):  # test all odd factors up to x-1\n",
    "            print(str(y) + \" in range \" + \"3-\" + str(x) + \"-2\")\n",
    "            print(str(x) + \"%\" + str(y))\n",
    "            if x%y == 0:\n",
    "                z = x\n",
    "                print(\"condition true: \" + str(x) + \"%\" + str(y) + \" == 0\")\n",
    "                x += 2\n",
    "                print(\"x updated to: \" + str(x) + \" because \" + str(z) + \"%\" + str(y) + \" == 0\")\n",
    "                break\n",
    "            else:\n",
    "                print(str(x) + \"%\" + str(y) + \" not == 0\")\n",
    "        else:\n",
    "            primes.append(x)\n",
    "            print(\"appended \" + str(x) + \" to primes:\")\n",
    "            print(primes)\n",
    "            x += 2\n",
    "            print(\"added to x, x = \" + str(x))\n",
    "    print(primes)\n",
    "    return len(primes)\n",
    "\n",
    "count_primes(100)"
   ]
  },
  {
   "cell_type": "code",
   "execution_count": 336,
   "metadata": {},
   "outputs": [],
   "source": [
    "# doesn't work\n",
    "# def findprimes(num):\n",
    "#     primes = [2]\n",
    "#     y = 1\n",
    "#     x = 3\n",
    "#     while x <= num:\n",
    "#         while y < x and y < num:\n",
    "#             if x%y != 0 and y < x:\n",
    "#                 y += 2\n",
    "#             else:\n",
    "#                 x += 2\n",
    "#                 y = 1\n",
    "#         else: \n",
    "#             primes.append(x)\n",
    "#     print(primes)\n",
    "\n",
    "# findprimes(10)"
   ]
  },
  {
   "cell_type": "code",
   "execution_count": 51,
   "metadata": {},
   "outputs": [
    {
     "data": {
      "text/plain": [
       "[2, 3, 5, 7, 11, 13, 17, 19, 23]"
      ]
     },
     "execution_count": 51,
     "metadata": {},
     "output_type": "execute_result"
    }
   ],
   "source": [
    "def count_primes(num):\n",
    "    primes = [2]\n",
    "    x = 3\n",
    "    while x <= num:\n",
    "        for y in range (3,x,2):\n",
    "            if x % y == 0:\n",
    "                x += 2\n",
    "                break\n",
    "        else:\n",
    "            primes.append(x)\n",
    "            x += 2\n",
    "    return (primes)\n",
    "\n",
    "count_primes(25)"
   ]
  },
  {
   "cell_type": "code",
   "execution_count": 2,
   "metadata": {},
   "outputs": [
    {
     "name": "stdout",
     "output_type": "stream",
     "text": [
      "1\n",
      "4\n",
      "9\n",
      "16\n",
      "25\n"
     ]
    }
   ],
   "source": [
    "def square(num):\n",
    "    return num**2\n",
    "\n",
    "mynums = [1,2,3,4,5]\n",
    "for item in map(square, mynums):\n",
    "    print (item)"
   ]
  },
  {
   "cell_type": "code",
   "execution_count": 3,
   "metadata": {},
   "outputs": [
    {
     "data": {
      "text/plain": [
       "[1, 4, 9, 16, 25]"
      ]
     },
     "execution_count": 3,
     "metadata": {},
     "output_type": "execute_result"
    }
   ],
   "source": [
    "list(map(square, mynums))"
   ]
  },
  {
   "cell_type": "code",
   "execution_count": 4,
   "metadata": {},
   "outputs": [
    {
     "data": {
      "text/plain": [
       "['EVEN', 'E', 'S']"
      ]
     },
     "execution_count": 4,
     "metadata": {},
     "output_type": "execute_result"
    }
   ],
   "source": [
    "def splicer(mystring):\n",
    "    if len(mystring)%2 == 0:\n",
    "        return 'EVEN'\n",
    "    else: \n",
    "        return mystring[0]\n",
    "\n",
    "names = ['Andy', 'Eve', 'Sally']\n",
    "list(map(splicer, names))"
   ]
  },
  {
   "cell_type": "code",
   "execution_count": 5,
   "metadata": {},
   "outputs": [
    {
     "data": {
      "text/plain": [
       "[2, 4, 6]"
      ]
     },
     "execution_count": 5,
     "metadata": {},
     "output_type": "execute_result"
    }
   ],
   "source": [
    "def check_even(num):\n",
    "    return num % 2 == 0\n",
    "\n",
    "mynums = [1,2,3,4,5,6]\n",
    "\n",
    "list(filter(check_even,mynums))\n"
   ]
  },
  {
   "cell_type": "code",
   "execution_count": 6,
   "metadata": {},
   "outputs": [
    {
     "name": "stdout",
     "output_type": "stream",
     "text": [
      "2\n",
      "4\n",
      "6\n"
     ]
    }
   ],
   "source": [
    "for n in filter(check_even, mynums):\n",
    "    print(n)"
   ]
  },
  {
   "cell_type": "code",
   "execution_count": 18,
   "metadata": {},
   "outputs": [],
   "source": [
    "def square(num): return num**2"
   ]
  },
  {
   "cell_type": "code",
   "execution_count": 24,
   "metadata": {},
   "outputs": [],
   "source": [
    "squares = lambda num: num**2"
   ]
  },
  {
   "cell_type": "code",
   "execution_count": 25,
   "metadata": {},
   "outputs": [
    {
     "data": {
      "text/plain": [
       "9"
      ]
     },
     "execution_count": 25,
     "metadata": {},
     "output_type": "execute_result"
    }
   ],
   "source": [
    "squares(3)"
   ]
  },
  {
   "cell_type": "code",
   "execution_count": 26,
   "metadata": {},
   "outputs": [
    {
     "data": {
      "text/plain": [
       "[1, 4, 9, 16, 25, 36]"
      ]
     },
     "execution_count": 26,
     "metadata": {},
     "output_type": "execute_result"
    }
   ],
   "source": [
    "list(map(lambda num: num**2, mynums))"
   ]
  },
  {
   "cell_type": "code",
   "execution_count": 27,
   "metadata": {},
   "outputs": [
    {
     "data": {
      "text/plain": [
       "[2, 4, 6]"
      ]
     },
     "execution_count": 27,
     "metadata": {},
     "output_type": "execute_result"
    }
   ],
   "source": [
    "list(filter(lambda num: num%2 == 0, mynums))"
   ]
  },
  {
   "cell_type": "code",
   "execution_count": 47,
   "metadata": {},
   "outputs": [
    {
     "data": {
      "text/plain": [
       "['Andy', 'Eve', 'Sally']"
      ]
     },
     "execution_count": 47,
     "metadata": {},
     "output_type": "execute_result"
    }
   ],
   "source": [
    "names"
   ]
  },
  {
   "cell_type": "code",
   "execution_count": 39,
   "metadata": {},
   "outputs": [
    {
     "data": {
      "text/plain": [
       "['ydnA', 'evE', 'yllaS']"
      ]
     },
     "execution_count": 39,
     "metadata": {},
     "output_type": "execute_result"
    }
   ],
   "source": [
    "list(map(lambda x:x[::-1], names))"
   ]
  },
  {
   "cell_type": "code",
   "execution_count": 86,
   "metadata": {},
   "outputs": [
    {
     "data": {
      "text/plain": [
       "['Sally', 'Eve', 'Andy']"
      ]
     },
     "execution_count": 86,
     "metadata": {},
     "output_type": "execute_result"
    }
   ],
   "source": [
    "#reverses item order in list\n",
    "def itemsreverse(items):\n",
    "    newitem = items[::-1]\n",
    "    return newitem\n",
    "itemsreverse(names)"
   ]
  },
  {
   "cell_type": "code",
   "execution_count": 87,
   "metadata": {},
   "outputs": [],
   "source": [
    "def stringreverse(items):\n",
    "    #reversedlist = []\n",
    "    #for item in items:\n",
    "    return items[::-1]\n",
    "    #     newitem = item[::-1]\n",
    "    #     reversedlist.append(newitem)\n",
    "    # return reversedlist\n",
    "\n",
    "#stringreverse(names)"
   ]
  },
  {
   "cell_type": "code",
   "execution_count": null,
   "metadata": {},
   "outputs": [],
   "source": []
  },
  {
   "cell_type": "code",
   "execution_count": 56,
   "metadata": {},
   "outputs": [
    {
     "name": "stdout",
     "output_type": "stream",
     "text": [
      "['ydnA', 'evE', 'yllaS']\n"
     ]
    }
   ],
   "source": [
    "newnames = [item[::-1] for item in names]\n",
    "print(newnames)\n",
    "#stringreverse2(names)"
   ]
  },
  {
   "cell_type": "code",
   "execution_count": 65,
   "metadata": {},
   "outputs": [
    {
     "data": {
      "text/plain": [
       "['Andy', 'Eve', 'Sally']"
      ]
     },
     "execution_count": 65,
     "metadata": {},
     "output_type": "execute_result"
    }
   ],
   "source": [
    "names"
   ]
  },
  {
   "cell_type": "code",
   "execution_count": 88,
   "metadata": {},
   "outputs": [
    {
     "data": {
      "text/plain": [
       "['ydnA', 'evE', 'yllaS']"
      ]
     },
     "execution_count": 88,
     "metadata": {},
     "output_type": "execute_result"
    }
   ],
   "source": [
    "list(map(stringreverse,names))"
   ]
  },
  {
   "cell_type": "code",
   "execution_count": 62,
   "metadata": {},
   "outputs": [
    {
     "data": {
      "text/plain": [
       "['Andy', 'Eve', 'Sally']"
      ]
     },
     "execution_count": 62,
     "metadata": {},
     "output_type": "execute_result"
    }
   ],
   "source": [
    "names"
   ]
  },
  {
   "cell_type": "code",
   "execution_count": 75,
   "metadata": {},
   "outputs": [
    {
     "name": "stdout",
     "output_type": "stream",
     "text": [
      "Ok\n"
     ]
    }
   ],
   "source": [
    "a = 1\n",
    "\n",
    "def myfun(x):\n",
    "    if x == 1:\n",
    "        x = 2\n",
    "        print(\"Ok\")\n",
    "\n",
    "myfun(a)"
   ]
  },
  {
   "cell_type": "code",
   "execution_count": 162,
   "metadata": {},
   "outputs": [
    {
     "name": "stdout",
     "output_type": "stream",
     "text": [
      "['ydnA', 'evE', 'yllaS']\n",
      "['ydnA', 'evE', 'yllaS']\n",
      "['yllaS', 'evE', 'ydnA']\n"
     ]
    },
    {
     "data": {
      "text/plain": [
       "[['S', 'a', 'l', 'l', 'y'], ['E', 'v', 'e'], ['A', 'n', 'd', 'y']]"
      ]
     },
     "execution_count": 162,
     "metadata": {},
     "output_type": "execute_result"
    }
   ],
   "source": [
    "def stringreverse(items):\n",
    "    reversedlist = []\n",
    "    for item in items:\n",
    "        newitem = item[::-1]\n",
    "        reversedlist.append(newitem)\n",
    "    return reversedlist\n",
    "\n",
    "def stringreverse2(items):\n",
    "        return items[::-1]\n",
    "\n",
    "def listreverse(items):\n",
    "    newitem = items[::-1]\n",
    "    return newitem\n",
    "        \n",
    "\n",
    "names = ['Andy', 'Eve', 'Sally']\n",
    "print(stringreverse(names))\n",
    "#print(stringreverse(names[::-1]))\n",
    "\n",
    "print(list(map(stringreverse2, names)))\n",
    "print(list(map(stringreverse2, names[::-1])))\n",
    "#print(listreverse(names))\n",
    "#print(names[::-1])\n",
    "\n",
    "list(map(stringreverse2, names[::-1]))\n",
    "list(map(stringreverse, names[::-1]))\n",
    "\n",
    "\n",
    "# On your first function stringreverse you are literally going into each string within the list and reversing the string. I think that’s easy enough to see. \n",
    "\n",
    "# On the other two, map applies the function to each item of an iterable. Hence why on that second print statement it simply reverses the letters in the strings. \n",
    "\n",
    "# On the last print statement, names[::-1] first reverses the order of the strings in the list. Then when you apply the function using map, each string within the now reversed list has its letters reversed.\n",
    "\n"
   ]
  },
  {
   "cell_type": "code",
   "execution_count": 201,
   "metadata": {},
   "outputs": [
    {
     "name": "stdout",
     "output_type": "stream",
     "text": [
      "txetemoS\n",
      "txetemoS\n",
      "txetemoS\n",
      "list detected\n",
      "Would you like to reverse the list, the items in the list, or both? \n",
      "1: reverse list\n",
      "2: reverse list items\n",
      "3: reverse both\n",
      ":Answer:  2 \n",
      "\n",
      "['1meti', '2meti']\n"
     ]
    }
   ],
   "source": [
    "# multiple ways to reverse a string\n",
    "\n",
    "from subprocess import list2cmdline\n",
    "\n",
    "from click import prompt\n",
    "\n",
    "\n",
    "texttoreverse = 'Sometext'\n",
    "listtoreverse = [\"item1\", \"item2\"]\n",
    "\n",
    "print(texttoreverse[::-1])\n",
    "\n",
    "def reverser(name):\n",
    "    return name[::-1]\n",
    "print(reverser(texttoreverse))\n",
    "\n",
    "def reverse(string):\n",
    "    string = list(string)\n",
    "    string.reverse()\n",
    "    return ''.join(string)\n",
    "print(reverse(texttoreverse))\n",
    "\n",
    "\n",
    "# this would be better to separate into 3 separate functions, then call each function in if statement depending on input\n",
    "def ultimatereverser(input):\n",
    "    \n",
    "    if type(input) == list:\n",
    "        print(\"list detected\")\n",
    "        val = int(prompt(\"Would you like to reverse the list, the items in the list, or both? \\n1: reverse list\\n2: reverse list items\\n3: reverse both\\n\"))\n",
    "        print(\"Answer: \", val, \"\\n\")\n",
    "        if val == 1:\n",
    "            newitem = input[::-1]\n",
    "            return(newitem)\n",
    "        if val == 2:\n",
    "            newlist = []\n",
    "            for item in input:\n",
    "                item = item[::-1]\n",
    "                newlist.append(item)\n",
    "            return (newlist)    \n",
    "        if val == 3:\n",
    "            newitem = input[::-1]\n",
    "            newlist = []\n",
    "            for item in newitem:\n",
    "                item = item[::-1]\n",
    "                newlist.append(item)\n",
    "            return (newlist)  \n",
    "\n",
    "\n",
    "\n",
    "\n",
    "    \n",
    "print(ultimatereverser(listtoreverse))\n"
   ]
  },
  {
   "cell_type": "code",
   "execution_count": 160,
   "metadata": {},
   "outputs": [
    {
     "data": {
      "text/plain": [
       "[['w', 'o', 'r', 'd', '1'], ['w', 'o', 'r', 'd', '2']]"
      ]
     },
     "execution_count": 160,
     "metadata": {},
     "output_type": "execute_result"
    }
   ],
   "source": [
    "listofwords = ['word1', 'word2']\n",
    "\n",
    "def wordsplitter(list):\n",
    "    splitlist = []\n",
    "    for i in list: \n",
    "        currentword = [x for x in i]\n",
    "        splitlist.append(currentword)\n",
    "    return splitlist\n",
    "\n",
    "wordsplitter(listofwords)"
   ]
  },
  {
   "cell_type": "code",
   "execution_count": 166,
   "metadata": {},
   "outputs": [
    {
     "data": {
      "text/plain": [
       "[1, 4, 9, 16, 25, 36]"
      ]
     },
     "execution_count": 166,
     "metadata": {},
     "output_type": "execute_result"
    }
   ],
   "source": [
    "mynums = [1,2,3,4,5,6]\n",
    "#lambda num: num**2\n",
    "list(map(lambda num:num**2, mynums))"
   ]
  },
  {
   "cell_type": "code",
   "execution_count": 167,
   "metadata": {},
   "outputs": [
    {
     "data": {
      "text/plain": [
       "[2, 4, 6]"
      ]
     },
     "execution_count": 167,
     "metadata": {},
     "output_type": "execute_result"
    }
   ],
   "source": [
    "list(filter(lambda num:num%2 == 0, mynums))"
   ]
  },
  {
   "cell_type": "code",
   "execution_count": 170,
   "metadata": {},
   "outputs": [
    {
     "data": {
      "text/plain": [
       "['ydnA', 'evE', 'yllaS']"
      ]
     },
     "execution_count": 170,
     "metadata": {},
     "output_type": "execute_result"
    }
   ],
   "source": [
    "list(map(lambda x:x[::-1], names))"
   ]
  },
  {
   "cell_type": "code",
   "execution_count": 173,
   "metadata": {},
   "outputs": [
    {
     "name": "stdout",
     "output_type": "stream",
     "text": [
      "25\n",
      "50\n",
      "25\n"
     ]
    }
   ],
   "source": [
    "#SCOPE\n",
    "\n",
    "x = 25\n",
    "def printer():\n",
    "    x = 50\n",
    "    return x\n",
    "\n",
    "print(x)\n",
    "print(printer())\n",
    "print(x)"
   ]
  },
  {
   "cell_type": "code",
   "execution_count": 186,
   "metadata": {},
   "outputs": [],
   "source": [
    "#LEGB: Local, Enclosed, Global, Built-in\n",
    "\n",
    "name = 'this is a global string'\n",
    "\n",
    "def greet(): \n",
    "\n",
    "    newname1 = 'this is a string in an enclosing function'\n",
    "\n",
    "    def hello():\n",
    "        newname2 = 'this is a local string'\n",
    "        print('hello ' + name + ' and ' + newname1  + ' and ' + newname2)\n",
    "\n",
    "    hello()"
   ]
  },
  {
   "cell_type": "code",
   "execution_count": 187,
   "metadata": {},
   "outputs": [
    {
     "name": "stdout",
     "output_type": "stream",
     "text": [
      "hello this is a global string and this is a string in an enclosing function and this is a local string\n"
     ]
    }
   ],
   "source": [
    "greet()"
   ]
  },
  {
   "cell_type": "code",
   "execution_count": 200,
   "metadata": {},
   "outputs": [
    {
     "name": "stdout",
     "output_type": "stream",
     "text": [
      "X is 50\n",
      "I just locally changed global x to 200\n",
      "200\n"
     ]
    }
   ],
   "source": [
    "x = 50\n",
    "\n",
    "def func():\n",
    "    global x\n",
    "    print(f'X is {x}')\n",
    "# local reassignment on a global variable\n",
    "    x = '200'\n",
    "    print(f'I just locally changed global x to {x}')\n",
    "    #return x\n",
    "func()\n",
    "print(x)\n",
    "\n",
    "\n"
   ]
  },
  {
   "cell_type": "code",
   "execution_count": 190,
   "metadata": {},
   "outputs": [
    {
     "ename": "TypeError",
     "evalue": "func() takes 0 positional arguments but 1 was given",
     "output_type": "error",
     "traceback": [
      "\u001b[1;31m---------------------------------------------------------------------------\u001b[0m",
      "\u001b[1;31mTypeError\u001b[0m                                 Traceback (most recent call last)",
      "\u001b[1;32mc:\\git\\python0tohero\\section6-methodsandfunctions.ipynb Cell 66'\u001b[0m in \u001b[0;36m<cell line: 1>\u001b[1;34m()\u001b[0m\n\u001b[1;32m----> <a href='vscode-notebook-cell:/c%3A/git/python0tohero/section6-methodsandfunctions.ipynb#ch0000065?line=0'>1</a>\u001b[0m x \u001b[39m=\u001b[39m func(x)\n",
      "\u001b[1;31mTypeError\u001b[0m: func() takes 0 positional arguments but 1 was given"
     ]
    }
   ],
   "source": []
  },
  {
   "cell_type": "code",
   "execution_count": 203,
   "metadata": {},
   "outputs": [
    {
     "name": "stdout",
     "output_type": "stream",
     "text": [
      "3.141592653589793\n"
     ]
    }
   ],
   "source": [
    "from math import pi\n",
    "\n",
    "print(pi)\n"
   ]
  },
  {
   "cell_type": "code",
   "execution_count": null,
   "metadata": {},
   "outputs": [],
   "source": []
  }
 ],
 "metadata": {
  "kernelspec": {
   "display_name": "Python 3.9.12 ('base')",
   "language": "python",
   "name": "python3"
  },
  "language_info": {
   "codemirror_mode": {
    "name": "ipython",
    "version": 3
   },
   "file_extension": ".py",
   "mimetype": "text/x-python",
   "name": "python",
   "nbconvert_exporter": "python",
   "pygments_lexer": "ipython3",
   "version": "3.9.12"
  },
  "orig_nbformat": 4,
  "vscode": {
   "interpreter": {
    "hash": "4c077c30561241be03c41ae9383d0790cec0a69af14a8824d4f85b0977298f57"
   }
  }
 },
 "nbformat": 4,
 "nbformat_minor": 2
}
