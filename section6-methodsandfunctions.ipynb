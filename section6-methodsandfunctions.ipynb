{
 "cells": [
  {
   "cell_type": "code",
   "execution_count": 1,
   "metadata": {},
   "outputs": [],
   "source": [
    "# section 6"
   ]
  },
  {
   "cell_type": "code",
   "execution_count": 8,
   "metadata": {},
   "outputs": [
    {
     "data": {
      "text/plain": [
       "[1, 2, 3, 4]"
      ]
     },
     "execution_count": 8,
     "metadata": {},
     "output_type": "execute_result"
    }
   ],
   "source": [
    "mylist = [1,2,3]\n",
    "mylist.append(4)\n",
    "mylist"
   ]
  },
  {
   "cell_type": "code",
   "execution_count": 9,
   "metadata": {},
   "outputs": [
    {
     "data": {
      "text/plain": [
       "[1, 2, 3]"
      ]
     },
     "execution_count": 9,
     "metadata": {},
     "output_type": "execute_result"
    }
   ],
   "source": [
    "mylist.pop()\n",
    "mylist"
   ]
  },
  {
   "cell_type": "code",
   "execution_count": 10,
   "metadata": {},
   "outputs": [
    {
     "name": "stdout",
     "output_type": "stream",
     "text": [
      "Help on built-in function insert:\n",
      "\n",
      "insert(index, object, /) method of builtins.list instance\n",
      "    Insert object before index.\n",
      "\n"
     ]
    }
   ],
   "source": [
    "help(mylist.insert)\n"
   ]
  },
  {
   "cell_type": "code",
   "execution_count": 11,
   "metadata": {},
   "outputs": [
    {
     "ename": "SyntaxError",
     "evalue": "EOF while scanning triple-quoted string literal (2897294993.py, line 2)",
     "output_type": "error",
     "traceback": [
      "\u001b[1;36m  Input \u001b[1;32mIn [11]\u001b[1;36m\u001b[0m\n\u001b[1;33m    '''\u001b[0m\n\u001b[1;37m       ^\u001b[0m\n\u001b[1;31mSyntaxError\u001b[0m\u001b[1;31m:\u001b[0m EOF while scanning triple-quoted string literal\n"
     ]
    }
   ],
   "source": [
    "def name_of_function(name):\n",
    "    '''\n",
    "    docstring\n",
    "    multiline comment to explain function\n",
    "    '''\n",
    "    return('hello ' + name)"
   ]
  },
  {
   "cell_type": "code",
   "execution_count": 13,
   "metadata": {},
   "outputs": [
    {
     "name": "stdout",
     "output_type": "stream",
     "text": [
      "3\n"
     ]
    }
   ],
   "source": [
    "def add_function(num1, num2):\n",
    "    return num1+num2\n",
    "\n",
    "result = add_function(1,2)\n",
    "print(result)"
   ]
  },
  {
   "cell_type": "code",
   "execution_count": 14,
   "metadata": {},
   "outputs": [
    {
     "name": "stdout",
     "output_type": "stream",
     "text": [
      "hello\n"
     ]
    }
   ],
   "source": [
    "def say_hello():\n",
    "    print('hello')\n",
    "say_hello()"
   ]
  },
  {
   "cell_type": "code",
   "execution_count": 16,
   "metadata": {},
   "outputs": [
    {
     "name": "stdout",
     "output_type": "stream",
     "text": [
      "Hello Default\n"
     ]
    }
   ],
   "source": [
    "def say_hello(name='Default'):\n",
    "    print(f'Hello {name}')\n",
    "say_hello()"
   ]
  },
  {
   "cell_type": "code",
   "execution_count": 17,
   "metadata": {},
   "outputs": [
    {
     "data": {
      "text/plain": [
       "30"
      ]
     },
     "execution_count": 17,
     "metadata": {},
     "output_type": "execute_result"
    }
   ],
   "source": [
    "def add_num(num1, num2):\n",
    "    return num1 + num2\n",
    "result = add_num(10,20)\n",
    "result"
   ]
  },
  {
   "cell_type": "code",
   "execution_count": 18,
   "metadata": {},
   "outputs": [],
   "source": [
    "def print_result(a,b):\n",
    "    print(a+b)"
   ]
  },
  {
   "cell_type": "code",
   "execution_count": 19,
   "metadata": {},
   "outputs": [],
   "source": [
    "def return_result(a,b):\n",
    "    return a+b"
   ]
  },
  {
   "cell_type": "code",
   "execution_count": 24,
   "metadata": {},
   "outputs": [
    {
     "name": "stdout",
     "output_type": "stream",
     "text": [
      "30\n"
     ]
    },
    {
     "data": {
      "text/plain": [
       "NoneType"
      ]
     },
     "execution_count": 24,
     "metadata": {},
     "output_type": "execute_result"
    }
   ],
   "source": [
    "#does not assign function output to variable\n",
    "result = print_result(10,20)\n",
    "type(result)"
   ]
  },
  {
   "cell_type": "code",
   "execution_count": 27,
   "metadata": {},
   "outputs": [
    {
     "data": {
      "text/plain": [
       "int"
      ]
     },
     "execution_count": 27,
     "metadata": {},
     "output_type": "execute_result"
    }
   ],
   "source": [
    "result = return_result(10,20)\n",
    "type(result)"
   ]
  },
  {
   "cell_type": "code",
   "execution_count": 30,
   "metadata": {},
   "outputs": [
    {
     "data": {
      "text/plain": [
       "False"
      ]
     },
     "execution_count": 30,
     "metadata": {},
     "output_type": "execute_result"
    }
   ],
   "source": [
    "def even_check(number):\n",
    "    return number % 2 == 0\n",
    "    \n",
    "even_check(3)"
   ]
  },
  {
   "cell_type": "code",
   "execution_count": 37,
   "metadata": {},
   "outputs": [
    {
     "data": {
      "text/plain": [
       "True"
      ]
     },
     "execution_count": 37,
     "metadata": {},
     "output_type": "execute_result"
    }
   ],
   "source": [
    "#return true if any number is even inside of a list\n",
    "def check_even_list(num_list):\n",
    "    for number in num_list:\n",
    "        if number % 2 == 0:\n",
    "            return True\n",
    "        else: \n",
    "            pass\n",
    "    return False\n",
    "check_even_list([1,3,2])"
   ]
  },
  {
   "cell_type": "code",
   "execution_count": 42,
   "metadata": {},
   "outputs": [
    {
     "data": {
      "text/plain": [
       "[2, 4]"
      ]
     },
     "execution_count": 42,
     "metadata": {},
     "output_type": "execute_result"
    }
   ],
   "source": [
    "#return all the even numbers in a list\n",
    "\n",
    "def check_even_list(num_list):\n",
    "    #placeholder variables\n",
    "    even_numbers = []\n",
    "    for number in num_list:\n",
    "        if number % 2 == 0:\n",
    "            even_numbers.append(number)\n",
    "            #return True\n",
    "        else: \n",
    "            pass\n",
    "    return even_numbers\n",
    "check_even_list([1,3,2,4])"
   ]
  },
  {
   "cell_type": "code",
   "execution_count": 43,
   "metadata": {},
   "outputs": [
    {
     "name": "stdout",
     "output_type": "stream",
     "text": [
      "220.0\n",
      "440.0\n",
      "110.0\n"
     ]
    }
   ],
   "source": [
    "stock_prices = [('APPL', 200),('GOOG', 400), ('MSFT', 100)]\n",
    "for ticker, price in stock_prices:\n",
    "    print(price+(0.1*price))"
   ]
  },
  {
   "cell_type": "code",
   "execution_count": 49,
   "metadata": {},
   "outputs": [
    {
     "name": "stdout",
     "output_type": "stream",
     "text": [
      "Cassie\n",
      "800\n"
     ]
    }
   ],
   "source": [
    "#tuple unpacking in a for loop\n",
    "\n",
    "work_hours = [('Abby', 100), ('Billy', 400), ('Cassie', 800)]\n",
    "def employee_check(work_hours):\n",
    "    current_max = 0\n",
    "    employee_of_month = ''\n",
    "    \n",
    "    for employee,hours in work_hours:\n",
    "        if hours > current_max:\n",
    "            current_max = hours\n",
    "            employee_of_month = employee\n",
    "        else:\n",
    "            pass\n",
    "    \n",
    "    #Return\n",
    "    return (employee_of_month, current_max)\n",
    "\n",
    "name, hours = employee_check(work_hours)\n",
    "print(name)\n",
    "print(hours)"
   ]
  },
  {
   "cell_type": "code",
   "execution_count": 51,
   "metadata": {},
   "outputs": [
    {
     "data": {
      "text/plain": [
       "[5, 4, 3, 6, 2, 1, 7]"
      ]
     },
     "execution_count": 51,
     "metadata": {},
     "output_type": "execute_result"
    }
   ],
   "source": [
    "example = [1,2,3,4,5,6,7]\n",
    "from random import shuffle \n",
    "shuffle(example)\n",
    "example"
   ]
  },
  {
   "cell_type": "code",
   "execution_count": 53,
   "metadata": {},
   "outputs": [
    {
     "data": {
      "text/plain": [
       "[7, 4, 2, 1, 6, 5, 3]"
      ]
     },
     "execution_count": 53,
     "metadata": {},
     "output_type": "execute_result"
    }
   ],
   "source": [
    "# shuffle doesn't return anything, must create a function to return -> assign it to a varible.\n",
    "# result = shuffle(dataset) will not work\n",
    "def shuffle_list(mylist):\n",
    "    shuffle(mylist)\n",
    "    return(mylist)\n",
    "result = shuffle_list(example)\n",
    "result"
   ]
  },
  {
   "cell_type": "code",
   "execution_count": 55,
   "metadata": {},
   "outputs": [
    {
     "data": {
      "text/plain": [
       "[' ', ' ', 'O']"
      ]
     },
     "execution_count": 55,
     "metadata": {},
     "output_type": "execute_result"
    }
   ],
   "source": [
    "mylist = [' ', 'O', ' ']\n",
    "shuffle_list(mylist)"
   ]
  },
  {
   "cell_type": "code",
   "execution_count": 58,
   "metadata": {},
   "outputs": [
    {
     "data": {
      "text/plain": [
       "2"
      ]
     },
     "execution_count": 58,
     "metadata": {},
     "output_type": "execute_result"
    }
   ],
   "source": [
    "def player_guess():\n",
    "    guess = ''\n",
    "    while guess not in ['0', '1', '2']:\n",
    "        guess = input('pick a number: 0, 1, or 2')\n",
    "    return int(guess)\n",
    "myindex = player_guess()\n",
    "myindex"
   ]
  },
  {
   "cell_type": "code",
   "execution_count": 59,
   "metadata": {},
   "outputs": [],
   "source": [
    "def check_guess(mylist, guess):\n",
    "    if mylist[guess] == 'O':\n",
    "        print('Corrent!')\n",
    "    else:\n",
    "        print('wroooong')\n",
    "        print(mylist)"
   ]
  },
  {
   "cell_type": "code",
   "execution_count": 60,
   "metadata": {},
   "outputs": [
    {
     "name": "stdout",
     "output_type": "stream",
     "text": [
      "wroooong\n",
      "[' ', ' ', 'O']\n"
     ]
    }
   ],
   "source": [
    "# initial list\n",
    "mylist\n",
    "\n",
    "# shuffle list\n",
    "mixedup_list = shuffle_list(mylist)\n",
    "\n",
    "# user guss\n",
    "guess = player_guess()\n",
    "\n",
    "# check guess\n",
    "check_guess(mixedup_list, guess)"
   ]
  },
  {
   "cell_type": "code",
   "execution_count": 156,
   "metadata": {},
   "outputs": [],
   "source": [
    "# practice - rewrite the last script without referring to it\n",
    "from random import shuffle \n",
    "\n",
    "\n",
    "# cup shuffler\n",
    "thecups = [' ', 'O', ' ']\n",
    "\n",
    "def cupshuffler(cups):\n",
    "    shuffle(cups)\n",
    "    return cups\n",
    "#cupshuffler(thecups) # added in review\n",
    "\n",
    "# thecups = cupshuffler(thecups)\n",
    "\n",
    "\n",
    "# persons guess\n",
    "\n",
    "def playerguess():\n",
    "    guess = '' # added in review\n",
    "    while guess not in ['0', '1', '2']:    \n",
    "        guess = input('What is your guess? 1, 2, or 3')\n",
    "    return int(guess)\n",
    "\n",
    "# guess2 = guess()\n",
    "\n",
    "# guess checker\n",
    "\n",
    "def guesschecker(lecups, anyguess): # added inputs\n",
    "    if lecups[anyguess] == 'O':\n",
    "        return \"correct\"\n",
    "    else:\n",
    "        print(\"wrong \\n\")\n",
    "        print(lecups)\n",
    "        \n",
    "\n",
    "# guesschecker()\n",
    "\n",
    "# thecups\n",
    "\n",
    "# mixedcups = cupshuffler(thecups)\n",
    "\n",
    "# guess = playerguess()\n",
    "\n",
    "# guesschecker(mixedup_list, guess)\n"
   ]
  },
  {
   "cell_type": "code",
   "execution_count": 158,
   "metadata": {},
   "outputs": [
    {
     "name": "stdout",
     "output_type": "stream",
     "text": [
      "wrong \n",
      "\n",
      "['O', ' ', ' ']\n"
     ]
    }
   ],
   "source": [
    "# final script\n",
    "thecups\n",
    "\n",
    "mixedcups = cupshuffler(thecups)\n",
    "\n",
    "guess = playerguess()\n",
    "\n",
    "guesschecker(mixedcups, guess)\n"
   ]
  },
  {
   "cell_type": "code",
   "execution_count": 160,
   "metadata": {},
   "outputs": [
    {
     "data": {
      "text/plain": [
       "798.6500000000001"
      ]
     },
     "execution_count": 160,
     "metadata": {},
     "output_type": "execute_result"
    }
   ],
   "source": [
    "# *args and *kwargs\n",
    "\n",
    "def myfunc(*args):\n",
    "    return sum(args) * 0.05\n",
    "myfunc(2,4,5,6,5,4,3,3,4,5,5,6,4,4,4,543,5435,43,543,543,534,534,5,435,43,57,658,5768,768)"
   ]
  },
  {
   "cell_type": "code",
   "execution_count": 162,
   "metadata": {},
   "outputs": [
    {
     "name": "stdout",
     "output_type": "stream",
     "text": [
      "My fruit of choice is apple\n"
     ]
    }
   ],
   "source": [
    "def myfunc(**kwargs):\n",
    "    if 'fruit' in kwargs:\n",
    "        print('My fruit of choice is {}'.format(kwargs['fruit']))\n",
    "    else:\n",
    "        print('no fruit')\n",
    "myfunc(fruit='apple', veggie = 'lettuce')"
   ]
  },
  {
   "cell_type": "code",
   "execution_count": 164,
   "metadata": {},
   "outputs": [
    {
     "name": "stdout",
     "output_type": "stream",
     "text": [
      "(10, 20, 30)\n",
      "{'fruit': 'orange', 'food': 'eggs', 'animal': 'dog'}\n",
      "I would like 10 eggs\n"
     ]
    }
   ],
   "source": [
    "def myfunc(*args, **kwargs):\n",
    "    print(args)\n",
    "    print(kwargs)\n",
    "    print('I would like {} {}'.format(args[0],kwargs['food']))\n",
    "myfunc(10,20,30, fruit = \"orange\", food = \"eggs\", animal = \"dog\")"
   ]
  },
  {
   "cell_type": "code",
   "execution_count": 167,
   "metadata": {},
   "outputs": [
    {
     "data": {
      "text/plain": [
       "[2, 4, 6]"
      ]
     },
     "execution_count": 167,
     "metadata": {},
     "output_type": "execute_result"
    }
   ],
   "source": [
    "def myfunc(*args):\n",
    "    mylist = []\n",
    "    for arg in args:\n",
    "        if arg % 2 == 0:\n",
    "            mylist.append(arg)\n",
    "    return(mylist)\n",
    "    \n",
    "myfunc(2,3,4,5,6)"
   ]
  },
  {
   "cell_type": "code",
   "execution_count": 175,
   "metadata": {},
   "outputs": [
    {
     "name": "stdout",
     "output_type": "stream",
     "text": [
      "0 [0, 0, 0]\n",
      "1 [0, 0, 0]\n",
      "2 [0, 0, 0]\n",
      "3 [0, 0, 0]\n",
      "4 [0, 0, 0]\n",
      "5 [0, 0, 0]\n",
      "6 [0, 0, 0]\n",
      "7 [0, 0, 0]\n",
      "8 [0, 0, 0]\n",
      "9 [0, 0, 0]\n",
      "10 [0, 0, 0]\n",
      "11 [0, 0, 0]\n",
      "12 [0, 0, 0]\n",
      "13 [0, 0, 0]\n",
      "14 [0, 0, 0]\n",
      "15 [0, 0, 0]\n",
      "16 [0, 0, 0]\n",
      "17 [0, 0, 0]\n",
      "18 [0, 0, 0]\n",
      "19 [0, 0, 0]\n",
      "20 [0, 0, 0]\n",
      "21 [0, 0, 0]\n",
      "22 [0, 0, 0]\n",
      "23 [0, 0, 0]\n",
      "24 [0, 0, 0]\n",
      "25 [0, 0, 0]\n",
      "26 [0, 0, 0]\n",
      "27 [0, 0, 0]\n",
      "28 [0, 0, 0]\n",
      "29 [0, 0, 0]\n",
      "30 [0, 0, 0]\n",
      "31 [0, 0, 0]\n",
      "32 [0, 0, 0]\n",
      "33 [0, 0, 0]\n",
      "34 [0, 0, 0]\n",
      "35 [0, 0, 0]\n",
      "36 [0, 0, 0]\n",
      "37 [0, 0, 0]\n",
      "38 [0, 0, 0]\n",
      "39 [0, 0, 0]\n",
      "40 [0, 0, 0]\n",
      "41 [0, 0, 0]\n",
      "42 [0, 0, 0]\n",
      "43 [0, 0, 0]\n",
      "44 [0, 0, 0]\n",
      "45 [0, 0, 0]\n",
      "46 [0, 0, 0]\n",
      "47 [0, 0, 0]\n",
      "48 [0, 0, 0]\n",
      "49 [0, 0, 0]\n",
      "50 [0, 0, 0]\n",
      "51 [0, 0, 0]\n",
      "52 [0, 0, 0]\n",
      "53 [0, 0, 0]\n",
      "54 [0, 0, 0]\n",
      "55 [0, 0, 0]\n",
      "56 [0, 0, 0]\n",
      "57 [0, 0, 0]\n",
      "58 [0, 0, 0]\n",
      "59 [0, 0, 0]\n",
      "60 [0, 0, 0]\n",
      "61 [0, 0, 0]\n",
      "62 [0, 0, 0]\n",
      "63 [0, 0, 0]\n",
      "64 [0, 0, 0]\n",
      "65 [0, 0, 0]\n",
      "66 [0, 0, 0]\n",
      "67 [0, 0, 0]\n",
      "68 [0, 0, 0]\n",
      "69 [0, 0, 0]\n",
      "70 [0, 0, 0]\n",
      "71 [0, 0, 0]\n",
      "72 [0, 0, 0]\n",
      "73 [0, 0, 0]\n",
      "74 [0, 0, 0]\n",
      "75 [0, 0, 0]\n",
      "76 [0, 0, 0]\n",
      "77 [0, 0, 0]\n",
      "78 [0, 0, 0]\n",
      "79 [0, 0, 0]\n",
      "80 [0, 0, 0]\n",
      "81 [0, 0, 0]\n",
      "82 [0, 0, 0]\n",
      "83 [0, 0, 0]\n",
      "84 [0, 0, 0]\n",
      "85 [0, 0, 0]\n",
      "86 [0, 0, 0]\n",
      "87 [0, 0, 0]\n",
      "88 [0, 0, 0]\n",
      "89 [0, 0, 0]\n",
      "90 [0, 0, 0]\n",
      "91 [0, 0, 0]\n",
      "92 [0, 0, 0]\n",
      "93 [0, 0, 0]\n",
      "94 [0, 0, 0]\n",
      "95 [0, 0, 0]\n",
      "96 [0, 0, 0]\n",
      "97 [0, 0, 0]\n",
      "98 [0, 0, 0]\n",
      "99 [0, 0, 0]\n",
      "100 [0, 0, 0]\n"
     ]
    }
   ],
   "source": [
    "import colorsys\n",
    "\n",
    "for i in range(101):\n",
    "    rgb = colorsys.hsv_to_rgb(i / 100., 1.0, 0.0)\n",
    "    print(i, [round(255*x) for x in rgb])"
   ]
  },
  {
   "cell_type": "code",
   "execution_count": 209,
   "metadata": {},
   "outputs": [
    {
     "name": "stdout",
     "output_type": "stream",
     "text": [
      "img = Image.new('RGB', (6000, 3376), (\n",
      "[5, 5, 5]\n",
      "img = Image.new('RGB', (6000, 3376), (\n",
      "[10, 10, 10]\n",
      "img = Image.new('RGB', (6000, 3376), (\n",
      "[15, 15, 15]\n",
      "img = Image.new('RGB', (6000, 3376), (\n",
      "[20, 20, 20]\n",
      "img = Image.new('RGB', (6000, 3376), (\n",
      "[25, 25, 25]\n",
      "img = Image.new('RGB', (6000, 3376), (\n",
      "[30, 30, 30]\n",
      "img = Image.new('RGB', (6000, 3376), (\n",
      "[35, 35, 35]\n",
      "img = Image.new('RGB', (6000, 3376), (\n",
      "[40, 40, 40]\n",
      "img = Image.new('RGB', (6000, 3376), (\n",
      "[45, 45, 45]\n",
      "img = Image.new('RGB', (6000, 3376), (\n",
      "[50, 50, 50]\n",
      "img = Image.new('RGB', (6000, 3376), (\n",
      "[55, 55, 55]\n",
      "img = Image.new('RGB', (6000, 3376), (\n",
      "[60, 60, 60]\n",
      "img = Image.new('RGB', (6000, 3376), (\n",
      "[65, 65, 65]\n",
      "img = Image.new('RGB', (6000, 3376), (\n",
      "[70, 70, 70]\n",
      "img = Image.new('RGB', (6000, 3376), (\n",
      "[75, 75, 75]\n",
      "img = Image.new('RGB', (6000, 3376), (\n",
      "[80, 80, 80]\n",
      "img = Image.new('RGB', (6000, 3376), (\n",
      "[85, 85, 85]\n",
      "img = Image.new('RGB', (6000, 3376), (\n",
      "[90, 90, 90]\n",
      "img = Image.new('RGB', (6000, 3376), (\n",
      "[95, 95, 95]\n",
      "img = Image.new('RGB', (6000, 3376), (\n",
      "[100, 100, 100]\n",
      "img = Image.new('RGB', (6000, 3376), (\n",
      "[105, 105, 105]\n",
      "img = Image.new('RGB', (6000, 3376), (\n",
      "[110, 110, 110]\n",
      "img = Image.new('RGB', (6000, 3376), (\n",
      "[115, 115, 115]\n",
      "img = Image.new('RGB', (6000, 3376), (\n",
      "[120, 120, 120]\n",
      "img = Image.new('RGB', (6000, 3376), (\n",
      "[125, 125, 125]\n",
      "img = Image.new('RGB', (6000, 3376), (\n",
      "[130, 130, 130]\n",
      "img = Image.new('RGB', (6000, 3376), (\n",
      "[135, 135, 135]\n",
      "img = Image.new('RGB', (6000, 3376), (\n",
      "[140, 140, 140]\n",
      "img = Image.new('RGB', (6000, 3376), (\n",
      "[145, 145, 145]\n",
      "img = Image.new('RGB', (6000, 3376), (\n",
      "[150, 150, 150]\n",
      "img = Image.new('RGB', (6000, 3376), (\n",
      "[155, 155, 155]\n",
      "img = Image.new('RGB', (6000, 3376), (\n",
      "[160, 160, 160]\n",
      "img = Image.new('RGB', (6000, 3376), (\n",
      "[165, 165, 165]\n",
      "img = Image.new('RGB', (6000, 3376), (\n",
      "[170, 170, 170]\n",
      "img = Image.new('RGB', (6000, 3376), (\n",
      "[175, 175, 175]\n",
      "img = Image.new('RGB', (6000, 3376), (\n",
      "[180, 180, 180]\n",
      "img = Image.new('RGB', (6000, 3376), (\n",
      "[185, 185, 185]\n",
      "img = Image.new('RGB', (6000, 3376), (\n",
      "[190, 190, 190]\n",
      "img = Image.new('RGB', (6000, 3376), (\n",
      "[195, 195, 195]\n",
      "img = Image.new('RGB', (6000, 3376), (\n",
      "[200, 200, 200]\n",
      "img = Image.new('RGB', (6000, 3376), (\n",
      "[205, 205, 205]\n",
      "img = Image.new('RGB', (6000, 3376), (\n",
      "[210, 210, 210]\n",
      "img = Image.new('RGB', (6000, 3376), (\n",
      "[215, 215, 215]\n",
      "img = Image.new('RGB', (6000, 3376), (\n",
      "[220, 220, 220]\n",
      "img = Image.new('RGB', (6000, 3376), (\n",
      "[225, 225, 225]\n",
      "img = Image.new('RGB', (6000, 3376), (\n",
      "[230, 230, 230]\n",
      "img = Image.new('RGB', (6000, 3376), (\n",
      "[235, 235, 235]\n",
      "img = Image.new('RGB', (6000, 3376), (\n",
      "[240, 240, 240]\n",
      "img = Image.new('RGB', (6000, 3376), (\n",
      "[245, 245, 245]\n",
      "img = Image.new('RGB', (6000, 3376), (\n",
      "[250, 250, 250]\n",
      "img = Image.new('RGB', (6000, 3376), (\n",
      "[255, 255, 255]\n"
     ]
    }
   ],
   "source": [
    "mylist = [0, 0, 0]\n",
    "for x in range(0,255,5): \n",
    "    if mylist[0] <= 255:\n",
    "        #print('color: {n}'.format(n=int(x/5)+1)) #print('{n} is {a} years old.'.format(n=name,a=age))\n",
    "        print(\"img = Image.new('RGB', (6000, 3376), (\")\n",
    "        mylist[0] += 5\n",
    "        \n",
    "        mylist[1] += 5\n",
    "        mylist[2] += 5\n",
    "    print(mylist)\n",
    "    \n",
    "#print(mylist)"
   ]
  },
  {
   "cell_type": "code",
   "execution_count": null,
   "metadata": {},
   "outputs": [],
   "source": []
  }
 ],
 "metadata": {
  "kernelspec": {
   "display_name": "Python 3.9.12 ('base')",
   "language": "python",
   "name": "python3"
  },
  "language_info": {
   "codemirror_mode": {
    "name": "ipython",
    "version": 3
   },
   "file_extension": ".py",
   "mimetype": "text/x-python",
   "name": "python",
   "nbconvert_exporter": "python",
   "pygments_lexer": "ipython3",
   "version": "3.9.12"
  },
  "orig_nbformat": 4,
  "vscode": {
   "interpreter": {
    "hash": "4c077c30561241be03c41ae9383d0790cec0a69af14a8824d4f85b0977298f57"
   }
  }
 },
 "nbformat": 4,
 "nbformat_minor": 2
}
