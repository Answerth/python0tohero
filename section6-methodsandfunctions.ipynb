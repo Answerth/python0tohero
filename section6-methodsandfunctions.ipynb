{
 "cells": [
  {
   "cell_type": "code",
   "execution_count": 206,
   "metadata": {},
   "outputs": [],
   "source": [
    "# section 6"
   ]
  },
  {
   "cell_type": "code",
   "execution_count": 8,
   "metadata": {},
   "outputs": [
    {
     "data": {
      "text/plain": [
       "[1, 2, 3, 4]"
      ]
     },
     "execution_count": 8,
     "metadata": {},
     "output_type": "execute_result"
    }
   ],
   "source": [
    "mylist = [1,2,3]\n",
    "mylist.append(4)\n",
    "mylist"
   ]
  },
  {
   "cell_type": "code",
   "execution_count": 9,
   "metadata": {},
   "outputs": [
    {
     "data": {
      "text/plain": [
       "[1, 2, 3]"
      ]
     },
     "execution_count": 9,
     "metadata": {},
     "output_type": "execute_result"
    }
   ],
   "source": [
    "mylist.pop()\n",
    "mylist"
   ]
  },
  {
   "cell_type": "code",
   "execution_count": 10,
   "metadata": {},
   "outputs": [
    {
     "name": "stdout",
     "output_type": "stream",
     "text": [
      "Help on built-in function insert:\n",
      "\n",
      "insert(index, object, /) method of builtins.list instance\n",
      "    Insert object before index.\n",
      "\n"
     ]
    }
   ],
   "source": [
    "help(mylist.insert)\n"
   ]
  },
  {
   "cell_type": "code",
   "execution_count": 11,
   "metadata": {},
   "outputs": [
    {
     "ename": "SyntaxError",
     "evalue": "EOF while scanning triple-quoted string literal (2897294993.py, line 2)",
     "output_type": "error",
     "traceback": [
      "\u001b[1;36m  Input \u001b[1;32mIn [11]\u001b[1;36m\u001b[0m\n\u001b[1;33m    '''\u001b[0m\n\u001b[1;37m       ^\u001b[0m\n\u001b[1;31mSyntaxError\u001b[0m\u001b[1;31m:\u001b[0m EOF while scanning triple-quoted string literal\n"
     ]
    }
   ],
   "source": [
    "def name_of_function(name):\n",
    "    '''\n",
    "    docstring\n",
    "    multiline comment to explain function\n",
    "    '''\n",
    "    return('hello ' + name)"
   ]
  },
  {
   "cell_type": "code",
   "execution_count": 13,
   "metadata": {},
   "outputs": [
    {
     "name": "stdout",
     "output_type": "stream",
     "text": [
      "3\n"
     ]
    }
   ],
   "source": [
    "def add_function(num1, num2):\n",
    "    return num1+num2\n",
    "\n",
    "result = add_function(1,2)\n",
    "print(result)"
   ]
  },
  {
   "cell_type": "code",
   "execution_count": 14,
   "metadata": {},
   "outputs": [
    {
     "name": "stdout",
     "output_type": "stream",
     "text": [
      "hello\n"
     ]
    }
   ],
   "source": [
    "def say_hello():\n",
    "    print('hello')\n",
    "say_hello()"
   ]
  },
  {
   "cell_type": "code",
   "execution_count": 16,
   "metadata": {},
   "outputs": [
    {
     "name": "stdout",
     "output_type": "stream",
     "text": [
      "Hello Default\n"
     ]
    }
   ],
   "source": [
    "def say_hello(name='Default'):\n",
    "    print(f'Hello {name}')\n",
    "say_hello()"
   ]
  },
  {
   "cell_type": "code",
   "execution_count": 17,
   "metadata": {},
   "outputs": [
    {
     "data": {
      "text/plain": [
       "30"
      ]
     },
     "execution_count": 17,
     "metadata": {},
     "output_type": "execute_result"
    }
   ],
   "source": [
    "def add_num(num1, num2):\n",
    "    return num1 + num2\n",
    "result = add_num(10,20)\n",
    "result"
   ]
  },
  {
   "cell_type": "code",
   "execution_count": 18,
   "metadata": {},
   "outputs": [],
   "source": [
    "def print_result(a,b):\n",
    "    print(a+b)"
   ]
  },
  {
   "cell_type": "code",
   "execution_count": 19,
   "metadata": {},
   "outputs": [],
   "source": [
    "def return_result(a,b):\n",
    "    return a+b"
   ]
  },
  {
   "cell_type": "code",
   "execution_count": 24,
   "metadata": {},
   "outputs": [
    {
     "name": "stdout",
     "output_type": "stream",
     "text": [
      "30\n"
     ]
    },
    {
     "data": {
      "text/plain": [
       "NoneType"
      ]
     },
     "execution_count": 24,
     "metadata": {},
     "output_type": "execute_result"
    }
   ],
   "source": [
    "#does not assign function output to variable\n",
    "result = print_result(10,20)\n",
    "type(result)"
   ]
  },
  {
   "cell_type": "code",
   "execution_count": 27,
   "metadata": {},
   "outputs": [
    {
     "data": {
      "text/plain": [
       "int"
      ]
     },
     "execution_count": 27,
     "metadata": {},
     "output_type": "execute_result"
    }
   ],
   "source": [
    "result = return_result(10,20)\n",
    "type(result)"
   ]
  },
  {
   "cell_type": "code",
   "execution_count": 30,
   "metadata": {},
   "outputs": [
    {
     "data": {
      "text/plain": [
       "False"
      ]
     },
     "execution_count": 30,
     "metadata": {},
     "output_type": "execute_result"
    }
   ],
   "source": [
    "def even_check(number):\n",
    "    return number % 2 == 0\n",
    "    \n",
    "even_check(3)"
   ]
  },
  {
   "cell_type": "code",
   "execution_count": 37,
   "metadata": {},
   "outputs": [
    {
     "data": {
      "text/plain": [
       "True"
      ]
     },
     "execution_count": 37,
     "metadata": {},
     "output_type": "execute_result"
    }
   ],
   "source": [
    "#return true if any number is even inside of a list\n",
    "def check_even_list(num_list):\n",
    "    for number in num_list:\n",
    "        if number % 2 == 0:\n",
    "            return True\n",
    "        else: \n",
    "            pass\n",
    "    return False\n",
    "check_even_list([1,3,2])"
   ]
  },
  {
   "cell_type": "code",
   "execution_count": 42,
   "metadata": {},
   "outputs": [
    {
     "data": {
      "text/plain": [
       "[2, 4]"
      ]
     },
     "execution_count": 42,
     "metadata": {},
     "output_type": "execute_result"
    }
   ],
   "source": [
    "#return all the even numbers in a list\n",
    "\n",
    "def check_even_list(num_list):\n",
    "    #placeholder variables\n",
    "    even_numbers = []\n",
    "    for number in num_list:\n",
    "        if number % 2 == 0:\n",
    "            even_numbers.append(number)\n",
    "            #return True\n",
    "        else: \n",
    "            pass\n",
    "    return even_numbers\n",
    "check_even_list([1,3,2,4])"
   ]
  },
  {
   "cell_type": "code",
   "execution_count": 43,
   "metadata": {},
   "outputs": [
    {
     "name": "stdout",
     "output_type": "stream",
     "text": [
      "220.0\n",
      "440.0\n",
      "110.0\n"
     ]
    }
   ],
   "source": [
    "stock_prices = [('APPL', 200),('GOOG', 400), ('MSFT', 100)]\n",
    "for ticker, price in stock_prices:\n",
    "    print(price+(0.1*price))"
   ]
  },
  {
   "cell_type": "code",
   "execution_count": 49,
   "metadata": {},
   "outputs": [
    {
     "name": "stdout",
     "output_type": "stream",
     "text": [
      "Cassie\n",
      "800\n"
     ]
    }
   ],
   "source": [
    "#tuple unpacking in a for loop\n",
    "\n",
    "work_hours = [('Abby', 100), ('Billy', 400), ('Cassie', 800)]\n",
    "def employee_check(work_hours):\n",
    "    current_max = 0\n",
    "    employee_of_month = ''\n",
    "    \n",
    "    for employee,hours in work_hours:\n",
    "        if hours > current_max:\n",
    "            current_max = hours\n",
    "            employee_of_month = employee\n",
    "        else:\n",
    "            pass\n",
    "    \n",
    "    #Return\n",
    "    return (employee_of_month, current_max)\n",
    "\n",
    "name, hours = employee_check(work_hours)\n",
    "print(name)\n",
    "print(hours)"
   ]
  },
  {
   "cell_type": "code",
   "execution_count": 51,
   "metadata": {},
   "outputs": [
    {
     "data": {
      "text/plain": [
       "[5, 4, 3, 6, 2, 1, 7]"
      ]
     },
     "execution_count": 51,
     "metadata": {},
     "output_type": "execute_result"
    }
   ],
   "source": [
    "example = [1,2,3,4,5,6,7]\n",
    "from random import shuffle \n",
    "shuffle(example)\n",
    "example"
   ]
  },
  {
   "cell_type": "code",
   "execution_count": 53,
   "metadata": {},
   "outputs": [
    {
     "data": {
      "text/plain": [
       "[7, 4, 2, 1, 6, 5, 3]"
      ]
     },
     "execution_count": 53,
     "metadata": {},
     "output_type": "execute_result"
    }
   ],
   "source": [
    "# shuffle doesn't return anything, must create a function to return -> assign it to a varible.\n",
    "# result = shuffle(dataset) will not work\n",
    "def shuffle_list(mylist):\n",
    "    shuffle(mylist)\n",
    "    return(mylist)\n",
    "result = shuffle_list(example)\n",
    "result"
   ]
  },
  {
   "cell_type": "code",
   "execution_count": 55,
   "metadata": {},
   "outputs": [
    {
     "data": {
      "text/plain": [
       "[' ', ' ', 'O']"
      ]
     },
     "execution_count": 55,
     "metadata": {},
     "output_type": "execute_result"
    }
   ],
   "source": [
    "mylist = [' ', 'O', ' ']\n",
    "shuffle_list(mylist)"
   ]
  },
  {
   "cell_type": "code",
   "execution_count": 58,
   "metadata": {},
   "outputs": [
    {
     "data": {
      "text/plain": [
       "2"
      ]
     },
     "execution_count": 58,
     "metadata": {},
     "output_type": "execute_result"
    }
   ],
   "source": [
    "def player_guess():\n",
    "    guess = ''\n",
    "    while guess not in ['0', '1', '2']:\n",
    "        guess = input('pick a number: 0, 1, or 2')\n",
    "    return int(guess)\n",
    "myindex = player_guess()\n",
    "myindex"
   ]
  },
  {
   "cell_type": "code",
   "execution_count": 59,
   "metadata": {},
   "outputs": [],
   "source": [
    "def check_guess(mylist, guess):\n",
    "    if mylist[guess] == 'O':\n",
    "        print('Corrent!')\n",
    "    else:\n",
    "        print('wroooong')\n",
    "        print(mylist)"
   ]
  },
  {
   "cell_type": "code",
   "execution_count": 60,
   "metadata": {},
   "outputs": [
    {
     "name": "stdout",
     "output_type": "stream",
     "text": [
      "wroooong\n",
      "[' ', ' ', 'O']\n"
     ]
    }
   ],
   "source": [
    "# initial list\n",
    "mylist\n",
    "\n",
    "# shuffle list\n",
    "mixedup_list = shuffle_list(mylist)\n",
    "\n",
    "# user guss\n",
    "guess = player_guess()\n",
    "\n",
    "# check guess\n",
    "check_guess(mixedup_list, guess)"
   ]
  },
  {
   "cell_type": "code",
   "execution_count": 156,
   "metadata": {},
   "outputs": [],
   "source": [
    "# practice - rewrite the last script without referring to it\n",
    "from random import shuffle \n",
    "\n",
    "\n",
    "# cup shuffler\n",
    "thecups = [' ', 'O', ' ']\n",
    "\n",
    "def cupshuffler(cups):\n",
    "    shuffle(cups)\n",
    "    return cups\n",
    "#cupshuffler(thecups) # added in review\n",
    "\n",
    "# thecups = cupshuffler(thecups)\n",
    "\n",
    "\n",
    "# persons guess\n",
    "\n",
    "def playerguess():\n",
    "    guess = '' # added in review\n",
    "    while guess not in ['0', '1', '2']:    \n",
    "        guess = input('What is your guess? 1, 2, or 3')\n",
    "    return int(guess)\n",
    "\n",
    "# guess2 = guess()\n",
    "\n",
    "# guess checker\n",
    "\n",
    "def guesschecker(lecups, anyguess): # added inputs\n",
    "    if lecups[anyguess] == 'O':\n",
    "        return \"correct\"\n",
    "    else:\n",
    "        print(\"wrong \\n\")\n",
    "        print(lecups)\n",
    "        \n",
    "\n",
    "# guesschecker()\n",
    "\n",
    "# thecups\n",
    "\n",
    "# mixedcups = cupshuffler(thecups)\n",
    "\n",
    "# guess = playerguess()\n",
    "\n",
    "# guesschecker(mixedup_list, guess)\n"
   ]
  },
  {
   "cell_type": "code",
   "execution_count": 158,
   "metadata": {},
   "outputs": [
    {
     "name": "stdout",
     "output_type": "stream",
     "text": [
      "wrong \n",
      "\n",
      "['O', ' ', ' ']\n"
     ]
    }
   ],
   "source": [
    "# final script\n",
    "thecups\n",
    "\n",
    "mixedcups = cupshuffler(thecups)\n",
    "\n",
    "guess = playerguess()\n",
    "\n",
    "guesschecker(mixedcups, guess)\n"
   ]
  },
  {
   "cell_type": "code",
   "execution_count": 160,
   "metadata": {},
   "outputs": [
    {
     "data": {
      "text/plain": [
       "798.6500000000001"
      ]
     },
     "execution_count": 160,
     "metadata": {},
     "output_type": "execute_result"
    }
   ],
   "source": [
    "# *args and *kwargs\n",
    "\n",
    "def myfunc(*args):\n",
    "    return sum(args) * 0.05\n",
    "myfunc(2,4,5,6,5,4,3,3,4,5,5,6,4,4,4,543,5435,43,543,543,534,534,5,435,43,57,658,5768,768)"
   ]
  },
  {
   "cell_type": "code",
   "execution_count": 162,
   "metadata": {},
   "outputs": [
    {
     "name": "stdout",
     "output_type": "stream",
     "text": [
      "My fruit of choice is apple\n"
     ]
    }
   ],
   "source": [
    "def myfunc(**kwargs):\n",
    "    if 'fruit' in kwargs:\n",
    "        print('My fruit of choice is {}'.format(kwargs['fruit']))\n",
    "    else:\n",
    "        print('no fruit')\n",
    "myfunc(fruit='apple', veggie = 'lettuce')"
   ]
  },
  {
   "cell_type": "code",
   "execution_count": 164,
   "metadata": {},
   "outputs": [
    {
     "name": "stdout",
     "output_type": "stream",
     "text": [
      "(10, 20, 30)\n",
      "{'fruit': 'orange', 'food': 'eggs', 'animal': 'dog'}\n",
      "I would like 10 eggs\n"
     ]
    }
   ],
   "source": [
    "def myfunc(*args, **kwargs):\n",
    "    print(args)\n",
    "    print(kwargs)\n",
    "    print('I would like {} {}'.format(args[0],kwargs['food']))\n",
    "myfunc(10,20,30, fruit = \"orange\", food = \"eggs\", animal = \"dog\")"
   ]
  },
  {
   "cell_type": "code",
   "execution_count": 167,
   "metadata": {},
   "outputs": [
    {
     "data": {
      "text/plain": [
       "[2, 4, 6]"
      ]
     },
     "execution_count": 167,
     "metadata": {},
     "output_type": "execute_result"
    }
   ],
   "source": [
    "def myfunc(*args):\n",
    "    mylist = []\n",
    "    for arg in args:\n",
    "        if arg % 2 == 0:\n",
    "            mylist.append(arg)\n",
    "    return(mylist)\n",
    "    \n",
    "myfunc(2,3,4,5,6)"
   ]
  },
  {
   "cell_type": "code",
   "execution_count": 280,
   "metadata": {},
   "outputs": [
    {
     "data": {
      "text/plain": [
       "'aNtHrOpOmOrPhIsM'"
      ]
     },
     "execution_count": 280,
     "metadata": {},
     "output_type": "execute_result"
    }
   ],
   "source": [
    "def myfunc(statement):\n",
    "    newword = ''\n",
    "    for index, letter in enumerate(statement):   \n",
    "        \n",
    "        if index % 2 == 1:\n",
    "            letter = letter.upper()\n",
    "            newword += letter\n",
    "            \n",
    "        else:\n",
    "            letter = letter.lower()\n",
    "            newword += letter\n",
    "    return(newword)\n",
    "myfunc('anthropomorphism')"
   ]
  },
  {
   "cell_type": "code",
   "execution_count": 292,
   "metadata": {},
   "outputs": [
    {
     "data": {
      "text/plain": [
       "<generator object myfunc2.<locals>.<genexpr> at 0x0000021328C8C5F0>"
      ]
     },
     "execution_count": 292,
     "metadata": {},
     "output_type": "execute_result"
    }
   ],
   "source": [
    "# def myfunc(statement):\n",
    "#     newword = ''\n",
    "#     return(letter for index, letter in enumerate(statement) if index % 2 == 0)\n",
    "\n",
    "# myfunc('Anthropomorphism')"
   ]
  },
  {
   "cell_type": "code",
   "execution_count": 205,
   "metadata": {},
   "outputs": [
    {
     "name": "stdout",
     "output_type": "stream",
     "text": [
      "3 is less than 7\n",
      "appended 3 to primes:\n",
      "[2, 3]\n",
      "added to x, x = 5\n",
      "5 is less than 7\n",
      "3 in range 3-5-2\n",
      "5%3\n",
      "5%3 not == 0\n",
      "appended 5 to primes:\n",
      "[2, 3, 5]\n",
      "added to x, x = 7\n",
      "7 is less than 7\n",
      "3 in range 3-7-2\n",
      "7%3\n",
      "7%3 not == 0\n",
      "5 in range 3-7-2\n",
      "7%5\n",
      "7%5 not == 0\n",
      "appended 7 to primes:\n",
      "[2, 3, 5, 7]\n",
      "added to x, x = 9\n",
      "[2, 3, 5, 7]\n"
     ]
    },
    {
     "data": {
      "text/plain": [
       "4"
      ]
     },
     "execution_count": 205,
     "metadata": {},
     "output_type": "execute_result"
    }
   ],
   "source": [
    "def count_primes(num):\n",
    "    primes = [2]\n",
    "    x = 3\n",
    "    if num < 2:  # for the case of num = 0 or 1\n",
    "        return 0\n",
    "    while x <= num:\n",
    "        print(str(x) + \" is less than \" + str(num))\n",
    "        for y in range(3,x,2):  # test all odd factors up to x-1\n",
    "            print(str(y) + \" in range \" + \"3-\" + str(x) + \"-2\")\n",
    "            print(str(x) + \"%\" + str(y))\n",
    "            if x%y == 0:\n",
    "                z = x\n",
    "                print(\"condition true: \" + str(x) + \"%\" + str(y) + \" == 0\")\n",
    "                x += 2\n",
    "                print(\"x updated to: \" + str(x) + \" because \" + str(z) + \"%\" + str(y) + \" == 0\")\n",
    "                break\n",
    "            else:\n",
    "                print(str(x) + \"%\" + str(y) + \" not == 0\")\n",
    "        else:\n",
    "            primes.append(x)\n",
    "            print(\"appended \" + str(x) + \" to primes:\")\n",
    "            print(primes)\n",
    "            x += 2\n",
    "            print(\"added to x, x = \" + str(x))\n",
    "    print(primes)\n",
    "    return len(primes)\n",
    "\n",
    "count_primes(7)"
   ]
  },
  {
   "cell_type": "code",
   "execution_count": 336,
   "metadata": {},
   "outputs": [],
   "source": [
    "# doesn't work\n",
    "# def findprimes(num):\n",
    "#     primes = [2]\n",
    "#     y = 1\n",
    "#     x = 3\n",
    "#     while x <= num:\n",
    "#         while y < x and y < num:\n",
    "#             if x%y != 0 and y < x:\n",
    "#                 y += 2\n",
    "#             else:\n",
    "#                 x += 2\n",
    "#                 y = 1\n",
    "#         else: \n",
    "#             primes.append(x)\n",
    "#     print(primes)\n",
    "\n",
    "# findprimes(10)"
   ]
  },
  {
   "cell_type": "code",
   "execution_count": 51,
   "metadata": {},
   "outputs": [
    {
     "data": {
      "text/plain": [
       "[2, 3, 5, 7, 11, 13, 17, 19, 23]"
      ]
     },
     "execution_count": 51,
     "metadata": {},
     "output_type": "execute_result"
    }
   ],
   "source": [
    "def count_primes(num):\n",
    "    primes = [2]\n",
    "    x = 3\n",
    "    while x <= num:\n",
    "        for y in range (3,x,2):\n",
    "            if x % y == 0:\n",
    "                x += 2\n",
    "                break\n",
    "        else:\n",
    "            primes.append(x)\n",
    "            x += 2\n",
    "    return (primes)\n",
    "\n",
    "count_primes(25)"
   ]
  },
  {
   "cell_type": "code",
   "execution_count": 2,
   "metadata": {},
   "outputs": [
    {
     "name": "stdout",
     "output_type": "stream",
     "text": [
      "1\n",
      "4\n",
      "9\n",
      "16\n",
      "25\n"
     ]
    }
   ],
   "source": [
    "def square(num):\n",
    "    return num**2\n",
    "\n",
    "mynums = [1,2,3,4,5]\n",
    "for item in map(square, mynums):\n",
    "    print (item)"
   ]
  },
  {
   "cell_type": "code",
   "execution_count": 3,
   "metadata": {},
   "outputs": [
    {
     "data": {
      "text/plain": [
       "[1, 4, 9, 16, 25]"
      ]
     },
     "execution_count": 3,
     "metadata": {},
     "output_type": "execute_result"
    }
   ],
   "source": [
    "list(map(square, mynums))"
   ]
  },
  {
   "cell_type": "code",
   "execution_count": 4,
   "metadata": {},
   "outputs": [
    {
     "data": {
      "text/plain": [
       "['EVEN', 'E', 'S']"
      ]
     },
     "execution_count": 4,
     "metadata": {},
     "output_type": "execute_result"
    }
   ],
   "source": [
    "def splicer(mystring):\n",
    "    if len(mystring)%2 == 0:\n",
    "        return 'EVEN'\n",
    "    else: \n",
    "        return mystring[0]\n",
    "\n",
    "names = ['Andy', 'Eve', 'Sally']\n",
    "list(map(splicer, names))"
   ]
  },
  {
   "cell_type": "code",
   "execution_count": 5,
   "metadata": {},
   "outputs": [
    {
     "data": {
      "text/plain": [
       "[2, 4, 6]"
      ]
     },
     "execution_count": 5,
     "metadata": {},
     "output_type": "execute_result"
    }
   ],
   "source": [
    "def check_even(num):\n",
    "    return num % 2 == 0\n",
    "\n",
    "mynums = [1,2,3,4,5,6]\n",
    "\n",
    "list(filter(check_even,mynums))\n"
   ]
  },
  {
   "cell_type": "code",
   "execution_count": 6,
   "metadata": {},
   "outputs": [
    {
     "name": "stdout",
     "output_type": "stream",
     "text": [
      "2\n",
      "4\n",
      "6\n"
     ]
    }
   ],
   "source": [
    "for n in filter(check_even, mynums):\n",
    "    print(n)"
   ]
  },
  {
   "cell_type": "code",
   "execution_count": 18,
   "metadata": {},
   "outputs": [],
   "source": [
    "def square(num): return num**2"
   ]
  },
  {
   "cell_type": "code",
   "execution_count": 24,
   "metadata": {},
   "outputs": [],
   "source": [
    "squares = lambda num: num**2"
   ]
  },
  {
   "cell_type": "code",
   "execution_count": 25,
   "metadata": {},
   "outputs": [
    {
     "data": {
      "text/plain": [
       "9"
      ]
     },
     "execution_count": 25,
     "metadata": {},
     "output_type": "execute_result"
    }
   ],
   "source": [
    "squares(3)"
   ]
  },
  {
   "cell_type": "code",
   "execution_count": 26,
   "metadata": {},
   "outputs": [
    {
     "data": {
      "text/plain": [
       "[1, 4, 9, 16, 25, 36]"
      ]
     },
     "execution_count": 26,
     "metadata": {},
     "output_type": "execute_result"
    }
   ],
   "source": [
    "list(map(lambda num: num**2, mynums))"
   ]
  },
  {
   "cell_type": "code",
   "execution_count": 27,
   "metadata": {},
   "outputs": [
    {
     "data": {
      "text/plain": [
       "[2, 4, 6]"
      ]
     },
     "execution_count": 27,
     "metadata": {},
     "output_type": "execute_result"
    }
   ],
   "source": [
    "list(filter(lambda num: num%2 == 0, mynums))"
   ]
  },
  {
   "cell_type": "code",
   "execution_count": 47,
   "metadata": {},
   "outputs": [
    {
     "data": {
      "text/plain": [
       "['Andy', 'Eve', 'Sally']"
      ]
     },
     "execution_count": 47,
     "metadata": {},
     "output_type": "execute_result"
    }
   ],
   "source": [
    "names"
   ]
  },
  {
   "cell_type": "code",
   "execution_count": 39,
   "metadata": {},
   "outputs": [
    {
     "data": {
      "text/plain": [
       "['ydnA', 'evE', 'yllaS']"
      ]
     },
     "execution_count": 39,
     "metadata": {},
     "output_type": "execute_result"
    }
   ],
   "source": [
    "list(map(lambda x:x[::-1], names))"
   ]
  },
  {
   "cell_type": "code",
   "execution_count": 86,
   "metadata": {},
   "outputs": [
    {
     "data": {
      "text/plain": [
       "['Sally', 'Eve', 'Andy']"
      ]
     },
     "execution_count": 86,
     "metadata": {},
     "output_type": "execute_result"
    }
   ],
   "source": [
    "#reverses item order in list\n",
    "def itemsreverse(items):\n",
    "    newitem = items[::-1]\n",
    "    return newitem\n",
    "itemsreverse(names)"
   ]
  },
  {
   "cell_type": "code",
   "execution_count": 87,
   "metadata": {},
   "outputs": [],
   "source": [
    "def stringreverse(items):\n",
    "    #reversedlist = []\n",
    "    #for item in items:\n",
    "    return items[::-1]\n",
    "    #     newitem = item[::-1]\n",
    "    #     reversedlist.append(newitem)\n",
    "    # return reversedlist\n",
    "\n",
    "#stringreverse(names)"
   ]
  },
  {
   "cell_type": "code",
   "execution_count": null,
   "metadata": {},
   "outputs": [],
   "source": []
  },
  {
   "cell_type": "code",
   "execution_count": 56,
   "metadata": {},
   "outputs": [
    {
     "name": "stdout",
     "output_type": "stream",
     "text": [
      "['ydnA', 'evE', 'yllaS']\n"
     ]
    }
   ],
   "source": [
    "newnames = [item[::-1] for item in names]\n",
    "print(newnames)\n",
    "#stringreverse2(names)"
   ]
  },
  {
   "cell_type": "code",
   "execution_count": 65,
   "metadata": {},
   "outputs": [
    {
     "data": {
      "text/plain": [
       "['Andy', 'Eve', 'Sally']"
      ]
     },
     "execution_count": 65,
     "metadata": {},
     "output_type": "execute_result"
    }
   ],
   "source": [
    "names"
   ]
  },
  {
   "cell_type": "code",
   "execution_count": 88,
   "metadata": {},
   "outputs": [
    {
     "data": {
      "text/plain": [
       "['ydnA', 'evE', 'yllaS']"
      ]
     },
     "execution_count": 88,
     "metadata": {},
     "output_type": "execute_result"
    }
   ],
   "source": [
    "list(map(stringreverse,names))"
   ]
  },
  {
   "cell_type": "code",
   "execution_count": 62,
   "metadata": {},
   "outputs": [
    {
     "data": {
      "text/plain": [
       "['Andy', 'Eve', 'Sally']"
      ]
     },
     "execution_count": 62,
     "metadata": {},
     "output_type": "execute_result"
    }
   ],
   "source": [
    "names"
   ]
  },
  {
   "cell_type": "code",
   "execution_count": 75,
   "metadata": {},
   "outputs": [
    {
     "name": "stdout",
     "output_type": "stream",
     "text": [
      "Ok\n"
     ]
    }
   ],
   "source": [
    "a = 1\n",
    "\n",
    "def myfun(x):\n",
    "    if x == 1:\n",
    "        x = 2\n",
    "        print(\"Ok\")\n",
    "\n",
    "myfun(a)"
   ]
  },
  {
   "cell_type": "code",
   "execution_count": 162,
   "metadata": {},
   "outputs": [
    {
     "name": "stdout",
     "output_type": "stream",
     "text": [
      "['ydnA', 'evE', 'yllaS']\n",
      "['ydnA', 'evE', 'yllaS']\n",
      "['yllaS', 'evE', 'ydnA']\n"
     ]
    },
    {
     "data": {
      "text/plain": [
       "[['S', 'a', 'l', 'l', 'y'], ['E', 'v', 'e'], ['A', 'n', 'd', 'y']]"
      ]
     },
     "execution_count": 162,
     "metadata": {},
     "output_type": "execute_result"
    }
   ],
   "source": [
    "def stringreverse(items):\n",
    "    reversedlist = []\n",
    "    for item in items:\n",
    "        newitem = item[::-1]\n",
    "        reversedlist.append(newitem)\n",
    "    return reversedlist\n",
    "\n",
    "def stringreverse2(items):\n",
    "        return items[::-1]\n",
    "\n",
    "def listreverse(items):\n",
    "    newitem = items[::-1]\n",
    "    return newitem\n",
    "        \n",
    "\n",
    "names = ['Andy', 'Eve', 'Sally']\n",
    "print(stringreverse(names))\n",
    "#print(stringreverse(names[::-1]))\n",
    "\n",
    "print(list(map(stringreverse2, names)))\n",
    "print(list(map(stringreverse2, names[::-1])))\n",
    "#print(listreverse(names))\n",
    "#print(names[::-1])\n",
    "\n",
    "list(map(stringreverse2, names[::-1]))\n",
    "list(map(stringreverse, names[::-1]))\n",
    "\n",
    "\n",
    "# On your first function stringreverse you are literally going into each string within the list and reversing the string. I think that’s easy enough to see. \n",
    "\n",
    "# On the other two, map applies the function to each item of an iterable. Hence why on that second print statement it simply reverses the letters in the strings. \n",
    "\n",
    "# On the last print statement, names[::-1] first reverses the order of the strings in the list. Then when you apply the function using map, each string within the now reversed list has its letters reversed.\n",
    "\n"
   ]
  },
  {
   "cell_type": "code",
   "execution_count": 201,
   "metadata": {},
   "outputs": [
    {
     "name": "stdout",
     "output_type": "stream",
     "text": [
      "txetemoS\n",
      "txetemoS\n",
      "txetemoS\n",
      "list detected\n",
      "Would you like to reverse the list, the items in the list, or both? \n",
      "1: reverse list\n",
      "2: reverse list items\n",
      "3: reverse both\n",
      ":Answer:  2 \n",
      "\n",
      "['1meti', '2meti']\n"
     ]
    }
   ],
   "source": [
    "# multiple ways to reverse a string\n",
    "\n",
    "from subprocess import list2cmdline\n",
    "\n",
    "from click import prompt\n",
    "\n",
    "\n",
    "texttoreverse = 'Sometext'\n",
    "listtoreverse = [\"item1\", \"item2\"]\n",
    "\n",
    "print(texttoreverse[::-1])\n",
    "\n",
    "def reverser(name):\n",
    "    return name[::-1]\n",
    "print(reverser(texttoreverse))\n",
    "\n",
    "def reverse(string):\n",
    "    string = list(string)\n",
    "    string.reverse()\n",
    "    return ''.join(string)\n",
    "print(reverse(texttoreverse))\n",
    "\n",
    "\n",
    "# this would be better to separate into 3 separate functions, then call each function in if statement depending on input\n",
    "def ultimatereverser(input):\n",
    "    \n",
    "    if type(input) == list:\n",
    "        print(\"list detected\")\n",
    "        val = int(prompt(\"Would you like to reverse the list, the items in the list, or both? \\n1: reverse list\\n2: reverse list items\\n3: reverse both\\n\"))\n",
    "        print(\"Answer: \", val, \"\\n\")\n",
    "        if val == 1:\n",
    "            newitem = input[::-1]\n",
    "            return(newitem)\n",
    "        if val == 2:\n",
    "            newlist = []\n",
    "            for item in input:\n",
    "                item = item[::-1]\n",
    "                newlist.append(item)\n",
    "            return (newlist)    \n",
    "        if val == 3:\n",
    "            newitem = input[::-1]\n",
    "            newlist = []\n",
    "            for item in newitem:\n",
    "                item = item[::-1]\n",
    "                newlist.append(item)\n",
    "            return (newlist)  \n",
    "\n",
    "\n",
    "\n",
    "\n",
    "    \n",
    "print(ultimatereverser(listtoreverse))\n"
   ]
  },
  {
   "cell_type": "code",
   "execution_count": 160,
   "metadata": {},
   "outputs": [
    {
     "data": {
      "text/plain": [
       "[['w', 'o', 'r', 'd', '1'], ['w', 'o', 'r', 'd', '2']]"
      ]
     },
     "execution_count": 160,
     "metadata": {},
     "output_type": "execute_result"
    }
   ],
   "source": [
    "listofwords = ['word1', 'word2']\n",
    "\n",
    "def wordsplitter(list):\n",
    "    splitlist = []\n",
    "    for i in list: \n",
    "        currentword = [x for x in i]\n",
    "        splitlist.append(currentword)\n",
    "    return splitlist\n",
    "\n",
    "wordsplitter(listofwords)"
   ]
  },
  {
   "cell_type": "code",
   "execution_count": 166,
   "metadata": {},
   "outputs": [
    {
     "data": {
      "text/plain": [
       "[1, 4, 9, 16, 25, 36]"
      ]
     },
     "execution_count": 166,
     "metadata": {},
     "output_type": "execute_result"
    }
   ],
   "source": [
    "mynums = [1,2,3,4,5,6]\n",
    "#lambda num: num**2\n",
    "list(map(lambda num:num**2, mynums))"
   ]
  },
  {
   "cell_type": "code",
   "execution_count": 167,
   "metadata": {},
   "outputs": [
    {
     "data": {
      "text/plain": [
       "[2, 4, 6]"
      ]
     },
     "execution_count": 167,
     "metadata": {},
     "output_type": "execute_result"
    }
   ],
   "source": [
    "list(filter(lambda num:num%2 == 0, mynums))"
   ]
  },
  {
   "cell_type": "code",
   "execution_count": 170,
   "metadata": {},
   "outputs": [
    {
     "data": {
      "text/plain": [
       "['ydnA', 'evE', 'yllaS']"
      ]
     },
     "execution_count": 170,
     "metadata": {},
     "output_type": "execute_result"
    }
   ],
   "source": [
    "list(map(lambda x:x[::-1], names))"
   ]
  },
  {
   "cell_type": "code",
   "execution_count": 173,
   "metadata": {},
   "outputs": [
    {
     "name": "stdout",
     "output_type": "stream",
     "text": [
      "25\n",
      "50\n",
      "25\n"
     ]
    }
   ],
   "source": [
    "#SCOPE\n",
    "\n",
    "x = 25\n",
    "def printer():\n",
    "    x = 50\n",
    "    return x\n",
    "\n",
    "print(x)\n",
    "print(printer())\n",
    "print(x)"
   ]
  },
  {
   "cell_type": "code",
   "execution_count": 186,
   "metadata": {},
   "outputs": [],
   "source": [
    "#LEGB: Local, Enclosed, Global, Built-in\n",
    "\n",
    "name = 'this is a global string'\n",
    "\n",
    "def greet(): \n",
    "\n",
    "    newname1 = 'this is a string in an enclosing function'\n",
    "\n",
    "    def hello():\n",
    "        newname2 = 'this is a local string'\n",
    "        print('hello ' + name + ' and ' + newname1  + ' and ' + newname2)\n",
    "\n",
    "    hello()"
   ]
  },
  {
   "cell_type": "code",
   "execution_count": 187,
   "metadata": {},
   "outputs": [
    {
     "name": "stdout",
     "output_type": "stream",
     "text": [
      "hello this is a global string and this is a string in an enclosing function and this is a local string\n"
     ]
    }
   ],
   "source": [
    "greet()"
   ]
  },
  {
   "cell_type": "code",
   "execution_count": 200,
   "metadata": {},
   "outputs": [
    {
     "name": "stdout",
     "output_type": "stream",
     "text": [
      "X is 50\n",
      "I just locally changed global x to 200\n",
      "200\n"
     ]
    }
   ],
   "source": [
    "x = 50\n",
    "\n",
    "def func():\n",
    "    global x\n",
    "    print(f'X is {x}')\n",
    "# local reassignment on a global variable\n",
    "    x = '200'\n",
    "    print(f'I just locally changed global x to {x}')\n",
    "    #return x\n",
    "func()\n",
    "print(x)\n",
    "\n",
    "\n"
   ]
  },
  {
   "cell_type": "code",
   "execution_count": 190,
   "metadata": {},
   "outputs": [
    {
     "ename": "TypeError",
     "evalue": "func() takes 0 positional arguments but 1 was given",
     "output_type": "error",
     "traceback": [
      "\u001b[1;31m---------------------------------------------------------------------------\u001b[0m",
      "\u001b[1;31mTypeError\u001b[0m                                 Traceback (most recent call last)",
      "\u001b[1;32mc:\\git\\python0tohero\\section6-methodsandfunctions.ipynb Cell 66'\u001b[0m in \u001b[0;36m<cell line: 1>\u001b[1;34m()\u001b[0m\n\u001b[1;32m----> <a href='vscode-notebook-cell:/c%3A/git/python0tohero/section6-methodsandfunctions.ipynb#ch0000065?line=0'>1</a>\u001b[0m x \u001b[39m=\u001b[39m func(x)\n",
      "\u001b[1;31mTypeError\u001b[0m: func() takes 0 positional arguments but 1 was given"
     ]
    }
   ],
   "source": []
  },
  {
   "cell_type": "code",
   "execution_count": 203,
   "metadata": {},
   "outputs": [
    {
     "name": "stdout",
     "output_type": "stream",
     "text": [
      "3.141592653589793\n"
     ]
    }
   ],
   "source": [
    "from math import pi\n",
    "\n",
    "print(pi)\n"
   ]
  }
 ],
 "metadata": {
  "kernelspec": {
   "display_name": "Python 3.9.12 ('base')",
   "language": "python",
   "name": "python3"
  },
  "language_info": {
   "codemirror_mode": {
    "name": "ipython",
    "version": 3
   },
   "file_extension": ".py",
   "mimetype": "text/x-python",
   "name": "python",
   "nbconvert_exporter": "python",
   "pygments_lexer": "ipython3",
   "version": "3.9.12"
  },
  "orig_nbformat": 4,
  "vscode": {
   "interpreter": {
    "hash": "4c077c30561241be03c41ae9383d0790cec0a69af14a8824d4f85b0977298f57"
   }
  }
 },
 "nbformat": 4,
 "nbformat_minor": 2
}
