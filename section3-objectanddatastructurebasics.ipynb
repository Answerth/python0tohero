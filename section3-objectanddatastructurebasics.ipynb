{
 "cells": [
  {
   "cell_type": "code",
   "execution_count": 1,
   "metadata": {},
   "outputs": [],
   "source": [
    "#section 3"
   ]
  },
  {
   "cell_type": "code",
   "execution_count": 7,
   "metadata": {},
   "outputs": [
    {
     "data": {
      "text/plain": [
       "2"
      ]
     },
     "execution_count": 7,
     "metadata": {},
     "output_type": "execute_result"
    }
   ],
   "source": [
    "1+1"
   ]
  },
  {
   "cell_type": "code",
   "execution_count": 8,
   "metadata": {},
   "outputs": [
    {
     "name": "stdout",
     "output_type": "stream",
     "text": [
      "hello\n"
     ]
    }
   ],
   "source": [
    "print(\"hello\")"
   ]
  },
  {
   "cell_type": "code",
   "execution_count": 10,
   "metadata": {},
   "outputs": [
    {
     "data": {
      "text/plain": [
       "3"
      ]
     },
     "execution_count": 10,
     "metadata": {},
     "output_type": "execute_result"
    }
   ],
   "source": [
    "7 % 4"
   ]
  },
  {
   "cell_type": "code",
   "execution_count": 1,
   "metadata": {},
   "outputs": [
    {
     "data": {
      "text/plain": [
       "5.551115123125783e-17"
      ]
     },
     "execution_count": 1,
     "metadata": {},
     "output_type": "execute_result"
    }
   ],
   "source": [
    "\n",
    "0.1 + 0.2 - 0.3"
   ]
  },
  {
   "cell_type": "code",
   "execution_count": 5,
   "metadata": {},
   "outputs": [
    {
     "name": "stdout",
     "output_type": "stream",
     "text": [
      "<class 'int'>\n"
     ]
    },
    {
     "data": {
      "text/plain": [
       "float"
      ]
     },
     "execution_count": 5,
     "metadata": {},
     "output_type": "execute_result"
    }
   ],
   "source": [
    "a = 10\n",
    "print(type(a))\n",
    "a= 10.1\n",
    "type(a)"
   ]
  },
  {
   "cell_type": "code",
   "execution_count": 7,
   "metadata": {},
   "outputs": [
    {
     "data": {
      "text/plain": [
       "10.0"
      ]
     },
     "execution_count": 7,
     "metadata": {},
     "output_type": "execute_result"
    }
   ],
   "source": [
    "my_income = 100\n",
    "tax_rate = 0.1\n",
    "my_taxes = my_income * tax_rate\n",
    "my_taxes"
   ]
  },
  {
   "cell_type": "code",
   "execution_count": 36,
   "metadata": {},
   "outputs": [
    {
     "name": "stdout",
     "output_type": "stream",
     "text": [
      "\"I'm \"going\" \n",
      "'on' a run\"\n",
      "25\n",
      "I\n",
      "run\n",
      " \n",
      "'on' a run\"\n",
      "' gig '\n",
      "\"nur a 'no'\n",
      " \"gniog\" m'I\"\n"
     ]
    },
    {
     "data": {
      "text/plain": [
       "'l'"
      ]
     },
     "execution_count": 36,
     "metadata": {},
     "output_type": "execute_result"
    }
   ],
   "source": [
    "imdoing = \"\\\"I\\'m \\\"going\\\" \\n\\'on\\' a run\\\"\"\n",
    "print(imdoing)\n",
    "print(len(imdoing))\n",
    "print(imdoing[1])\n",
    "print(imdoing[-4:-1])\n",
    "print(imdoing[12:])\n",
    "print(imdoing[2:15:2]) #step-size 2; :: captures whole string. Start 2 stop 15, step 2\n",
    "print(imdoing[::-1])\n",
    "imdoing[3]\n",
    "\"hello\"[2]"
   ]
  },
  {
   "cell_type": "code",
   "execution_count": 41,
   "metadata": {},
   "outputs": [
    {
     "name": "stdout",
     "output_type": "stream",
     "text": [
      "Pam\n"
     ]
    },
    {
     "data": {
      "text/plain": [
       "'PamPamPamPamPamPamPamPamPamPam'"
      ]
     },
     "execution_count": 41,
     "metadata": {},
     "output_type": "execute_result"
    }
   ],
   "source": [
    "name = \"Sam\"\n",
    "last_letters = name[1:]\n",
    "last_letters #'am'\n",
    "last_letters = 'P' + last_letters #concatenate\n",
    "print(last_letters)\n",
    "last_letters * 10"
   ]
  },
  {
   "cell_type": "code",
   "execution_count": 51,
   "metadata": {},
   "outputs": [
    {
     "name": "stdout",
     "output_type": "stream",
     "text": [
      "HELLO WORLD\n",
      "['Hello', 'World']\n",
      "['He', '', 'o Wor', 'd']\n"
     ]
    }
   ],
   "source": [
    "x = 'Hello World'\n",
    "# x = x.upper() updates variable\n",
    "print(x.upper())\n",
    "print(x.split())\n",
    "print(x.split('l'))"
   ]
  },
  {
   "cell_type": "code",
   "execution_count": 89,
   "metadata": {},
   "outputs": [
    {
     "name": "stdout",
     "output_type": "stream",
     "text": [
      "this is a string INSERTED\n",
      "the quick brown fox\n",
      "the quick brown fox\n",
      "the result was 90.909\n",
      "Andrew is 31 years old\n",
      "Andrew is 31 years old.\n",
      "this is another statement\n"
     ]
    }
   ],
   "source": [
    "print('this is a string {}'.format('INSERTED'))\n",
    "print('the {2} {1} {0}'.format('fox', 'brown', 'quick'))\n",
    "print('the {q} {b} {f}'.format(f='fox', b='brown', q='quick'))\n",
    "\n",
    "result = 100/1.1\n",
    "print(\"the result was {r:1.3f}\".format(r=result)) #{value:width.precision f}\n",
    "name = \"Andrew\"\n",
    "age = 31\n",
    "print(f'{name} is {age} years old')\n",
    "print('{n} is {a} years old.'.format(n=name,a=age))\n",
    "print('this is another %s' %'statement') # placeholders; string formatting operator "
   ]
  },
  {
   "cell_type": "code",
   "execution_count": 148,
   "metadata": {},
   "outputs": [
    {
     "name": "stdout",
     "output_type": "stream",
     "text": [
      "length = 3\n",
      "[100, 22.2]\n",
      "['STRING', 100, 22.2, 'four', 'five']\n",
      "['string2', 100, 22.2, 'four', 'five']\n",
      "['string?', 100, 22.2, 'four', 'five', 'six']\n",
      "[100, 22.2, 'four', 'five', 'six'] popped item: string?\n"
     ]
    }
   ],
   "source": [
    "my_list = ['STRING',100,22.2]\n",
    "print(\"length =\", len(my_list))\n",
    "print(my_list[1:])\n",
    "another_list = [\"four\",\"five\"]\n",
    "new_list = my_list + another_list\n",
    "print(new_list)\n",
    "new_list[0] = \"string2\" #overwrites list index 0\n",
    "print(new_list)\n",
    "new_list.append('six')\n",
    "new_list[0] = \"string?\"\n",
    "print(new_list)\n",
    "new_item = new_list.pop(0)\n",
    "print(new_list, \"popped item:\", new_item)"
   ]
  },
  {
   "cell_type": "code",
   "execution_count": 107,
   "metadata": {},
   "outputs": [],
   "source": [
    "num_list = [2,56,786,3,55,6,77,6,1,21,4]\n",
    "num_list.sort()"
   ]
  },
  {
   "cell_type": "code",
   "execution_count": 111,
   "metadata": {},
   "outputs": [
    {
     "data": {
      "text/plain": [
       "[1, 2, 3, 4, 6, 6, 21, 55, 56, 77, 786]"
      ]
     },
     "execution_count": 111,
     "metadata": {},
     "output_type": "execute_result"
    }
   ],
   "source": [
    "my_sorted_list = num_list\n",
    "my_sorted_list\n"
   ]
  },
  {
   "cell_type": "code",
   "execution_count": null,
   "metadata": {},
   "outputs": [],
   "source": []
  },
  {
   "cell_type": "code",
   "execution_count": 145,
   "metadata": {},
   "outputs": [
    {
     "data": {
      "text/plain": [
       "[1, 2, 3, 4, 6, 6, 21, 55, 56, 77, 786]"
      ]
     },
     "execution_count": 145,
     "metadata": {},
     "output_type": "execute_result"
    }
   ],
   "source": [
    "my_sorted_list.reverse()\n",
    "my_sorted_list"
   ]
  },
  {
   "cell_type": "code",
   "execution_count": 144,
   "metadata": {},
   "outputs": [
    {
     "name": "stdout",
     "output_type": "stream",
     "text": [
      "123\n",
      "another value\n",
      "B\n",
      "['a', 'b', 'c', 'd']\n",
      "dict_keys(['k1', 'k2', 'k3', 'k4', 'k5'])\n",
      "dict_values([123, 'string', {'insidekey': 'dict inside dict', 'secondinsidekey': 'another value'}, ['a', 'b', 'c', 'd'], 200])\n",
      "dict_items([('k1', 123), ('k2', 'string'), ('k3', {'insidekey': 'dict inside dict', 'secondinsidekey': 'another value'}), ('k4', ['a', 'b', 'c', 'd']), ('k5', 200)])\n",
      "dict_items([(1, ['a', 'b', 'c']), (2, ['d', 'e', 'f'])])\n",
      "line break ----\n",
      "k1 123\n",
      "k2 string\n",
      "k3 {'insidekey': 'dict inside dict', 'secondinsidekey': 'another value'}\n",
      "k4 ['a', 'b', 'c', 'd']\n",
      "k5 200\n"
     ]
    }
   ],
   "source": [
    "#dictionaries \n",
    "mydict = {\"k1\":123, \"k2\": \"string\", \"k3\":{'insidekey':'dict inside dict', 'secondinsidekey':'another value'}, \"k4\":['a','b','c','d']}\n",
    "print(mydict['k1'])\n",
    "print(mydict[\"k3\"]['secondinsidekey'])\n",
    "print(mydict[\"k4\"][1].upper())\n",
    "my_list = mydict[\"k4\"]\n",
    "print(my_list)\n",
    "mydict[\"k5\"] = 200\n",
    "print(mydict.keys())\n",
    "print(mydict.values())\n",
    "print(mydict.items())\n",
    "second_dictionary = {1:[\"a\",\"b\",\"c\",], 2:[\"d\", \"e\", \"f\"] }\n",
    "print(second_dictionary.items())\n",
    "print(\"line break ----\")\n",
    "for key, value in mydict.items():\n",
    "    print(key, value) # orderedDict subclass for ordered dictionary"
   ]
  },
  {
   "cell_type": "code",
   "execution_count": 163,
   "metadata": {},
   "outputs": [
    {
     "name": "stdout",
     "output_type": "stream",
     "text": [
      "<class 'tuple'>\n",
      "<class 'list'>\n",
      "3\n",
      "('a', 'a', 'a', 'b')\n",
      "3\n",
      "3\n"
     ]
    },
    {
     "data": {
      "text/plain": [
       "[1, 2, 3]"
      ]
     },
     "execution_count": 163,
     "metadata": {},
     "output_type": "execute_result"
    }
   ],
   "source": [
    "#tuples - immutable list \n",
    "\n",
    "t = (1,2,\"three\")\n",
    "mylist = [1,2,3]\n",
    "print(type(t))\n",
    "print(type(mylist))\n",
    "print(len(t))\n",
    "t[1]\n",
    "\n",
    "t = ('a', 'a', 'a', 'b')\n",
    "print(t)\n",
    "print(t.count('a'))\n",
    "print(t.index('b'))\n"
   ]
  },
  {
   "cell_type": "code",
   "execution_count": 177,
   "metadata": {},
   "outputs": [
    {
     "name": "stdout",
     "output_type": "stream",
     "text": [
      "{'a', 'b'}\n"
     ]
    }
   ],
   "source": [
    "#sets - unordered collection of unique elements \n",
    "myset = set()\n",
    "myset.add(1)\n",
    "myset.add(2)\n",
    "print(myset)\n",
    "\n",
    "t = ('a', 'a', 'a', 'b')\n",
    "s = set(t)\n",
    "print(s)"
   ]
  },
  {
   "cell_type": "code",
   "execution_count": null,
   "metadata": {},
   "outputs": [],
   "source": [
    "#bool\n",
    "# True\n",
    "# False\n",
    "# None"
   ]
  },
  {
   "cell_type": "code",
   "execution_count": 187,
   "metadata": {},
   "outputs": [
    {
     "name": "stdout",
     "output_type": "stream",
     "text": [
      "Writing myfile.txt\n"
     ]
    }
   ],
   "source": [
    "\n",
    "%%writefile myfile.txt\n",
    "# I/O with basic files in Python. Cannot have comment on first line. \n",
    "this is a text file \n",
    "this is the second line\n"
   ]
  },
  {
   "cell_type": "code",
   "execution_count": 224,
   "metadata": {},
   "outputs": [
    {
     "name": "stdout",
     "output_type": "stream",
     "text": [
      "# I/O with basic files in Python \n",
      "this is a text file \n",
      "this is the second line\n",
      "\n",
      "['# I/O with basic files in Python \\n', 'this is a text file \\n', 'this is the second line\\n']\n"
     ]
    }
   ],
   "source": [
    "# reading files\n",
    "myfile = open('myfile.txt')\n",
    "myfile.read()\n",
    "myfile.seek(0)\n",
    "contents = myfile.read()\n",
    "myfile.seek(0)\n",
    "contents2 = myfile.readlines()\n",
    "print(contents)\n",
    "print(contents2)\n",
    "\n",
    "contents = None\n"
   ]
  },
  {
   "cell_type": "code",
   "execution_count": 239,
   "metadata": {},
   "outputs": [
    {
     "name": "stdout",
     "output_type": "stream",
     "text": [
      "\n",
      "another test\n"
     ]
    }
   ],
   "source": [
    "# myfile.close() - closing is obsolete if we open using:\n",
    "with open('myfile.txt', mode='r') as my_new_file:\n",
    "    contents = my_new_file.readlines()\n",
    "\n",
    "with open('brandnewfile.txt', mode='a') as f: #appends / creates new\n",
    "    f.write('\\ntest')\n",
    "\n",
    "with open('brandnewfile.txt', mode='w') as f: # overwrites\n",
    "    f.write('\\nanother test')\n",
    "\n",
    "with open('brandnewfile.txt', mode='r') as f: #reads without having to scan\n",
    "    print(f.read())\n",
    "\n",
    "f = open('testfile.txt', 'w')\n",
    "f.write('some randomness')\n",
    "f.close()"
   ]
  },
  {
   "cell_type": "code",
   "execution_count": 233,
   "metadata": {},
   "outputs": [
    {
     "data": {
      "text/plain": [
       "['# I/O with basic files in Python \\n',\n",
       " 'this is a text file \\n',\n",
       " 'this is the second line\\n']"
      ]
     },
     "execution_count": 233,
     "metadata": {},
     "output_type": "execute_result"
    }
   ],
   "source": [
    "contents"
   ]
  },
  {
   "cell_type": "code",
   "execution_count": 251,
   "metadata": {},
   "outputs": [
    {
     "name": "stdout",
     "output_type": "stream",
     "text": [
      "233168\n"
     ]
    }
   ],
   "source": [
    "#random challenge from https://projecteuler.net/ (id # 1) (technically correct)\n",
    "a = 0\n",
    "for i in range(1000):\n",
    "    if i % 3 == 0 or i % 5 == 0:\n",
    "        a = a + i\n",
    "print(a)"
   ]
  },
  {
   "cell_type": "code",
   "execution_count": 252,
   "metadata": {},
   "outputs": [
    {
     "name": "stdout",
     "output_type": "stream",
     "text": [
      "233168\n"
     ]
    }
   ],
   "source": [
    "#random challenge from https://projecteuler.net/ (id # 1) (this is the formal solution)\n",
    "def compute():\n",
    "\tans = sum(x for x in range(1000) if (x % 3 == 0 or x % 5 == 0))\n",
    "\treturn str(ans)\n",
    "\n",
    "\n",
    "if __name__ == \"__main__\":\n",
    "\tprint(compute())"
   ]
  },
  {
   "cell_type": "code",
   "execution_count": null,
   "metadata": {},
   "outputs": [],
   "source": []
  }
 ],
 "metadata": {
  "kernelspec": {
   "display_name": "Python 3.10.5 64-bit (windows store)",
   "language": "python",
   "name": "python3"
  },
  "language_info": {
   "codemirror_mode": {
    "name": "ipython",
    "version": 3
   },
   "file_extension": ".py",
   "mimetype": "text/x-python",
   "name": "python",
   "nbconvert_exporter": "python",
   "pygments_lexer": "ipython3",
   "version": "3.10.5"
  },
  "orig_nbformat": 4,
  "vscode": {
   "interpreter": {
    "hash": "d1693dde9c7abe2212e4390d3658f39ad9d41d72d022f9505dc2746c33380b22"
   }
  }
 },
 "nbformat": 4,
 "nbformat_minor": 2
}
