{
 "cells": [
  {
   "cell_type": "code",
   "execution_count": 7,
   "metadata": {},
   "outputs": [
    {
     "data": {
      "text/plain": [
       "2"
      ]
     },
     "execution_count": 7,
     "metadata": {},
     "output_type": "execute_result"
    }
   ],
   "source": [
    "1+1"
   ]
  },
  {
   "cell_type": "code",
   "execution_count": 8,
   "metadata": {},
   "outputs": [
    {
     "name": "stdout",
     "output_type": "stream",
     "text": [
      "hello\n"
     ]
    }
   ],
   "source": [
    "print(\"hello\")"
   ]
  },
  {
   "cell_type": "code",
   "execution_count": 10,
   "metadata": {},
   "outputs": [
    {
     "data": {
      "text/plain": [
       "3"
      ]
     },
     "execution_count": 10,
     "metadata": {},
     "output_type": "execute_result"
    }
   ],
   "source": [
    "7 % 4"
   ]
  },
  {
   "cell_type": "code",
   "execution_count": 1,
   "metadata": {},
   "outputs": [
    {
     "data": {
      "text/plain": [
       "5.551115123125783e-17"
      ]
     },
     "execution_count": 1,
     "metadata": {},
     "output_type": "execute_result"
    }
   ],
   "source": [
    "\n",
    "0.1 + 0.2 - 0.3"
   ]
  },
  {
   "cell_type": "code",
   "execution_count": 5,
   "metadata": {},
   "outputs": [
    {
     "name": "stdout",
     "output_type": "stream",
     "text": [
      "<class 'int'>\n"
     ]
    },
    {
     "data": {
      "text/plain": [
       "float"
      ]
     },
     "execution_count": 5,
     "metadata": {},
     "output_type": "execute_result"
    }
   ],
   "source": [
    "a = 10\n",
    "print(type(a))\n",
    "a= 10.1\n",
    "type(a)"
   ]
  },
  {
   "cell_type": "code",
   "execution_count": 7,
   "metadata": {},
   "outputs": [
    {
     "data": {
      "text/plain": [
       "10.0"
      ]
     },
     "execution_count": 7,
     "metadata": {},
     "output_type": "execute_result"
    }
   ],
   "source": [
    "my_income = 100\n",
    "tax_rate = 0.1\n",
    "my_taxes = my_income * tax_rate\n",
    "my_taxes"
   ]
  },
  {
   "cell_type": "code",
   "execution_count": 36,
   "metadata": {},
   "outputs": [
    {
     "name": "stdout",
     "output_type": "stream",
     "text": [
      "\"I'm \"going\" \n",
      "'on' a run\"\n",
      "25\n",
      "I\n",
      "run\n",
      " \n",
      "'on' a run\"\n",
      "' gig '\n",
      "\"nur a 'no'\n",
      " \"gniog\" m'I\"\n"
     ]
    },
    {
     "data": {
      "text/plain": [
       "'l'"
      ]
     },
     "execution_count": 36,
     "metadata": {},
     "output_type": "execute_result"
    }
   ],
   "source": [
    "imdoing = \"\\\"I\\'m \\\"going\\\" \\n\\'on\\' a run\\\"\"\n",
    "print(imdoing)\n",
    "print(len(imdoing))\n",
    "print(imdoing[1])\n",
    "print(imdoing[-4:-1])\n",
    "print(imdoing[12:])\n",
    "print(imdoing[2:15:2]) #step-size 2; :: captures whole string. Start 2 stop 15, step 2\n",
    "print(imdoing[::-1])\n",
    "imdoing[3]\n",
    "\"hello\"[2]"
   ]
  },
  {
   "cell_type": "code",
   "execution_count": 41,
   "metadata": {},
   "outputs": [
    {
     "name": "stdout",
     "output_type": "stream",
     "text": [
      "Pam\n"
     ]
    },
    {
     "data": {
      "text/plain": [
       "'PamPamPamPamPamPamPamPamPamPam'"
      ]
     },
     "execution_count": 41,
     "metadata": {},
     "output_type": "execute_result"
    }
   ],
   "source": [
    "name = \"Sam\"\n",
    "last_letters = name[1:]\n",
    "last_letters #'am'\n",
    "last_letters = 'P' + last_letters #concatenate\n",
    "print(last_letters)\n",
    "last_letters * 10"
   ]
  },
  {
   "cell_type": "code",
   "execution_count": 51,
   "metadata": {},
   "outputs": [
    {
     "name": "stdout",
     "output_type": "stream",
     "text": [
      "HELLO WORLD\n",
      "['Hello', 'World']\n",
      "['He', '', 'o Wor', 'd']\n"
     ]
    }
   ],
   "source": [
    "x = 'Hello World'\n",
    "# x = x.upper() updates variable\n",
    "print(x.upper())\n",
    "print(x.split())\n",
    "print(x.split('l'))"
   ]
  },
  {
   "cell_type": "code",
   "execution_count": 89,
   "metadata": {},
   "outputs": [
    {
     "name": "stdout",
     "output_type": "stream",
     "text": [
      "this is a string INSERTED\n",
      "the quick brown fox\n",
      "the quick brown fox\n",
      "the result was 90.909\n",
      "Andrew is 31 years old\n",
      "Andrew is 31 years old.\n",
      "this is another statement\n"
     ]
    }
   ],
   "source": [
    "print('this is a string {}'.format('INSERTED'))\n",
    "print('the {2} {1} {0}'.format('fox', 'brown', 'quick'))\n",
    "print('the {q} {b} {f}'.format(f='fox', b='brown', q='quick'))\n",
    "\n",
    "result = 100/1.1\n",
    "print(\"the result was {r:1.3f}\".format(r=result)) #{value:width.precision f}\n",
    "name = \"Andrew\"\n",
    "age = 31\n",
    "print(f'{name} is {age} years old')\n",
    "print('{n} is {a} years old.'.format(n=name,a=age))\n",
    "print('this is another %s' %'statement') # placeholders; string formatting operator "
   ]
  },
  {
   "cell_type": "code",
   "execution_count": null,
   "metadata": {},
   "outputs": [],
   "source": []
  }
 ],
 "metadata": {
  "kernelspec": {
   "display_name": "Python 3.10.5 64-bit (windows store)",
   "language": "python",
   "name": "python3"
  },
  "language_info": {
   "codemirror_mode": {
    "name": "ipython",
    "version": 3
   },
   "file_extension": ".py",
   "mimetype": "text/x-python",
   "name": "python",
   "nbconvert_exporter": "python",
   "pygments_lexer": "ipython3",
   "version": "3.10.5"
  },
  "orig_nbformat": 4,
  "vscode": {
   "interpreter": {
    "hash": "d1693dde9c7abe2212e4390d3658f39ad9d41d72d022f9505dc2746c33380b22"
   }
  }
 },
 "nbformat": 4,
 "nbformat_minor": 2
}
