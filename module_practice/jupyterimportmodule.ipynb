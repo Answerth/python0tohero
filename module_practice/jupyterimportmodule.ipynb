{
 "cells": [
  {
   "cell_type": "code",
   "execution_count": null,
   "metadata": {},
   "outputs": [],
   "source": [
    "# testing import\n",
    "\n",
    "def my_func():\n",
    "    print(\"hey im in a module\")"
   ]
  }
 ],
 "metadata": {
  "kernelspec": {
   "display_name": "Python 3.9.12 ('base')",
   "language": "python",
   "name": "python3"
  },
  "language_info": {
   "name": "python",
   "version": "3.9.12"
  },
  "orig_nbformat": 4,
  "vscode": {
   "interpreter": {
    "hash": "4c077c30561241be03c41ae9383d0790cec0a69af14a8824d4f85b0977298f57"
   }
  }
 },
 "nbformat": 4,
 "nbformat_minor": 2
}
