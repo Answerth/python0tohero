{
 "cells": [
  {
   "cell_type": "code",
   "execution_count": 7,
   "metadata": {},
   "outputs": [
    {
     "ename": "ModuleNotFoundError",
     "evalue": "No module named 'jupyterimportmodule'",
     "output_type": "error",
     "traceback": [
      "\u001b[1;31m---------------------------------------------------------------------------\u001b[0m",
      "\u001b[1;31mModuleNotFoundError\u001b[0m                       Traceback (most recent call last)",
      "\u001b[1;32mc:\\git\\python0tohero\\module practice\\jupyterreferencemodule.ipynb Cell 1\u001b[0m in \u001b[0;36m<cell line: 21>\u001b[1;34m()\u001b[0m\n\u001b[0;32m     <a href='vscode-notebook-cell:/c%3A/git/python0tohero/module%20practice/jupyterreferencemodule.ipynb#ch0000000?line=17'>18</a>\u001b[0m \u001b[39mif\u001b[39;00m module_path \u001b[39mnot\u001b[39;00m \u001b[39min\u001b[39;00m sys\u001b[39m.\u001b[39mpath:\n\u001b[0;32m     <a href='vscode-notebook-cell:/c%3A/git/python0tohero/module%20practice/jupyterreferencemodule.ipynb#ch0000000?line=18'>19</a>\u001b[0m     sys\u001b[39m.\u001b[39mpath\u001b[39m.\u001b[39mappend(module_path)\n\u001b[1;32m---> <a href='vscode-notebook-cell:/c%3A/git/python0tohero/module%20practice/jupyterreferencemodule.ipynb#ch0000000?line=20'>21</a>\u001b[0m \u001b[39mfrom\u001b[39;00m \u001b[39mjupyterimportmodule\u001b[39;00m \u001b[39mimport\u001b[39;00m my_func\n\u001b[0;32m     <a href='vscode-notebook-cell:/c%3A/git/python0tohero/module%20practice/jupyterreferencemodule.ipynb#ch0000000?line=22'>23</a>\u001b[0m my_func()\n",
      "\u001b[1;31mModuleNotFoundError\u001b[0m: No module named 'jupyterimportmodule'"
     ]
    }
   ],
   "source": [
    "modulepractice = __import__(\"module practice\")\n",
    "\n",
    "# from jupyterimportmodule import my_func()\n",
    "\n",
    "# import jupyterimportmodule\n",
    "# jupyterimportmodule.my_func()\n",
    "\n",
    "# my_func()\n",
    "\n",
    "# import os\n",
    "\n",
    "# print(os.getcwd())\n",
    "\n",
    "\n",
    "import os\n",
    "import sys\n",
    "module_path = os.path.abspath(os.path.join('..'))\n",
    "if module_path not in sys.path:\n",
    "    sys.path.append(module_path)\n",
    "\n",
    "from jupyterimportmodule import my_func\n",
    "\n",
    "my_func()"
   ]
  },
  {
   "cell_type": "code",
   "execution_count": null,
   "metadata": {},
   "outputs": [],
   "source": []
  }
 ],
 "metadata": {
  "kernelspec": {
   "display_name": "Python 3.9.12 ('base')",
   "language": "python",
   "name": "python3"
  },
  "language_info": {
   "codemirror_mode": {
    "name": "ipython",
    "version": 3
   },
   "file_extension": ".py",
   "mimetype": "text/x-python",
   "name": "python",
   "nbconvert_exporter": "python",
   "pygments_lexer": "ipython3",
   "version": "3.9.12"
  },
  "orig_nbformat": 4,
  "vscode": {
   "interpreter": {
    "hash": "4c077c30561241be03c41ae9383d0790cec0a69af14a8824d4f85b0977298f57"
   }
  }
 },
 "nbformat": 4,
 "nbformat_minor": 2
}
