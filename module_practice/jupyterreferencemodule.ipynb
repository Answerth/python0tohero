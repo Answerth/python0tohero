{
 "cells": [
  {
   "cell_type": "code",
   "execution_count": 2,
   "metadata": {},
   "outputs": [
    {
     "ename": "NameError",
     "evalue": "name 'my_func' is not defined",
     "output_type": "error",
     "traceback": [
      "\u001b[1;31m---------------------------------------------------------------------------\u001b[0m",
      "\u001b[1;31mNameError\u001b[0m                                 Traceback (most recent call last)",
      "\u001b[1;32mc:\\git\\python0tohero\\module_practice\\jupyterreferencemodule.ipynb Cell 1\u001b[0m in \u001b[0;36m<cell line: 39>\u001b[1;34m()\u001b[0m\n\u001b[0;32m     <a href='vscode-notebook-cell:/c%3A/git/python0tohero/module_practice/jupyterreferencemodule.ipynb#ch0000000?line=36'>37</a>\u001b[0m \u001b[39mfrom\u001b[39;00m \u001b[39mpracticeimport\u001b[39;00m \u001b[39mimport\u001b[39;00m jupyterimportmodule\n\u001b[0;32m     <a href='vscode-notebook-cell:/c%3A/git/python0tohero/module_practice/jupyterreferencemodule.ipynb#ch0000000?line=37'>38</a>\u001b[0m \u001b[39m# import jupyterimportmodule.my_func\u001b[39;00m\n\u001b[1;32m---> <a href='vscode-notebook-cell:/c%3A/git/python0tohero/module_practice/jupyterreferencemodule.ipynb#ch0000000?line=38'>39</a>\u001b[0m my_func()\n",
      "\u001b[1;31mNameError\u001b[0m: name 'my_func' is not defined"
     ]
    }
   ],
   "source": [
    "# modulepractice = __import__(\"module practice\")\n",
    "\n",
    "# # from jupyterimportmodule import my_func()\n",
    "\n",
    "# # import jupyterimportmodule\n",
    "# # jupyterimportmodule.my_func()\n",
    "\n",
    "# # my_func()\n",
    "\n",
    "# # import os\n",
    "\n",
    "# # print(os.getcwd())\n",
    "\n",
    "\n",
    "\n",
    "# module_path = os.path.abspath(os.path.join('..'))\n",
    "# if module_path not in sys.path:\n",
    "#     sys.path.append(module_path)\n",
    "# sys.path.append('c:/git/python0tohero/module_practice')\n",
    "# os.getcwd()\n",
    "# cwd = os.getcwd()\n",
    "# from module_practice \n",
    "\n",
    "\n",
    "# import  module_practice.jupyterimportmodule as jupyterimportmodule\n",
    "# jupyterimportmodule.myfunc()\n",
    "\n",
    "%reload_ext autoreload\n",
    "%autoreload 2\n",
    "\n",
    "import os\n",
    "import sys\n",
    "# # sys.path.insert(0, 'c:/git/python0tohero/module_practice/practiceimport')\n",
    "# sys.path.append('c:/git/python0tohero/module_practice/practiceimport')\n",
    "# print(os.getcwd())\n",
    "\n",
    "from practiceimport import jupyterimportmodule\n",
    "# import jupyterimportmodule.my_func\n",
    "my_func()\n"
   ]
  },
  {
   "cell_type": "code",
   "execution_count": null,
   "metadata": {},
   "outputs": [],
   "source": []
  }
 ],
 "metadata": {
  "kernelspec": {
   "display_name": "Python 3.9.12 ('base')",
   "language": "python",
   "name": "python3"
  },
  "language_info": {
   "codemirror_mode": {
    "name": "ipython",
    "version": 3
   },
   "file_extension": ".py",
   "mimetype": "text/x-python",
   "name": "python",
   "nbconvert_exporter": "python",
   "pygments_lexer": "ipython3",
   "version": "3.9.12"
  },
  "orig_nbformat": 4,
  "vscode": {
   "interpreter": {
    "hash": "4c077c30561241be03c41ae9383d0790cec0a69af14a8824d4f85b0977298f57"
   }
  }
 },
 "nbformat": 4,
 "nbformat_minor": 2
}
