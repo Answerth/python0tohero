{
 "cells": [
  {
   "cell_type": "code",
   "execution_count": 1,
   "metadata": {},
   "outputs": [],
   "source": [
    "# tic_tac_toe functions\n",
    "\n"
   ]
  },
  {
   "cell_type": "code",
   "execution_count": null,
   "metadata": {},
   "outputs": [],
   "source": [
    "from IPython.display import clear_output"
   ]
  },
  {
   "cell_type": "code",
   "execution_count": 2,
   "metadata": {},
   "outputs": [],
   "source": [
    "def display_board(board):\n",
    "    clear_output()\n",
    "    print('     |     |     ')\n",
    "    print('  '+ board[0][0] + '  |  ' + board[0][1] + '  |  ' + board[0][2] + '  ')\n",
    "    print('     |     |     ')\n",
    "    print('=================')\n",
    "    print('     |     |     ')\n",
    "    print('  '+ board[1][0] + '  |  ' + board[1][1] + '  |  ' + board[1][2] + '  ')\n",
    "    print('     |     |     ')\n",
    "    print('=================')\n",
    "    print('     |     |     ')\n",
    "    print('  '+ board[2][0] + '  |  ' + board[2][1] + '  |  ' + board[2][2] + '  ')\n",
    "    print('     |     |     ')"
   ]
  },
  {
   "cell_type": "code",
   "execution_count": 3,
   "metadata": {},
   "outputs": [],
   "source": [
    "def playerattributes():\n",
    "    xoro = ''\n",
    "    xoro2 = ''\n",
    "    player1 = {\"name\": '', \"assignment\": ''}\n",
    "    player2 = {\"name\": '', \"assignment\": ''}\n",
    "\n",
    "    player1name = input(print(\"What is player 1's name?: \"))\n",
    "    while xoro not in ['X', 'O']:\n",
    "        xoro = input(print(\"Will you be X or O?\")).upper()\n",
    "        if xoro not in ['X', 'O']:\n",
    "            print(\"Invalid input, try again\")\n",
    "    xoro = xoro.upper()\n",
    "    \n",
    "    if xoro == 'X':\n",
    "        xoro2 = 'O'\n",
    "    else:\n",
    "        xoro2 = 'X'\n",
    "\n",
    "    player2name = input(print(\"What is player 2's name?: \"))\n",
    "    \n",
    "    player1[\"name\"], player1[\"assignment\"], player2[\"name\"], player2[\"assignment\"] = player1name, xoro, player2name, xoro2\n",
    "    print(player1)\n",
    "    print(player2)\n",
    "\n",
    "    whosefirst = int(input(print(\"Who is going first? Enter \\\"1\\\" or \\\"2\\\": \")))\n",
    "    currentplayer = ''\n",
    "    if whosefirst == 1:\n",
    "        currentplayer = player1\n",
    "    else:\n",
    "        currentplayer = player2\n",
    "    print(f'Alright {currentplayer[\"name\"]}, you are assigned \"{currentplayer[\"assignment\"]}\" and it\\'s your turn!')\n",
    "    print('enter the number correcponding with your move: ')\n",
    "    print('1 | 2 | 3')\n",
    "    print('---------')    \n",
    "    print('4 | 5 | 6')\n",
    "    print('---------')    \n",
    "    print('7 | 8 | 9')\n",
    "    return currentplayer, player1, player2"
   ]
  },
  {
   "cell_type": "code",
   "execution_count": null,
   "metadata": {},
   "outputs": [],
   "source": []
  }
 ],
 "metadata": {
  "kernelspec": {
   "display_name": "Python 3.10.5 64-bit (windows store)",
   "language": "python",
   "name": "python3"
  },
  "language_info": {
   "codemirror_mode": {
    "name": "ipython",
    "version": 3
   },
   "file_extension": ".py",
   "mimetype": "text/x-python",
   "name": "python",
   "nbconvert_exporter": "python",
   "pygments_lexer": "ipython3",
   "version": "3.10.5"
  },
  "orig_nbformat": 4,
  "vscode": {
   "interpreter": {
    "hash": "d1693dde9c7abe2212e4390d3658f39ad9d41d72d022f9505dc2746c33380b22"
   }
  }
 },
 "nbformat": 4,
 "nbformat_minor": 2
}
