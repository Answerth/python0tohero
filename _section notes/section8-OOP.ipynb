{
 "cells": [
  {
   "cell_type": "code",
   "execution_count": 1,
   "metadata": {},
   "outputs": [],
   "source": [
    "# Section 8: OOP"
   ]
  },
  {
   "cell_type": "code",
   "execution_count": 2,
   "metadata": {},
   "outputs": [],
   "source": [
    "# general syntax\n",
    "\n",
    "#self lets python know that the method is attached to a class rather than being a regular function\n",
    "\n",
    "class NameOfClass():\n",
    "\n",
    "    def __init__(self,param1,param2):\n",
    "        self.param1 = param1\n",
    "        self.param2 = param2\n",
    "\n",
    "    def some_method(self):\n",
    "        #perform some action\n",
    "        print(self.param1)"
   ]
  },
  {
   "cell_type": "code",
   "execution_count": 29,
   "metadata": {},
   "outputs": [],
   "source": [
    "#creat a user defined object\n",
    "\n",
    "mylist = [1,2,3]\n",
    "\n",
    "class Dog():\n",
    "\n",
    "    # Class object attribute\n",
    "    # Same for any instance of a class\n",
    "    species = 'mammal'\n",
    "\n",
    "    def __init__(self,breed,name,spots):\n",
    "        # Attributes\n",
    "        # We take in the argument\n",
    "        # Assign it using self.attribute_name\n",
    "        self.breed = breed\n",
    "        self.name = name\n",
    "\n",
    "        #Expect Bool\n",
    "        self.spots = spots\n",
    "\n",
    "    # Operations/Actions ---> Methods\n",
    "\n",
    "    def bark(self):\n",
    "        print(\"woof! My name is {}\".format(self.name))\n",
    "\n",
    "\n",
    "\n",
    "# my_dog = Dog(breed ='Lab', name=\"rufus\",spots=False)  This works, but attribute names don't need to be specified\n",
    "mydog  = Dog('Lab', 'Frankie', False)\n",
    "# print(type(my_dog))\n",
    "# print(my_dog.name)\n",
    "# print(my_dog.species)\n"
   ]
  },
  {
   "cell_type": "code",
   "execution_count": 34,
   "metadata": {},
   "outputs": [
    {
     "name": "stdout",
     "output_type": "stream",
     "text": [
      "woof! My name is Frankie\n"
     ]
    }
   ],
   "source": [
    "mydog.bark()\n"
   ]
  },
  {
   "cell_type": "code",
   "execution_count": 44,
   "metadata": {},
   "outputs": [
    {
     "name": "stdout",
     "output_type": "stream",
     "text": [
      "woof! My name is doggo and the number is 10\n"
     ]
    }
   ],
   "source": [
    "class Dog():\n",
    "\n",
    "    species = 'mammal'\n",
    "\n",
    "    def __init__(self,breed,name,spots):\n",
    "\n",
    "        self.breed = breed\n",
    "        self.name = name\n",
    "\n",
    "        #Expect Bool\n",
    "        self.spots = spots\n",
    "\n",
    "    def bark(self, number):\n",
    "        print(\"woof! My name is {} and the number is {}\".format(self.name, number))\n",
    "\n",
    "\n",
    "mydog  = Dog('Lab', 'Frankie', False)\n",
    "my_dog = Dog('labrador', 'doggo', True)\n",
    "my_dog.bark(10)"
   ]
  },
  {
   "cell_type": "code",
   "execution_count": 59,
   "metadata": {},
   "outputs": [
    {
     "data": {
      "text/plain": [
       "20"
      ]
     },
     "execution_count": 59,
     "metadata": {},
     "output_type": "execute_result"
    }
   ],
   "source": [
    "class Circle(): \n",
    "\n",
    "    # Class object attribute\n",
    "    pi = 3.14\n",
    "\n",
    "    def __init__(self, radius=1):\n",
    "        self.radius = radius\n",
    "        self.area = radius*radius*Circle.pi # This naming convention makes it easier to identify as a class object attribute\n",
    "        #self.area = radius*radius*self.pi\n",
    "\n",
    "    # Method\n",
    "\n",
    "    def get_circumference(self): \n",
    "        return self.radius * Circle.pi * 2\n",
    "\n"
   ]
  },
  {
   "cell_type": "code",
   "execution_count": 68,
   "metadata": {},
   "outputs": [
    {
     "name": "stdout",
     "output_type": "stream",
     "text": [
      "radius: 20\n",
      "circumference: 125.60000000000001\n",
      "area: 1256\n"
     ]
    }
   ],
   "source": [
    "my_circle = Circle(20)\n",
    "print(f\"radius: {my_circle.radius}\")\n",
    "print(\"circumference: {}\".format(my_circle.get_circumference()))\n",
    "print(\"area: %d\" % my_circle.area)"
   ]
  },
  {
   "cell_type": "code",
   "execution_count": 73,
   "metadata": {},
   "outputs": [
    {
     "name": "stdout",
     "output_type": "stream",
     "text": [
      "Animal Created\n",
      "I am eating\n",
      "None\n",
      "I am an animal\n",
      "None\n"
     ]
    }
   ],
   "source": [
    "class Animal():\n",
    "\n",
    "    def __init__(self):\n",
    "        print(\"Animal Created\")\n",
    "\n",
    "    def who_am_i(self):\n",
    "        print(\"I am an animal\")\n",
    "\n",
    "    def eat(self):\n",
    "        print(\"I am eating\")\n",
    "\n",
    "myanimal = Animal()\n",
    "print(myanimal.eat())\n",
    "print(myanimal.who_am_i())\n",
    "    "
   ]
  },
  {
   "cell_type": "code",
   "execution_count": 80,
   "metadata": {},
   "outputs": [
    {
     "name": "stdout",
     "output_type": "stream",
     "text": [
      "Animal Created\n",
      "Cat Created\n",
      "I am a cat and eating\n",
      "None\n",
      "I am a cat\n",
      "None\n"
     ]
    }
   ],
   "source": [
    "# Inheritance \n",
    "\n",
    "class Cat(Animal):\n",
    "\n",
    "    def __init__(self):\n",
    "        Animal.__init__(self)\n",
    "        print(\"Cat Created\")\n",
    "\n",
    "    def who_am_i(self):\n",
    "        print(\"I am a cat\")\n",
    "\n",
    "    def eat(self):\n",
    "        print(\"I am a cat and eating\")\n",
    "\n",
    "mycat = Cat()\n",
    "\n",
    "print(mycat.eat())\n",
    "print(mycat.who_am_i())"
   ]
  },
  {
   "cell_type": "code",
   "execution_count": 82,
   "metadata": {},
   "outputs": [],
   "source": [
    "# Polymorphism - different object classes can share the same method name\n",
    "\n",
    "class Animal(): \n",
    "\n",
    "    def __init__(self, name):\n",
    "        self.name = name\n",
    "\n",
    "    def speak(self): \n",
    "        raise NotImplementedError(\"Subclass must implement this abstract method\")\n",
    "\n",
    "class Dog(Animal):\n",
    "\n",
    "    def speak(self):\n",
    "        return self.name + \" says woof\"\n",
    "\n",
    "class Cat(Animal):\n",
    "\n",
    "    def speak(self):\n",
    "        return self.name + \" says meow\"\n"
   ]
  },
  {
   "cell_type": "code",
   "execution_count": 87,
   "metadata": {},
   "outputs": [
    {
     "name": "stdout",
     "output_type": "stream",
     "text": [
      "<class '__main__.Dog'>\n",
      "Fido says woof\n",
      "<class '__main__.Cat'>\n",
      "Toast says meow\n",
      "Fido says woof\n"
     ]
    }
   ],
   "source": [
    "fido = Dog(\"Fido\")\n",
    "toast = Cat(\"Toast\")\n",
    "\n",
    "for pet in [fido, toast]:\n",
    "    print(type(pet))\n",
    "    print(pet.speak())\n",
    "\n",
    "def pet_speak(pet):\n",
    "    print(pet.speak())\n",
    "\n",
    "pet_speak(fido)\n"
   ]
  },
  {
   "cell_type": "code",
   "execution_count": 1,
   "metadata": {},
   "outputs": [],
   "source": [
    "# Special (Magic/Dunder) Methods\n",
    "\n"
   ]
  },
  {
   "cell_type": "code",
   "execution_count": 15,
   "metadata": {},
   "outputs": [
    {
     "name": "stdout",
     "output_type": "stream",
     "text": [
      "How to read by ai_bot_5425\n",
      "How to read by ai_bot_5425\n"
     ]
    },
    {
     "data": {
      "text/plain": [
       "100"
      ]
     },
     "execution_count": 15,
     "metadata": {},
     "output_type": "execute_result"
    }
   ],
   "source": [
    "class Book():\n",
    "\n",
    "    def __init__(self, title, author, pages):\n",
    "        self.title = title\n",
    "        self.author = author\n",
    "        self.pages = pages\n",
    "\n",
    "    def __str__(self):\n",
    "        return f\"{self.title} by {self.author}\"\n",
    "\n",
    "    def __len__(self):\n",
    "        return self.pages\n",
    "\n",
    "    def __del__(self):\n",
    "        print(\"A book object has been deleted\")\n",
    "\n",
    "b = Book(\"How to read\", \"ai_bot_5425\", 100)\n",
    "\n",
    "print(b)\n",
    "print(str(b))\n",
    "\n",
    "len(b)\n"
   ]
  },
  {
   "cell_type": "code",
   "execution_count": 18,
   "metadata": {},
   "outputs": [
    {
     "ename": "NameError",
     "evalue": "name 'b' is not defined",
     "output_type": "error",
     "traceback": [
      "\u001b[1;31m---------------------------------------------------------------------------\u001b[0m",
      "\u001b[1;31mNameError\u001b[0m                                 Traceback (most recent call last)",
      "\u001b[1;32mc:\\git\\python0tohero\\_section notes\\section8-OOP.ipynb Cell 14\u001b[0m in \u001b[0;36m<cell line: 1>\u001b[1;34m()\u001b[0m\n\u001b[1;32m----> <a href='vscode-notebook-cell:/c%3A/git/python0tohero/_section%20notes/section8-OOP.ipynb#ch0000013?line=0'>1</a>\u001b[0m \u001b[39mdel\u001b[39;00m b\n\u001b[0;32m      <a href='vscode-notebook-cell:/c%3A/git/python0tohero/_section%20notes/section8-OOP.ipynb#ch0000013?line=1'>2</a>\u001b[0m b\n",
      "\u001b[1;31mNameError\u001b[0m: name 'b' is not defined"
     ]
    }
   ],
   "source": [
    "del b\n",
    "b"
   ]
  },
  {
   "cell_type": "code",
   "execution_count": null,
   "metadata": {},
   "outputs": [],
   "source": []
  }
 ],
 "metadata": {
  "kernelspec": {
   "display_name": "Python 3.9.12 ('base')",
   "language": "python",
   "name": "python3"
  },
  "language_info": {
   "codemirror_mode": {
    "name": "ipython",
    "version": 3
   },
   "file_extension": ".py",
   "mimetype": "text/x-python",
   "name": "python",
   "nbconvert_exporter": "python",
   "pygments_lexer": "ipython3",
   "version": "3.9.12"
  },
  "orig_nbformat": 4,
  "vscode": {
   "interpreter": {
    "hash": "4c077c30561241be03c41ae9383d0790cec0a69af14a8824d4f85b0977298f57"
   }
  }
 },
 "nbformat": 4,
 "nbformat_minor": 2
}
